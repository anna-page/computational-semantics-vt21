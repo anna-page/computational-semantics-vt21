{
 "cells": [
  {
   "cell_type": "markdown",
   "metadata": {},
   "source": [
    "# Lab 3: Word Embeddings and Language Modelling\n",
    "\n",
    "Adam Ek"
   ]
  },
  {
   "cell_type": "markdown",
   "metadata": {},
   "source": [
    "In this lab we'll explore constructing *static* word embeddings (i.e. word2vec) and building language models. We'll also evaluate these systems on intermediate tasks, namely word similarity and identifying \"good\" and \"bad\" sentences.\n",
    "\n",
    "* For this we'll use pytorch. Some basic operations that will be useful can be found here: https://jhui.github.io/2018/02/09/PyTorch-Basic-operations\n",
    "* In general: we are not interested in getting state-of-the-art performance :) focus on the implementation and not results of your model. For this reason, you can use a subset of the dataset: the first 5000-10 000 sentences or so, on linux/mac: ```head -n 10000 inputfile > outputfile```. \n",
    "* If possible, use the MLTGpu, it will make everything faster :)"
   ]
  },
  {
   "cell_type": "code",
   "execution_count": 1,
   "metadata": {},
   "outputs": [],
   "source": [
    "import torch\n",
    "import torch.nn as nn\n",
    "import torch.nn.functional as F\n",
    "import numpy as np\n",
    "import pandas as pd\n",
    "\n",
    "# for gpu, replace \"cpu\" with \"cuda:n\" where n is the index of the GPU\n",
    "device = torch.device('cpu')"
   ]
  },
  {
   "cell_type": "markdown",
   "metadata": {},
   "source": [
    "# Word2Vec embeddings\n",
    "\n",
    "In this first part we'll construct a word2vec model which will give us *static* word embeddings (that is, they are fixed after training).\n",
    "\n",
    "After we've trained our model we will evaluate the embeddings obtained on a word similarity task."
   ]
  },
  {
   "cell_type": "markdown",
   "metadata": {},
   "source": [
    "## Formatting data\n"
   ]
  },
  {
   "cell_type": "markdown",
   "metadata": {},
   "source": [
    "First we need to load some data, you can download the file on canvas under files/03-lab-data/wiki-corpus.txt. The file contains 50 000 sentences randomly selected from the complete wikipedia. Each line in the file contains one sentence. The sentences are whitespace tokenized.\n",
    "\n",
    "Your first task is to create a dataset suitable for word2vec. That is, we define some ```window_size``` then iterate over all sentences in the dataset, putting the center word in one field and the context words in another (separate the fields with ```tab```).\n",
    "\n",
    "For example, the sentece \"this is a lab\" with ```window size = 4``` will be formatted as:\n",
    "```\n",
    "center, context\n",
    "---------------------\n",
    "this    is a\n",
    "is      this a lab\n",
    "a       this is lab\n",
    "lab     is a\n",
    "```\n",
    "\n",
    "this will be our training examples when training the word2vec model.\n",
    "\n",
    "[3 marks]"
   ]
  },
  {
   "cell_type": "code",
   "execution_count": 2,
   "metadata": {},
   "outputs": [],
   "source": [
    "data_path = 'wiki-corpus.txt'\n",
    "WINDOW_SIZE = 4\n",
    "\n",
    "def corpus_reader(data_path, window_size):\n",
    "    with open(data_path, \"r\") as f:\n",
    "        content = f.read()\n",
    "        \n",
    "    content_list = content.splitlines()[:5000]\n",
    "    window = int(window_size / 2)\n",
    "    center_and_context = {\n",
    "        \"centre\": [],\n",
    "        \"context\": [],\n",
    "    }\n",
    "        \n",
    "    for sentence in content_list:\n",
    "        sentence = sentence.split(' ')\n",
    "        \n",
    "        for i in range(len(sentence)):\n",
    "            before = sentence[max(i - window, 0): i]\n",
    "            after = sentence[i + 1: i + window + 1]\n",
    "\n",
    "            center_and_context[\"centre\"].append(sentence[i])\n",
    "            center_and_context[\"context\"].append(\" \".join([w for l in [before, after] for w in l]))\n",
    "    \n",
    "    df = pd.DataFrame(center_and_context)           \n",
    "    return df\n",
    "        \n",
    "foo = corpus_reader(data_path, WINDOW_SIZE)\n",
    "foo.to_csv(\"training_data.csv\", sep=\"\\t\", index=False)"
   ]
  },
  {
   "cell_type": "markdown",
   "metadata": {},
   "source": [
    "We sampled 50 000 senteces completely random from the *whole* wikipedia for our training data. Give some reasons why this is good, and why it might be bad. (*note*: We'll have a few questions like these, one or two reasons for and against is sufficient)\n",
    "\n",
    "[2 marks]"
   ]
  },
  {
   "cell_type": "markdown",
   "metadata": {},
   "source": [
    "Pros: It gives a fairly wide coverage of different types of sentences with different topics, words, etc.\n",
    "Cons: It might be too general ??? skasdoaksdoaps"
   ]
  },
  {
   "cell_type": "code",
   "execution_count": 3,
   "metadata": {},
   "outputs": [],
   "source": [
    "\n",
    "from torchtext.legacy.data import Field, BucketIterator, Iterator, TabularDataset\n"
   ]
  },
  {
   "cell_type": "markdown",
   "metadata": {},
   "source": [
    "### Loading the data\n",
    "\n",
    "We now need to load the data in an appropriate format for torchtext (https://torchtext.readthedocs.io/en/latest/). We'll use PyText for this and it'll follow the same structure as I showed you in the lecture (remember to lower-case all tokens). Create a function which returns a (bucket)iterator of the training data, and the vocabulary object (```Field```). \n",
    "\n",
    "(*hint1*: you can format the data such that the center word always is first, then you only need to use one field)\n",
    "\n",
    "(*hint2*: the code I showed you during the leture is available in /files/pytorch_tutorial/ on canvas)\n",
    "\n",
    "[4 marks]"
   ]
  },
  {
   "cell_type": "code",
   "execution_count": 4,
   "metadata": {},
   "outputs": [],
   "source": [
    "\n",
    "def get_data():\n",
    "    ddir = 'training_data.csv'\n",
    "    whitespacer = lambda x: x.split(' ')\n",
    "\n",
    "    TOKENS = Field(\n",
    "        tokenize=whitespacer,\n",
    "        lower=True,                   \n",
    "        batch_first=True\n",
    "    ) \n",
    "\n",
    "    train = TabularDataset(\n",
    "        path=ddir,                 \n",
    "        format='csv',                                        \n",
    "        fields=[\n",
    "            ('target', TOKENS),\n",
    "            ('context', TOKENS),\n",
    "        ],                                        \n",
    "        skip_header=True,                                        \n",
    "        csv_reader_params={\n",
    "            'delimiter':'\\t',                                                             \n",
    "            'quotechar':'½',\n",
    "        }\n",
    "    )\n",
    "\n",
    "    TOKENS.build_vocab(train)\n",
    "    \n",
    "    train_iter = BucketIterator(\n",
    "        train,                                                  \n",
    "        batch_size=16,\n",
    "        sort_within_batch=True,                                                  \n",
    "        sort_key=lambda x: len(x.target),                                                  \n",
    "        shuffle=True,                                                  \n",
    "        device=device\n",
    "    )   \n",
    "    \n",
    "    return train_iter, TOKENS"
   ]
  },
  {
   "cell_type": "code",
   "execution_count": 5,
   "metadata": {},
   "outputs": [],
   "source": [
    "center, context = get_data()"
   ]
  },
  {
   "cell_type": "code",
   "execution_count": null,
   "metadata": {},
   "outputs": [],
   "source": []
  },
  {
   "cell_type": "markdown",
   "metadata": {},
   "source": [
    "We lower-cased all tokens above; give some reasons why this is a good idea, and why it may be harmful to our embeddings.\n",
    "\n",
    "[2 marks]"
   ]
  },
  {
   "cell_type": "markdown",
   "metadata": {},
   "source": [
    "a capital letter might indicate the beginning of a sentence or a pronoun"
   ]
  },
  {
   "cell_type": "markdown",
   "metadata": {},
   "source": [
    "## Word Embeddings Model"
   ]
  },
  {
   "cell_type": "markdown",
   "metadata": {},
   "source": [
    "We will implement the CBOW model for constructing word embedding models."
   ]
  },
  {
   "cell_type": "code",
   "execution_count": 6,
   "metadata": {},
   "outputs": [],
   "source": [
    "import torch.optim as optim"
   ]
  },
  {
   "cell_type": "markdown",
   "metadata": {},
   "source": [
    "In the CBOW model we try to predict the center word based on the context. That is, we take as input ```n``` context words, encode them as vectors, then combine them by summation. This will give us one embedding. We then use this embedding to predict *which* word in our vocabuary is the most likely center word. \n",
    "\n",
    "Implement this model \n",
    "\n",
    "[7 marks]"
   ]
  },
  {
   "cell_type": "code",
   "execution_count": 7,
   "metadata": {},
   "outputs": [],
   "source": [
    "class CBOWModel(nn.Module):\n",
    "    def __init__(self, n_words, emb_dim):\n",
    "        super(CBOWModel, self).__init__()\n",
    "        self.embeddings = nn.Embedding(n_words, emb_dim)\n",
    "        self.prediction = nn.Linear(emb_dim, n_words)\n",
    "    \n",
    "    def forward(self, context):\n",
    "        embedded_context = self.embeddings(context)\n",
    "        projection = self.projection_function(embedded_context)\n",
    "        predictions = self.prediction(projection)\n",
    "\n",
    "        return predictions\n",
    "        \n",
    "    def projection_function(self, xs):\n",
    "        \"\"\"\n",
    "        This function will take as input a tensor of size (B, S, D)\n",
    "        where B is the batch_size, S the window size, and D the dimensionality of embeddings\n",
    "        this function should compute the sum over the embedding dimensions of the input, \n",
    "        that is, we transform (B, S, D) to (B, 1, D) or (B, D) \n",
    "        \"\"\"\n",
    "        xs_sum = torch.sum(xs, dim=-2)\n",
    "        return xs_sum"
   ]
  },
  {
   "cell_type": "code",
   "execution_count": null,
   "metadata": {},
   "outputs": [],
   "source": []
  },
  {
   "cell_type": "markdown",
   "metadata": {},
   "source": [
    "Now we need to train the models. First we define which hyperparameters to use. (You can change these, for example when *developing* your model you can use a batch size of 2 and a very low dimensionality (say 10), just to speed things up). When actually training your model *fo real*, you can use a batch size of [8,16,32,64], and embedding dimensionality of [128,256]."
   ]
  },
  {
   "cell_type": "code",
   "execution_count": 8,
   "metadata": {},
   "outputs": [],
   "source": [
    "# you can change these numbers to suit your needs :)\n",
    "dataset, vocab = get_data()\n",
    "word_embeddings_hyperparameters = {'epochs':3,\n",
    "                                   'batch_size':16,\n",
    "                                   'embedding_size':128,\n",
    "                                   'learning_rate':0.001,\n",
    "                                   'embedding_dim':128}"
   ]
  },
  {
   "cell_type": "markdown",
   "metadata": {},
   "source": [
    "Train your model. Iterate over the dataset, get outputs from your model, calculate loss and backpropagate.\n",
    "\n",
    "We mentioned in the lecture that we use Negative Log Likelihood (https://pytorch.org/docs/stable/generated/torch.nn.NLLLoss.html) loss to train Word2Vec model. In this lab we'll take a shortcut when *training* and use Cross Entropy Loss (https://pytorch.org/docs/stable/generated/torch.nn.CrossEntropyLoss.html), basically it combines ```log_softmax``` and ```NLLLoss```. So what your model should output is a *score* for each word in our vocabulary. The ```CrossEntropyLoss``` will then assign probabilities and calculate the negative log likelihood loss.\n",
    "\n",
    "[3 marks]"
   ]
  },
  {
   "cell_type": "code",
   "execution_count": 9,
   "metadata": {},
   "outputs": [],
   "source": [
    "# load data\n",
    "dataset, vocab = get_data()\n",
    "\n",
    "# build model and construct loss/optimizer\n",
    "cbow_model = CBOWModel( \n",
    "    n_words=len(vocab.vocab),\n",
    "    emb_dim=word_embeddings_hyperparameters['embedding_dim']\n",
    ")\n",
    "\n",
    "cbow_model.to(device)\n",
    "loss_fn = nn.CrossEntropyLoss()\n",
    "optimizer = optim.Adam(cbow_model.parameters(), lr=word_embeddings_hyperparameters['learning_rate'])\n"
   ]
  },
  {
   "cell_type": "code",
   "execution_count": 12,
   "metadata": {},
   "outputs": [
    {
     "name": "stdout",
     "output_type": "stream",
     "text": [
      "7.7794695569048475\n",
      "13.792637217209614\n",
      "19.093325332200045\n"
     ]
    }
   ],
   "source": [
    "\n",
    "# start training loop\n",
    "total_loss = 0\n",
    "for epoch in range(word_embeddings_hyperparameters['epochs']):\n",
    "    for i, batch in enumerate(dataset):\n",
    "        \n",
    "        context = batch.context\n",
    "        target_word = batch.target\n",
    "        \n",
    "        # send your batch of sentences to the model\n",
    "        output = cbow_model(context)\n",
    "        \n",
    "        # compute the loss, you'll need to reshape the input\n",
    "        # you can read more about this is the documentation for\n",
    "        # CrossEntropyLoss\n",
    "        loss = loss_fn(output, target_word.reshape(-1))\n",
    "        total_loss += loss.item()\n",
    "        \n",
    "        # print average loss for the epoch\n",
    "        print(total_loss/(i+1), end='\\r') \n",
    "        \n",
    "        # compute gradients\n",
    "        loss.backward()\n",
    "        \n",
    "        # update parameters\n",
    "        optimizer.step()\n",
    "        \n",
    "        # reset gradients\n",
    "        optimizer.zero_grad()\n",
    "    print()\n",
    "        "
   ]
  },
  {
   "cell_type": "code",
   "execution_count": 13,
   "metadata": {},
   "outputs": [],
   "source": [
    "torch.save(cbow_model,\"model\")"
   ]
  },
  {
   "cell_type": "code",
   "execution_count": 10,
   "metadata": {},
   "outputs": [],
   "source": [
    "cbow_model = torch.load(\"model\")"
   ]
  },
  {
   "cell_type": "code",
   "execution_count": 11,
   "metadata": {},
   "outputs": [
    {
     "name": "stdout",
     "output_type": "stream",
     "text": [
      "tensor([[ 0.4616, -0.4370,  0.6094, -2.5003, -0.0399, -0.6730,  0.8233, -1.9801,\n",
      "          0.2130, -0.6725,  1.4609, -1.6610,  0.5300, -0.3958, -0.2150, -0.4479,\n",
      "          1.3769,  0.7278,  0.3227,  0.2877, -1.2614,  0.3234, -0.2809,  0.7944,\n",
      "          0.4774, -0.2587, -1.0860, -0.0977, -0.5257,  0.7849, -1.9698,  1.9914,\n",
      "         -0.6868, -1.4798, -1.1967,  0.0049,  0.3359,  0.4941, -1.4552, -2.2216,\n",
      "          0.2248,  0.5556,  0.0345,  1.4029,  0.9312,  1.9038,  1.5891,  0.1998,\n",
      "         -1.2094,  0.1044,  0.8550,  0.5072,  0.5406, -0.3947,  0.4393,  1.0943,\n",
      "          0.0820, -0.7398,  1.4119, -0.8577,  2.0025,  0.7836, -0.7303,  1.0984,\n",
      "          0.8274, -0.1341, -1.0215,  0.0312, -0.4355, -0.7348, -1.0244,  1.3677,\n",
      "         -0.0763,  1.1809, -1.3128, -0.7483, -1.8014,  0.3068,  0.8211, -1.7521,\n",
      "          0.7463,  0.8091, -1.4162, -0.4463, -1.1359,  0.2685, -0.6925,  1.4683,\n",
      "         -0.5736, -0.2304, -0.5217,  0.8267,  0.3177, -1.5126, -1.1772,  0.0508,\n",
      "          0.4084, -0.2804, -1.3322,  1.1410, -0.4633,  0.0028, -0.0959,  0.4049,\n",
      "          1.7522, -0.4314, -0.9107,  0.8961,  0.4398,  1.0880, -1.4739, -0.7196,\n",
      "          0.4902, -0.2414, -0.0363, -0.8092,  0.2111, -1.1208, -0.4814,  0.6278,\n",
      "          0.4196, -1.1372, -0.6209, -0.3460,  0.2739, -0.8482,  0.5869,  0.6741]],\n",
      "       grad_fn=<EmbeddingBackward>)\n"
     ]
    }
   ],
   "source": [
    "word_to_ix = {\"hello\": 0, \"world\": 1}\n",
    "embeds = cbow_model.embeddings  # 2 words in vocab, 5 dimensional embeddings\n",
    "lookup_tensor = torch.tensor([word_to_ix[\"hello\"]], dtype=torch.long)\n",
    "hello_embed = embeds(lookup_tensor)\n",
    "print(hello_embed)"
   ]
  },
  {
   "cell_type": "markdown",
   "metadata": {},
   "source": [
    "## Evaluating the model"
   ]
  },
  {
   "cell_type": "markdown",
   "metadata": {},
   "source": [
    "We will evaluate the model on a dataset of word similarities, WordSim353 (http://alfonseca.org/eng/research/wordsim353.html , also avalable in vanvas under files/03-l). The first thing we need to do is read the dataset and translate it to integers. What we'll do is to reuse the ```Field``` that records word indexes (the second output of ```get_data()```) and use it to parse the file.\n",
    "\n",
    "The wordsim data is structured as follows:\n",
    "\n",
    "```\n",
    "word1 word2 score\n",
    "...\n",
    "```\n",
    "\n",
    "\n",
    "The ```Field``` we got from ```read_data()``` has two built-in functions, ```stoi``` which maps a string to an integer and ```itos``` which maps an integer to a string. \n",
    "\n",
    "What our datareader needs to do is: \n",
    "\n",
    "```\n",
    "for line in file:\n",
    "    word1, word2, score = file.split()\n",
    "    # encode word1 and word2 as integers\n",
    "    word1_idx = vocab.vocab.stoi[word1]\n",
    "    word2_idx = vocab.vocab.stoi[word2]\n",
    "```\n",
    "\n",
    "when we have the integers for ```word_1``` and ```word2``` we'll compute the similarity between their word embeddings with *cosine simlarity*. We can obtain the embeddings by querying the embedding layer of the model.\n",
    "\n",
    "We calculate the cosine similarity for each word pair in the dataset, then compute the pearson correlation between the similarities we obtained with the scores given in the dataset. \n",
    "\n",
    "[4 marks]"
   ]
  },
  {
   "cell_type": "code",
   "execution_count": 13,
   "metadata": {},
   "outputs": [
    {
     "name": "stdout",
     "output_type": "stream",
     "text": [
      "[[1.         0.26582633]\n",
      " [0.26582633 1.        ]]\n"
     ]
    }
   ],
   "source": [
    "def read_wordsim(path, vocab, embeddings):\n",
    "    dataset_sims = []\n",
    "    model_sims = []\n",
    "    words = []\n",
    "    with open(path) as f:\n",
    "        for line in f:\n",
    "            word1, word2, score = line.split()\n",
    "\n",
    "            score = float(score)\n",
    "            dataset_sims.append(score)\n",
    "            \n",
    "            # get the index for the word\n",
    "            word1_idx = vocab.vocab.stoi[word1]\n",
    "            word2_idx = vocab.vocab.stoi[word2]\n",
    "\n",
    "            # get the embedding of the word\n",
    "            word1_emb = embeddings(torch.LongTensor([word1_idx]))\n",
    "            word2_emb = embeddings(torch.LongTensor([word2_idx]))\n",
    "            \n",
    "            # compute cosine similarity, we'll use the version included in pytorch functional\n",
    "            # https://pytorch.org/docs/master/generated/torch.nn.functional.cosine_similarity.html\n",
    "            cosine_similarity = F.cosine_similarity(word1_emb,word2_emb)\n",
    "            \n",
    "            x = word1, word2\n",
    "            \n",
    "            words.append(x)\n",
    "            \n",
    "            model_sims.append(cosine_similarity.item())\n",
    "    \n",
    "    return dataset_sims, model_sims, words\n",
    "\n",
    "path = 'wordsim_similarity_goldstandard.txt'\n",
    "data, model, words = read_wordsim(path, vocab, cbow_model.embeddings)\n",
    "pearson_correlation = np.corrcoef(data, model)\n",
    "            \n",
    "# the non-diagonals give the pearson correlation,\n",
    "print(pearson_correlation)\n",
    "\n",
    "abc = [(x+1)*5 for x in model]"
   ]
  },
  {
   "cell_type": "markdown",
   "metadata": {},
   "source": [
    "The first value is a comparison between wordsim and itself and the second value is a comparsion between wordsim and our model.\n",
    "For the second row the values are reversed.\n",
    "\n",
    "0 = no correlation\n",
    "1 = perfect correlation\n",
    "\n",
    "There seems to be a weak correlation between our model and the wordsim model (0.22).\n",
    "\n",
    "######################try it with more sentences############################"
   ]
  },
  {
   "cell_type": "markdown",
   "metadata": {},
   "source": [
    "Do you think the model performs good or bad? Why?\n",
    "\n",
    "[3 marks]"
   ]
  },
  {
   "cell_type": "code",
   "execution_count": 15,
   "metadata": {},
   "outputs": [
    {
     "name": "stdout",
     "output_type": "stream",
     "text": [
      "Best indices:  [1, 110, 71, 109, 103, 91, 107, 112, 114, 104]\n",
      "Worst indices:  [196, 21, 202, 199, 17, 193, 28, 74, 197, 18]\n",
      "The best performances: \n",
      "\n",
      "\n",
      "0 0\n",
      "('tiger', 'tiger', '10.00')\n",
      "\n",
      "2665 388\n",
      "('ministry', 'culture', '4.69')\n",
      "\n",
      "1917 1145\n",
      "('travel', 'activity', '5.00')\n",
      "\n",
      "1657 525\n",
      "('consumer', 'energy', '4.75')\n",
      "\n",
      "1963 580\n",
      "('street', 'children', '4.94')\n",
      "\n",
      "479 1269\n",
      "('man', 'governor', '5.25')\n",
      "\n",
      "385 7460\n",
      "('word', 'similarity', '4.75')\n",
      "\n",
      "4693 972\n",
      "('investigation', 'effort', '4.59')\n",
      "\n",
      "147 209\n",
      "('life', 'term', '4.50')\n",
      "\n",
      "1507 805\n",
      "('car', 'flight', '4.94')\n",
      "The worst performances: \n",
      "\n",
      "0 0\n",
      "('lad', 'wizard', '0.92')\n",
      "0 0\n",
      "('Arafat', 'Jackson', '2.50')\n",
      "210 0\n",
      "('king', 'cabbage', '0.23')\n",
      "0 1911\n",
      "('noon', 'string', '0.54')\n",
      "0 1540\n",
      "('fuck', 'sex', '9.44')\n",
      "2099 147\n",
      "('stock', 'life', '0.92')\n",
      "4702 18000\n",
      "('journey', 'voyage', '9.29')\n",
      "1963 7860\n",
      "('street', 'avenue', '8.88')\n",
      "3168 1027\n",
      "('sugar', 'approach', '0.88')\n",
      "559 16868\n",
      "('football', 'soccer', '9.03')\n"
     ]
    }
   ],
   "source": [
    "model\n",
    "\n",
    "# you can compute the difference between data (which contains gold standard similarity)\n",
    "\n",
    "difference = abs(np.array(data) - np.array(abc))\n",
    "\n",
    "# print(difference[torch.topk(torch.from_numpy(-difference), 10)[1].numpy()])\n",
    "\n",
    "# ordered = sorted(difference)\n",
    "# print(ordered[:10])\n",
    "# print(ordered[-10:])\n",
    "\n",
    "from operator import itemgetter\n",
    "from heapq import nlargest\n",
    "from heapq import nsmallest\n",
    "\n",
    "best = nsmallest(10, enumerate(difference), itemgetter(1))\n",
    "\n",
    "worst = nlargest(10, enumerate(difference), itemgetter(1))\n",
    "\n",
    "best_idx = []\n",
    "for item in best:\n",
    "    index = item[0]\n",
    "    best_idx.append(index)\n",
    "\n",
    "worst_idx = []\n",
    "for item in worst:\n",
    "    index = item[0]\n",
    "    worst_idx.append(index)\n",
    "    \n",
    "print(\"Best indices: \", best_idx)\n",
    "print(\"Worst indices: \", worst_idx)\n",
    "    \n",
    "with open('wordsim_similarity_goldstandard.txt', \"r\") as f:\n",
    "    gold_standard = f.read()\n",
    "    \n",
    "gold_tuples = [tuple(row.split('\\t')) for row in gold_standard.split('\\n')]\n",
    "\n",
    "print(\"The best performances: \\n\")\n",
    "for index in best_idx:\n",
    "    word_idx = index\n",
    "    print(\"\")\n",
    "    print(vocab.vocab.stoi[gold_tuples[word_idx][0]], vocab.vocab.stoi[gold_tuples[word_idx][1]])\n",
    "    print(gold_tuples[index])\n",
    "    \n",
    "print(\"The worst performances: \\n\")\n",
    "for index in worst_idx:\n",
    "    word_idx = index\n",
    "    print(vocab.vocab.stoi[gold_tuples[word_idx][0]], vocab.vocab.stoi[gold_tuples[word_idx][1]])\n",
    "    print(gold_tuples[index])"
   ]
  },
  {
   "cell_type": "markdown",
   "metadata": {},
   "source": [
    "Select the 10 best and 10 worst performing word pairs, can you see any patterns that explain why *these* are the best and worst word pairs?\n",
    "\n",
    "[3 marks]"
   ]
  },
  {
   "cell_type": "markdown",
   "metadata": {},
   "source": [
    "Its good that \"tiger\" and \"tiger\" is the most similar word pair since it is comparing the same vector with itself.\n",
    "However, the other words also seem quite similar, even the bottom words. It is not obvious what causes \"asylum\" and \"madhouse\" to be similar that does not carry over to make \"liquid\" and \"water\" similar. "
   ]
  },
  {
   "cell_type": "markdown",
   "metadata": {},
   "source": [
    "Suggest some ways of improving the model we apply to WordSim353.\n",
    "\n",
    "[3 marks]"
   ]
  },
  {
   "cell_type": "markdown",
   "metadata": {},
   "source": [
    "Increase the number of epochs would probably make the model better\n",
    "Way more data\n",
    "\n",
    "More data! \n",
    "More epochs?\n",
    "Batch size? \n",
    "A larger embedding size?\n",
    "Smaller learning rate?\n",
    "Larger embedding dimension?"
   ]
  },
  {
   "cell_type": "markdown",
   "metadata": {},
   "source": [
    "If we consider a scenario where we use these embeddings in a downstream task, for example sentiment analysis (roughly: determining whether a sentence is positive or negative). \n",
    "\n",
    "Give some examples why the sentiment analysis model would benefit from our embeddnings and one examples why our embeddings could hur the performance of the sentiment model.\n",
    "\n",
    "[3 marks]"
   ]
  },
  {
   "cell_type": "markdown",
   "metadata": {},
   "source": [
    "Our model does not distinquish between \"smart\" and \"stupid\" and that cant be good for a sentiment analysis.\n",
    "\n",
    "It does not seem to be very fine grained in the way that it distinguishes between synonyms and antonyms."
   ]
  },
  {
   "cell_type": "markdown",
   "metadata": {},
   "source": [
    "# Language modeling"
   ]
  },
  {
   "cell_type": "markdown",
   "metadata": {},
   "source": [
    "In this second part we'll build a simple LSTM language model. Your task is to construct a model which takes a sentence as input and predict the next word for each word in the sentence. For this you'll use the ```LSTM``` class provided by PyTorch (https://pytorch.org/docs/stable/generated/torch.nn.LSTM.html). You can read more about the LSTM here: https://colah.github.io/posts/2015-08-Understanding-LSTMs/\n",
    "\n",
    "NOTE!!!: Use the same dataset (wiki-cropus.txt) as before.\n",
    "\n",
    "Our setup is similar to before, we first encode the words as distributed representations then pass these to the LSTM and for each output we predict the next word.\n",
    "\n",
    "For this we'll build a new dataloader with torchtext, the file we pass to the dataloader should contain one sentence per line, with words separated by whitespace.\n",
    "\n",
    "```\n",
    "word_1, ..., word_n\n",
    "word_1, ..., word_k\n",
    "...\n",
    "```\n",
    "\n",
    "in this dataloader you want to make sure that each sentence begins with a ```<start>``` token and ends with a ```<end>``` token, there is a keyword argument in ```Field``` for this :). But other than that, as before you read the dataset and output a iterator over the dataset and a vocabulary. \n",
    "\n",
    "Implement the dataloader, language model and the training loop (the training loop will basically be the same as for word2vec).\n",
    "\n",
    "[12 marks]"
   ]
  },
  {
   "cell_type": "code",
   "execution_count": 24,
   "metadata": {},
   "outputs": [],
   "source": [
    "# you can change these numbers to suit your needs as before :)\n",
    "lm_hyperparameters = {'epochs':3,\n",
    "                      'batch_size':16,\n",
    "                      'learning_rate':0.001,\n",
    "                      'embedding_dim':128,\n",
    "                      'output_dim':128}"
   ]
  },
  {
   "cell_type": "code",
   "execution_count": 33,
   "metadata": {},
   "outputs": [
    {
     "ename": "FileExistsError",
     "evalue": "[Errno 17] File exists: 'small_corpus.txt'",
     "output_type": "error",
     "traceback": [
      "\u001b[0;31m---------------------------------------------------------------------------\u001b[0m",
      "\u001b[0;31mFileExistsError\u001b[0m                           Traceback (most recent call last)",
      "\u001b[0;32m<ipython-input-33-424adb9aca92>\u001b[0m in \u001b[0;36m<module>\u001b[0;34m\u001b[0m\n\u001b[1;32m      1\u001b[0m \u001b[0mcounter\u001b[0m \u001b[0;34m=\u001b[0m \u001b[0;36m0\u001b[0m\u001b[0;34m\u001b[0m\u001b[0;34m\u001b[0m\u001b[0m\n\u001b[0;32m----> 2\u001b[0;31m \u001b[0mnewfile\u001b[0m \u001b[0;34m=\u001b[0m \u001b[0mopen\u001b[0m\u001b[0;34m(\u001b[0m\u001b[0;34m\"small_corpus.txt\"\u001b[0m\u001b[0;34m,\u001b[0m \u001b[0;34m\"x\"\u001b[0m\u001b[0;34m)\u001b[0m\u001b[0;34m\u001b[0m\u001b[0;34m\u001b[0m\u001b[0m\n\u001b[0m\u001b[1;32m      3\u001b[0m \u001b[0;32mwith\u001b[0m \u001b[0mopen\u001b[0m\u001b[0;34m(\u001b[0m\u001b[0;34m\"wiki-corpus.txt\"\u001b[0m\u001b[0;34m)\u001b[0m \u001b[0;32mas\u001b[0m \u001b[0mf\u001b[0m\u001b[0;34m:\u001b[0m\u001b[0;34m\u001b[0m\u001b[0;34m\u001b[0m\u001b[0m\n\u001b[1;32m      4\u001b[0m     \u001b[0;32mfor\u001b[0m \u001b[0mline\u001b[0m \u001b[0;32min\u001b[0m \u001b[0mf\u001b[0m\u001b[0;34m:\u001b[0m\u001b[0;34m\u001b[0m\u001b[0;34m\u001b[0m\u001b[0m\n\u001b[1;32m      5\u001b[0m         \u001b[0;32mif\u001b[0m \u001b[0mcounter\u001b[0m \u001b[0;34m<\u001b[0m \u001b[0;36m5000\u001b[0m\u001b[0;34m:\u001b[0m\u001b[0;34m\u001b[0m\u001b[0;34m\u001b[0m\u001b[0m\n",
      "\u001b[0;31mFileExistsError\u001b[0m: [Errno 17] File exists: 'small_corpus.txt'"
     ]
    }
   ],
   "source": [
    "counter = 0\n",
    "newfile = open(\"small_corpus.txt\", \"x\")\n",
    "with open(\"wiki-corpus.txt\") as f:\n",
    "    for line in f:\n",
    "        if counter < 5000:\n",
    "            newfile.write(line)\n",
    "            counter += 1\n"
   ]
  },
  {
   "cell_type": "code",
   "execution_count": 34,
   "metadata": {},
   "outputs": [],
   "source": [
    "data_path = 'small_corpus.txt'\n",
    "\n",
    "def get_data():\n",
    "    whitespacer = lambda x: x.split(' ')\n",
    "\n",
    "    TOKENS = Field(\n",
    "        tokenize=whitespacer,\n",
    "        lower=True,                   \n",
    "        batch_first=True,\n",
    "        init_token='<start>',\n",
    "        eos_token='<end>',\n",
    "    )\n",
    "    \n",
    "    train = TabularDataset(\n",
    "        path=data_path,                 \n",
    "        format='csv',                                        \n",
    "        fields=[('sentence', TOKENS)],\n",
    "        skip_header=False,                                        \n",
    "        csv_reader_params={\n",
    "            'delimiter':'\\n',                                                             \n",
    "            'quotechar':'½',\n",
    "        }\n",
    "    )\n",
    "\n",
    "    TOKENS.build_vocab(train)\n",
    "    \n",
    "    train_iter = BucketIterator(\n",
    "        train,                                                  \n",
    "        batch_size=lm_hyperparameters['batch_size'],\n",
    "        sort_within_batch=True,                                                  \n",
    "        sort_key=lambda x: len(x.sentence),                                                  \n",
    "        shuffle=True,                                                  \n",
    "        device=device\n",
    "    )   \n",
    "    \n",
    "\n",
    "    return train_iter, TOKENS"
   ]
  },
  {
   "cell_type": "code",
   "execution_count": 43,
   "metadata": {},
   "outputs": [],
   "source": [
    "class LM_withLSTM(nn.Module):\n",
    "    def __init__(self, vocab_size, embedding_dim, output_dim):\n",
    "        super(LM_withLSTM, self).__init__()\n",
    "        self.embeddings = nn.Embedding(vocab_size, embedding_dim)\n",
    "        self.LSTM = nn.LSTM(embedding_dim, output_dim)\n",
    "        self.predict_word = nn.Linear(output_dim, vocab_size)\n",
    "    \n",
    "    def forward(self, seq):\n",
    "        embedded_seq = self.embeddings(seq)\n",
    "        timestep_representation, *_ = self.LSTM(embedded_seq)\n",
    "        predicted_words = self.predict_word(timestep_representation)\n",
    "        \n",
    "        return predicted_words"
   ]
  },
  {
   "cell_type": "code",
   "execution_count": 44,
   "metadata": {},
   "outputs": [
    {
     "name": "stdout",
     "output_type": "stream",
     "text": [
      "9.928844811839442\n",
      "19.857567774864936\n",
      "29.786478374850365\n"
     ]
    }
   ],
   "source": [
    "# load data\n",
    "dataset, vocab = get_data()\n",
    "\n",
    "# build model and construct loss/optimizer\n",
    "lm_model = LM_withLSTM(len(vocab.vocab), \n",
    "                       lm_hyperparameters['embedding_dim'],\n",
    "                       lm_hyperparameters['output_dim'])\n",
    "lm_model.to(device)\n",
    "\n",
    "loss_fn = nn.CrossEntropyLoss()\n",
    "optimizer = optim.Adam(cbow_model.parameters(), lr=lm_hyperparameters['learning_rate'])\n",
    "\n",
    "# start training loop\n",
    "total_loss = 0\n",
    "for epoch in range(lm_hyperparameters['epochs']):\n",
    "    for i, batch in enumerate(dataset):\n",
    "        \n",
    "        # the strucure for each BATCH is:\n",
    "        # <start>, w0, ..., wn, <end>\n",
    "        sentence = batch.sentence\n",
    "        \n",
    "        # when training the model, at each input we predict the *NEXT* token\n",
    "        # consequently there is nothing to predict when we give the model \n",
    "        # <end> as input. \n",
    "        # thus, we do not want to give <end> as input to the model, select \n",
    "        # from each batch all tokens except the last. \n",
    "        # tip: use pytorch indexing/slicing (same as numpy) \n",
    "        # (https://pytorch.org/tutorials/beginner/basics/tensorqs_tutorial.html#operations-on-tensors)\n",
    "        # (https://jhui.github.io/2018/02/09/PyTorch-Basic-operations/)\n",
    "        input_sentence = sentence[:, :-1]\n",
    "        \n",
    "        # send your batch of sentences to the model\n",
    "        output = lm_model(input_sentence)\n",
    "        \n",
    "        # for each output, the model predict the NEXT token, so we have to reshape \n",
    "        # our dataset again. On timestep t, we evaluate on token t+1. That is,\n",
    "        # we never predict the <start> token ;) so this time, we select all but the first \n",
    "        # token from sentences (that is, all the tokens that we predict)\n",
    "        gold_data = sentence[:, 1:]\n",
    "        \n",
    "        # the shape of the output and sentence variable need to be changed,\n",
    "        # for the loss function. Details are in the documentation.\n",
    "        # You can use .view(...,...) to reshape the tensors  \n",
    "        loss = loss_fn(output.view(output.shape[0], -1, output.shape[1]), gold_data)\n",
    "        total_loss += loss.item()\n",
    "        \n",
    "        # print average loss for the epoch\n",
    "        print(total_loss/(i+1), end='\\r') \n",
    "        \n",
    "        # compute gradients\n",
    "        loss.backward()\n",
    "        \n",
    "        # update parameters\n",
    "        optimizer.step()\n",
    "        \n",
    "        # reset gradients\n",
    "        optimizer.zero_grad()\n",
    "    print()"
   ]
  },
  {
   "cell_type": "code",
   "execution_count": 46,
   "metadata": {},
   "outputs": [],
   "source": [
    "torch.save(lm_model,\"model_lstm\")"
   ]
  },
  {
   "cell_type": "code",
   "execution_count": 47,
   "metadata": {},
   "outputs": [],
   "source": [
    "lstm_model = torch.load(\"model_lstm\")"
   ]
  },
  {
   "cell_type": "code",
   "execution_count": 85,
   "metadata": {},
   "outputs": [
    {
     "data": {
      "text/plain": [
       "LM_withLSTM(\n",
       "  (embeddings): Embedding(20379, 128)\n",
       "  (LSTM): LSTM(128, 128)\n",
       "  (predict_word): Linear(in_features=128, out_features=20379, bias=True)\n",
       ")"
      ]
     },
     "execution_count": 85,
     "metadata": {},
     "output_type": "execute_result"
    }
   ],
   "source": [
    "lstm_model"
   ]
  },
  {
   "cell_type": "markdown",
   "metadata": {},
   "source": [
    "### Evaluating the language model\n",
    "\n",
    "We'll evaluate our model using the BLiMP dataset (https://github.com/alexwarstadt/blimp). The BLiMP dataset contains sets of linguistic minimal pairs for various syntactic and semantic phenomena, We'll evaluate our model on *existential quantifiers* (link: https://github.com/alexwarstadt/blimp/blob/master/data/existential_there_quantifiers_1.jsonl). This data, as the name suggests, investigate whether language models assign higher probability to *correct* usage of there-quantifiers. \n",
    "\n",
    "An example entry in the dataset is: \n",
    "\n",
    "```\n",
    "{\"sentence_good\": \"There was a documentary about music irritating Allison.\", \"sentence_bad\": \"There was each documentary about music irritating Allison.\", \"field\": \"semantics\", \"linguistics_term\": \"quantifiers\", \"UID\": \"existential_there_quantifiers_1\", \"simple_LM_method\": true, \"one_prefix_method\": false, \"two_prefix_method\": false, \"lexically_identical\": false, \"pairID\": \"0\"}\n",
    "```\n",
    "\n",
    "Download the dataset and build a datareader (similar to what you did for word2vec). The dataset structure you should aim for is (you don't need to worry about the other keys for this assignment):\n",
    "\n",
    "```\n",
    "good_sentence_1, bad_sentence_1\n",
    "...\n",
    "```\n",
    "\n",
    "your task now is to compare the probability assigned to the good sentence with to the probability assigned to the bad sentence. To compute a probability for a sentence we consider the product of the probabilities assigned to the *gold* tokens, remember, at timestep ```t``` we're predicting which token comes *next* e.g. ```t+1``` (basically, you do the same thing as you did when training).\n",
    "\n",
    "In rough pseudo code what your code should do is:\n",
    "\n",
    "```\n",
    "accuracy = []\n",
    "for good_sentence, bad_sentence in dataset:\n",
    "    gs_lm_output = LanguageModel(good_sentence)\n",
    "    gs_token_probabilities = softmax(gs_lm_output)\n",
    "    gs_sentence_probability = product(gs_token_probabilities[GOLD_TOKENS])\n",
    "\n",
    "    bs_lm_output = LanguageModel(bad_sentence)\n",
    "    bs_token_probabilities = softmax(bs_lm_output)\n",
    "    bs_sentence_probability = product(bs_token_probabilities[GOLD_TOKENS])\n",
    "\n",
    "    # int(True) = 1 and int(False) = 0\n",
    "    is_correct = int(gs_sentence_probability > bs_sentence_probability)\n",
    "    accuracy.append(is_correct)\n",
    "\n",
    "print(numpy.mean(accuracy))\n",
    "    \n",
    "```\n",
    "\n",
    "[6 marks]"
   ]
  },
  {
   "cell_type": "code",
   "execution_count": 144,
   "metadata": {},
   "outputs": [
    {
     "name": "stdout",
     "output_type": "stream",
     "text": [
      "tensor([[[-0.0464, -0.0014, -0.0309,  ...,  0.1471,  0.0708, -0.0298],\n",
      "         [ 0.0106, -0.0199, -0.0813,  ...,  0.1502,  0.0597,  0.0094],\n",
      "         [ 0.0243,  0.0280, -0.0314,  ...,  0.0368, -0.0264, -0.0957],\n",
      "         ...,\n",
      "         [ 0.0469, -0.1213, -0.0782,  ...,  0.1124,  0.0014,  0.0107],\n",
      "         [-0.0549,  0.1269, -0.0414,  ...,  0.0360,  0.1417,  0.0481],\n",
      "         [-0.0344, -0.0485, -0.0553,  ...,  0.0953, -0.0089, -0.0456]],\n",
      "\n",
      "        [[-0.0323,  0.0381, -0.0290,  ...,  0.1993,  0.0824, -0.0302],\n",
      "         [ 0.0774,  0.0295, -0.1280,  ...,  0.2076,  0.0982, -0.0109],\n",
      "         [ 0.0096,  0.0285, -0.1254,  ...,  0.1248, -0.0832, -0.1149],\n",
      "         ...,\n",
      "         [ 0.0472, -0.1248, -0.0433,  ...,  0.1264,  0.0502,  0.0318],\n",
      "         [-0.0137,  0.0161, -0.0116,  ..., -0.1443,  0.0923,  0.0674],\n",
      "         [-0.0193, -0.0419, -0.0626,  ...,  0.1031, -0.0160, -0.0438]],\n",
      "\n",
      "        [[-0.0153,  0.0610, -0.0257,  ...,  0.2324,  0.0829, -0.0352],\n",
      "         [ 0.0740,  0.0566, -0.1502,  ...,  0.0233, -0.0010, -0.0806],\n",
      "         [ 0.0845, -0.0684, -0.0681,  ...,  0.1340, -0.1119, -0.1312],\n",
      "         ...,\n",
      "         [-0.0652, -0.0174,  0.0286,  ...,  0.0401,  0.0752, -0.0263],\n",
      "         [ 0.0181,  0.1102, -0.1071,  ..., -0.1411,  0.1410, -0.0400],\n",
      "         [ 0.0011, -0.0382, -0.0642,  ...,  0.1078, -0.0196, -0.0406]],\n",
      "\n",
      "        ...,\n",
      "\n",
      "        [[ 0.0174,  0.0988, -0.0174,  ...,  0.2902,  0.0648, -0.0604],\n",
      "         [ 0.0253, -0.0056, -0.0430,  ...,  0.1398,  0.0004, -0.0495],\n",
      "         [-0.1881, -0.0732, -0.0062,  ...,  0.0297, -0.0118, -0.0205],\n",
      "         ...,\n",
      "         [ 0.0274, -0.0522, -0.0503,  ...,  0.1264,  0.0049, -0.0205],\n",
      "         [-0.1455,  0.1138, -0.0210,  ...,  0.0818, -0.0417, -0.0897],\n",
      "         [-0.1399, -0.2343,  0.0273,  ...,  0.0518, -0.0279,  0.0312]],\n",
      "\n",
      "        [[ 0.0174,  0.0991, -0.0174,  ...,  0.2904,  0.0643, -0.0607],\n",
      "         [-0.0870,  0.0567, -0.0735,  ...,  0.0974,  0.0349,  0.0499],\n",
      "         [-0.1206, -0.1313, -0.0180,  ...,  0.0477, -0.0771, -0.0892],\n",
      "         ...,\n",
      "         [-0.1071,  0.0151,  0.0161,  ...,  0.0327,  0.0069, -0.1018],\n",
      "         [-0.0996, -0.0355,  0.0092,  ...,  0.0439, -0.1231, -0.0314],\n",
      "         [-0.1425, -0.2362,  0.0267,  ...,  0.0514, -0.0269,  0.0308]],\n",
      "\n",
      "        [[ 0.0174,  0.0993, -0.0174,  ...,  0.2905,  0.0639, -0.0610],\n",
      "         [-0.0656,  0.0432,  0.0673,  ...,  0.1313,  0.0132, -0.0637],\n",
      "         [-0.0103, -0.1726, -0.0934,  ...,  0.0317, -0.1427, -0.0212],\n",
      "         ...,\n",
      "         [-0.0684, -0.0863,  0.0396,  ..., -0.0030, -0.0916, -0.0436],\n",
      "         [-0.0935, -0.1238,  0.0248,  ...,  0.0467, -0.0935,  0.0104],\n",
      "         [-0.1444, -0.2374,  0.0263,  ...,  0.0511, -0.0264,  0.0304]]],\n",
      "       grad_fn=<AddBackward0>)\n"
     ]
    },
    {
     "ename": "IndexError",
     "evalue": "too many indices for tensor of dimension 1",
     "output_type": "error",
     "traceback": [
      "\u001b[0;31m---------------------------------------------------------------------------\u001b[0m",
      "\u001b[0;31mIndexError\u001b[0m                                Traceback (most recent call last)",
      "\u001b[0;32m<ipython-input-144-545abb7e61ba>\u001b[0m in \u001b[0;36m<module>\u001b[0;34m\u001b[0m\n\u001b[1;32m     88\u001b[0m \u001b[0;34m\u001b[0m\u001b[0m\n\u001b[1;32m     89\u001b[0m \u001b[0mpath\u001b[0m \u001b[0;34m=\u001b[0m \u001b[0;34m'existential_there_quantifiers_1.jsonl'\u001b[0m\u001b[0;34m\u001b[0m\u001b[0;34m\u001b[0m\u001b[0m\n\u001b[0;32m---> 90\u001b[0;31m \u001b[0maccuracy\u001b[0m \u001b[0;34m=\u001b[0m \u001b[0mevaluate_model\u001b[0m\u001b[0;34m(\u001b[0m\u001b[0mpath\u001b[0m\u001b[0;34m,\u001b[0m \u001b[0mvocab\u001b[0m\u001b[0;34m,\u001b[0m \u001b[0mlstm_model\u001b[0m\u001b[0;34m)\u001b[0m\u001b[0;34m\u001b[0m\u001b[0;34m\u001b[0m\u001b[0m\n\u001b[0m\u001b[1;32m     91\u001b[0m \u001b[0;34m\u001b[0m\u001b[0m\n\u001b[1;32m     92\u001b[0m \u001b[0mprint\u001b[0m\u001b[0;34m(\u001b[0m\u001b[0;34m'Final accuracy:'\u001b[0m\u001b[0;34m)\u001b[0m\u001b[0;34m\u001b[0m\u001b[0;34m\u001b[0m\u001b[0m\n",
      "\u001b[0;32m<ipython-input-144-545abb7e61ba>\u001b[0m in \u001b[0;36mevaluate_model\u001b[0;34m(path, vocab, model)\u001b[0m\n\u001b[1;32m     49\u001b[0m \u001b[0;34m\u001b[0m\u001b[0m\n\u001b[1;32m     50\u001b[0m             \u001b[0;31m# select the probability of the gold tokens\u001b[0m\u001b[0;34m\u001b[0m\u001b[0;34m\u001b[0m\u001b[0;34m\u001b[0m\u001b[0m\n\u001b[0;32m---> 51\u001b[0;31m             \u001b[0mgs_sent_prob\u001b[0m \u001b[0;34m=\u001b[0m \u001b[0mfind_token_probs\u001b[0m\u001b[0;34m(\u001b[0m\u001b[0mgs_probs\u001b[0m\u001b[0;34m,\u001b[0m \u001b[0menc_good_s\u001b[0m\u001b[0;34m)\u001b[0m\u001b[0;34m\u001b[0m\u001b[0;34m\u001b[0m\u001b[0m\n\u001b[0m\u001b[1;32m     52\u001b[0m             \u001b[0mbs_sent_prob\u001b[0m \u001b[0;34m=\u001b[0m \u001b[0mfind_token_probs\u001b[0m\u001b[0;34m(\u001b[0m\u001b[0mbs_probs\u001b[0m\u001b[0;34m,\u001b[0m \u001b[0menc_bad_s\u001b[0m\u001b[0;34m)\u001b[0m\u001b[0;34m\u001b[0m\u001b[0;34m\u001b[0m\u001b[0m\n\u001b[1;32m     53\u001b[0m \u001b[0;34m\u001b[0m\u001b[0m\n",
      "\u001b[0;32m<ipython-input-144-545abb7e61ba>\u001b[0m in \u001b[0;36mfind_token_probs\u001b[0;34m(model_probs, encoded_sentence)\u001b[0m\n\u001b[1;32m     69\u001b[0m         \u001b[0mprint\u001b[0m\u001b[0;34m(\u001b[0m\u001b[0moutput\u001b[0m\u001b[0;34m)\u001b[0m\u001b[0;34m\u001b[0m\u001b[0;34m\u001b[0m\u001b[0m\n\u001b[1;32m     70\u001b[0m \u001b[0;34m\u001b[0m\u001b[0m\n\u001b[0;32m---> 71\u001b[0;31m         \u001b[0mgold_data\u001b[0m \u001b[0;34m=\u001b[0m \u001b[0mgold_token\u001b[0m\u001b[0;34m[\u001b[0m\u001b[0;34m:\u001b[0m\u001b[0;34m,\u001b[0m \u001b[0;36m1\u001b[0m\u001b[0;34m:\u001b[0m\u001b[0;34m]\u001b[0m\u001b[0;34m\u001b[0m\u001b[0;34m\u001b[0m\u001b[0m\n\u001b[0m\u001b[1;32m     72\u001b[0m \u001b[0;34m\u001b[0m\u001b[0m\n\u001b[1;32m     73\u001b[0m      \u001b[0;31m#   loss = loss_fn(output.view(output.shape[0], -1, output.shape[1]), gold_data)\u001b[0m\u001b[0;34m\u001b[0m\u001b[0;34m\u001b[0m\u001b[0;34m\u001b[0m\u001b[0m\n",
      "\u001b[0;31mIndexError\u001b[0m: too many indices for tensor of dimension 1"
     ]
    }
   ],
   "source": [
    "# your code goes here\n",
    "import json\n",
    "from nltk.tokenize import WhitespaceTokenizer\n",
    "tk = WhitespaceTokenizer()\n",
    "\n",
    "dataset, vocab = get_data()\n",
    "\n",
    "def evaluate_model(path, vocab, model):\n",
    "    \n",
    "    accuracy = []\n",
    "    with open(path) as f:\n",
    "        # iterate over one pair of sentences at a time\n",
    "        for line in f:\n",
    "            # load the data\n",
    "            data = json.loads(line)\n",
    "            good_s = data['sentence_good']\n",
    "            bad_s = data['sentence_bad']\n",
    "            \n",
    "            \n",
    "            # the data is tokenized as whitespace\n",
    "            tok_good_s = tk.tokenize(good_s)\n",
    "            tok_bad_s = tk.tokenize(bad_s)\n",
    "            \n",
    "            \n",
    "            \n",
    "            \n",
    "            # encode your words as integers using the vocab from the dataloader, size is (S)\n",
    "            # we use unsqueeze to create the batch dimension \n",
    "            # in this case our input is only ONE batch, so the size of the tensor becomes: \n",
    "            # (S) -> (1, S) as the model expects batches\n",
    "            \n",
    "            \n",
    "            #words are integers in vocab, 0 if not found\n",
    "            #this is words from the json file now each sentence is a tensor, each word is mapped to an integer\n",
    "            enc_good_s = torch.tensor([vocab.vocab.stoi.get(x, 0) for x in tok_good_s], device=device).unsqueeze(0) \n",
    "            enc_bad_s = torch.tensor([vocab.vocab.stoi.get(x, 0) for x in tok_bad_s], device=device).unsqueeze(0)\n",
    "            \n",
    "            \n",
    "            # pass your encoded sentences to the model and predict the next tokens\n",
    "            good_s = model(enc_good_s)\n",
    "            bad_s = model(enc_bad_s)\n",
    "            \n",
    "            \n",
    "            # get probabilities with softmax\n",
    "            gs_probs = F.softmax(good_s, dim=1)\n",
    "            bs_probs = F.softmax(bad_s, dim=1)\n",
    "            \n",
    "            \n",
    "            \n",
    "            # select the probability of the gold tokens\n",
    "            gs_sent_prob = find_token_probs(gs_probs, enc_good_s)\n",
    "            bs_sent_prob = find_token_probs(bs_probs, enc_bad_s)\n",
    "            \n",
    "            #print(gs_sent_prob)\n",
    "            \n",
    "          #  accuracy.append(int(gs_sent_prob>bs_sent_prob))\n",
    "            \n",
    "    return 0 #accuracy\n",
    "            \n",
    "def find_token_probs(model_probs, encoded_sentence):\n",
    "    probs = []\n",
    "\n",
    "    # iterate over the tokens in your encoded sentence\n",
    "    for token, gold_token in enumerate(encoded_sentence):       #each token is a tensor of numbers corresponding to words in model\n",
    "        #removed the last token\n",
    "        gold_token = gold_token[:-1]\n",
    "        \n",
    "        output = lstm_model(input_sentence)\n",
    "        print(output)\n",
    "        \n",
    "        \n",
    "        #get probability for output below...\n",
    "        \n",
    "        #???\n",
    "        \n",
    "        \n",
    "        # select the probability of the gold tokens and save\n",
    "        # hint: pytorch indexing is helpful here ;)\n",
    "        \n",
    "       # prob = torch.prod(gold_token)\n",
    "        #print(prob)\n",
    "        #print(prob)\n",
    "        #probs.append(prob)\n",
    "    #sentence_prob = ...\n",
    "    return 0 #sentence_prob\n",
    "\n",
    "path = 'existential_there_quantifiers_1.jsonl'\n",
    "accuracy = evaluate_model(path, vocab, lstm_model)\n",
    "\n",
    "print('Final accuracy:')\n",
    "print(np.round(np.mean(accuracy), 3))\n"
   ]
  },
  {
   "cell_type": "markdown",
   "metadata": {},
   "source": [
    "### Analysis"
   ]
  },
  {
   "cell_type": "markdown",
   "metadata": {},
   "source": [
    "Our model get some score, say, 55% correct predictions. Is this good? Suggest some *baseline* (i.e. a stupid \"model\" we hope ours is better than) we can compare the model against.\n",
    "\n",
    "[3 marks]"
   ]
  },
  {
   "cell_type": "code",
   "execution_count": null,
   "metadata": {},
   "outputs": [],
   "source": []
  },
  {
   "cell_type": "markdown",
   "metadata": {},
   "source": [
    "Suggest some improvements you could make to your language model.\n",
    "\n",
    "[3 marks]"
   ]
  },
  {
   "cell_type": "code",
   "execution_count": null,
   "metadata": {},
   "outputs": [],
   "source": []
  },
  {
   "cell_type": "markdown",
   "metadata": {},
   "source": [
    "Suggest some other metrics we can use to evaluate our system\n",
    "\n",
    "[2 marks]"
   ]
  },
  {
   "cell_type": "code",
   "execution_count": null,
   "metadata": {},
   "outputs": [],
   "source": []
  },
  {
   "cell_type": "markdown",
   "metadata": {},
   "source": [
    "# Literature\n",
    "\n",
    "\n",
    "Neural architectures:\n",
    "* Y. Bengio, R. Ducharme, P. Vincent, and C. Janvin. A neural probabilistic language model. (Links to an external site.) Journal of Machine Learning Research, 3(6):1137–1155, 2003. (Sections 3 and 4 are less relevant today and hence you can glance through them quickly. Instead, look at the Mikolov papers where they describe training word embeddings with the current neural network architectures.)\n",
    "* T. Mikolov, K. Chen, G. Corrado, and J. Dean. Efficient estimation of word representations in vector space. arXiv preprint arXiv:1301.3781, 2013.\n",
    "* T. Mikolov, I. Sutskever, K. Chen, G. S. Corrado, and J. Dean. Distributed representations of words and phrases and their compositionality. In Advances in neural information processing systems, pages 3111–3119, 2013.\n",
    "    \n"
   ]
  },
  {
   "cell_type": "markdown",
   "metadata": {},
   "source": [
    "Total marks: 63"
   ]
  }
 ],
 "metadata": {
  "kernelspec": {
   "display_name": "Python 3",
   "language": "python",
   "name": "python3"
  },
  "language_info": {
   "codemirror_mode": {
    "name": "ipython",
    "version": 3
   },
   "file_extension": ".py",
   "mimetype": "text/x-python",
   "name": "python",
   "nbconvert_exporter": "python",
   "pygments_lexer": "ipython3",
   "version": "3.8.5"
  }
 },
 "nbformat": 4,
 "nbformat_minor": 4
}
