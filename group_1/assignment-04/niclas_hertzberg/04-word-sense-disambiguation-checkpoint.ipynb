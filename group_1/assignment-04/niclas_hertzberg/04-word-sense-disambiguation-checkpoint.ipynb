{
 "cells": [
  {
   "cell_type": "markdown",
   "metadata": {},
   "source": [
    "# Word Sense Disambiguation using Neural Networks\n",
    "Adam Ek\n",
    "\n",
    "----------------------------------\n",
    "\n",
    "The lab is an exploration and learning exercise to be done in a group and also in discussion with the teachers and other students.\n",
    "\n",
    "Before starting, please read the instructions on [how to work on group assignments](https://github.com/sdobnik/computational-semantics/blob/master/README.md).\n",
    "\n",
    "Write all your answers and the code in the appropriate boxes below.\n",
    "\n",
    "----------------------------------"
   ]
  },
  {
   "cell_type": "markdown",
   "metadata": {},
   "source": [
    "A problem with static distributional vectors is the difficulty of distinguishing between different *word senses*. We will continue our exploration of word vectors by considering *trainable vectors* or *word embeddings* for Word Sense Disambiguation (WSD).\n",
    "\n",
    "The goal of word sense disambiguation is to train a model to find the sense of a word (homonyms of a word-form). For example, the word \"bank\" can mean \"sloping land\" or \"financial institution\". \n",
    "\n",
    "(a) \"I deposited my money in the **bank**\" (financial institution)\n",
    "\n",
    "(b) \"I swam from the river **bank**\" (sloping land)\n",
    "\n",
    "In case a) and b) we can determine that the meaning of \"bank\" based on the *context*. To utilize context in a semantic model we use *contextualized word representations*. Previously we worked with *static word representations*, i.e. the representation does not depend on the context. To illustrate we can consider sentences (a) and (b), the word **bank** would have the same static representation in both sentences, which means that it becomes difficult for us to predict its sense. What we want is to create representations that depend on the context, i.e. *contextualized embeddings*. \n",
    "\n",
    "We will create contextualized embeddings with Recurrent Neural Networks. You can read more about recurrent neural netoworks [here](https://colah.github.io/posts/2015-08-Understanding-LSTMs/). Your overall task in this lab is to create a neural network model that can disambiguate the word sense of 30 different words. "
   ]
  },
  {
   "cell_type": "code",
   "execution_count": 2,
   "metadata": {},
   "outputs": [
    {
     "name": "stdout",
     "output_type": "stream",
     "text": [
      "Collecting pandas\n",
      "\u001b[?25l  Downloading https://files.pythonhosted.org/packages/51/51/48f3fc47c4e2144da2806dfb6629c4dd1fa3d5a143f9652b141e979a8ca9/pandas-1.2.4-cp37-cp37m-manylinux1_x86_64.whl (9.9MB)\n",
      "\u001b[K    100% |████████████████████████████████| 9.9MB 664kB/s eta 0:00:01\n",
      "\u001b[?25hRequirement already satisfied: python-dateutil>=2.7.3 in /home/gushertni@GU.GU.SE/new_virtual/lib/python3.7/site-packages (from pandas) (2.8.1)\n",
      "Requirement already satisfied: numpy>=1.16.5 in /home/gushertni@GU.GU.SE/new_virtual/lib/python3.7/site-packages (from pandas) (1.20.3)\n",
      "Collecting pytz>=2017.3 (from pandas)\n",
      "\u001b[?25l  Downloading https://files.pythonhosted.org/packages/70/94/784178ca5dd892a98f113cdd923372024dc04b8d40abe77ca76b5fb90ca6/pytz-2021.1-py2.py3-none-any.whl (510kB)\n",
      "\u001b[K    100% |████████████████████████████████| 512kB 2.0MB/s eta 0:00:01\n",
      "\u001b[?25hRequirement already satisfied: six>=1.5 in /home/gushertni@GU.GU.SE/new_virtual/lib/python3.7/site-packages (from python-dateutil>=2.7.3->pandas) (1.16.0)\n",
      "Installing collected packages: pytz, pandas\n",
      "Successfully installed pandas-1.2.4 pytz-2021.1\n",
      "\u001b[33mYou are using pip version 19.0.3, however version 21.1.2 is available.\n",
      "You should consider upgrading via the 'pip install --upgrade pip' command.\u001b[0m\n",
      "Note: you may need to restart the kernel to use updated packages.\n"
     ]
    }
   ],
   "source": [
    "pip install pandas"
   ]
  },
  {
   "cell_type": "code",
   "execution_count": 1,
   "metadata": {},
   "outputs": [],
   "source": [
    "# first we import some packages that we need\n",
    "import torch\n",
    "import torch.nn as nn\n",
    "import torchtext\n",
    "import numpy as np\n",
    "import pandas as pd\n",
    "import torch.optim as optim\n",
    "#from torchtext.legacy.data import Field, BucketIterator, Iterator, TabularDataset, Dataset\n",
    "import numpy as np\n",
    "import random\n",
    "\n",
    "# our hyperparameters (add more when/if you need them)\n",
    "device = torch.device('cuda:0')\n",
    "#device = torch.device('cpu')\n",
    "\n",
    "hyperparameters = {\n",
    "    'epochs':3,\n",
    "    'batch_size':16,\n",
    "    'learning_rate':0.001,\n",
    "    'embedding_dim':32,\n",
    "    'output_dim':32\n",
    "}"
   ]
  },
  {
   "cell_type": "markdown",
   "metadata": {},
   "source": [
    "# 1. Working with data\n",
    "\n",
    "A central part of any machine learning system is the data we're working with. In this section we will split the data (the dataset is located here: ``wsd-data/wsd_data.txt``) into a training set and a test set. We will also create a baseline to compare our model against. Finally, we will use TorchText to transform our data (raw text) into a convenient format that our neural network can work with."
   ]
  },
  {
   "cell_type": "markdown",
   "metadata": {},
   "source": [
    "## Data\n",
    "\n",
    "The dataset we will use contain different word sense for 30 different words. The data is organized as follows (values separated by tabs): \n",
    "- Column 1: word-sense\n",
    "- Column 2: word-form\n",
    "- Column 3: index of word\n",
    "- Column 4: white-space tokenized context"
   ]
  },
  {
   "cell_type": "markdown",
   "metadata": {},
   "source": [
    "### Splitting the data\n",
    "\n",
    "Your first task is to seperate the data into a *training set* and a *test set*. The training set should contain 80% of the examples and the test set the remaining 20%. The examples for the test/training set should be selected **randomly**. Save each dataset into a .csv file for loading later. **[2 marks]**"
   ]
  },
  {
   "cell_type": "code",
   "execution_count": 7,
   "metadata": {},
   "outputs": [],
   "source": [
    "path = \"wsd-data/wsd_data.txt\"\n",
    "import random\n",
    "\n",
    "\n",
    "\n",
    "def data_split(path_to_dataset):\n",
    "    \n",
    "    list_of_lines = []\n",
    "    with open(path_to_dataset, \"r\") as f:\n",
    "        for line in f:\n",
    "            list_of_lines.append(line)\n",
    "    \n",
    "    random.shuffle(list_of_lines)\n",
    "    \n",
    "    training = list_of_lines[:int(len(list_of_lines)*0.8)] \n",
    "    testing = list_of_lines[-int(len(list_of_lines)*0.2):]\n",
    "    \n",
    "    \n",
    "    with open(\"train.csv\", \"w\") as f:\n",
    "        for line in training:\n",
    "            f.write(line)\n",
    "            \n",
    "    with open(\"test.csv\", \"w\") as f:\n",
    "        for line in testing:\n",
    "            f.write(line)\n",
    "    \n",
    "    return \n",
    "\n",
    "\n",
    "data_split(path)\n",
    "\n"
   ]
  },
  {
   "cell_type": "markdown",
   "metadata": {},
   "source": [
    "### Creating a baseline\n",
    "\n",
    "Your second task is to create a *baseline* for the task. A baseline is a \"reality check\" for a model, given a very simple heuristic/algorithmic/model solution to the problem, can our neural network perform better than this?\n",
    "The baseline you are to create is the \"most common sense\" (MCS) baseline. For each word form, find the most commonly assigned sense to the word, and label a words with that sense. **[2 marks]**\n",
    "\n",
    "E.g. In a fictional dataset, \"bank\" have two senses, \"financial institution\" which occur 5 times and \"side of river\" 3 times. Thus, all 8 occurences of bank is labeled \"financial institution\" and this yields an MCS accuracy of 5/8 = 62.5%. If a model obtain a higher score than this, we can conclude that the model *at least* is better than selecting the most frequent word sense."
   ]
  },
  {
   "cell_type": "code",
   "execution_count": 6,
   "metadata": {},
   "outputs": [
    {
     "name": "stdout",
     "output_type": "stream",
     "text": [
      "{'security.n': 1733, 'build.v': 1957, 'see.v': 5232, 'case.n': 1896, 'point.n': 1531, 'find.v': 1919, 'professional.a': 1595, 'follow.v': 2666, 'time.n': 1693, 'major.a': 1181, 'physical.a': 1522, 'line.n': 4471, 'national.a': 1745, 'force.n': 2199, 'keep.v': 4302, 'lead.v': 2063, 'position.n': 1757, 'extend.v': 1962, 'critical.a': 1243, 'order.n': 1559, 'hold.v': 2487, 'serve.v': 2403, 'bring.v': 2003, 'regular.a': 1605, 'life.n': 1725, 'bad.a': 1394, 'place.n': 1559, 'common.a': 1394, 'positive.a': 974, 'active.a': 1069}\n",
      "0.2824516753444934\n"
     ]
    }
   ],
   "source": [
    "train = \"train.csv\"\n",
    "test = \"test.csv\"\n",
    "\n",
    "from collections import Counter\n",
    "\n",
    "\n",
    "import copy\n",
    "\n",
    "\n",
    "def mcs_baseline(data):\n",
    "    \n",
    "    data = [x.strip('\\n').split('\\t') for x in open('train.csv')]\n",
    "\n",
    "    listofwordsenses = []\n",
    "    listofwordforms = []\n",
    "    wordsense = {}\n",
    "    return_dict = {}\n",
    "\n",
    "    for item in data:\n",
    "        wordform = item[1]\n",
    "        wordsense = item[0], item[1]\n",
    "        listofwordsenses.append(wordsense)\n",
    "        listofwordforms.append(wordform)\n",
    "    \n",
    "    \n",
    "    wordsense = Counter(listofwordsenses)\n",
    "    wordforms = dict.fromkeys(listofwordforms, 0)\n",
    "\n",
    "    \n",
    "    #dictionary with the highest values\n",
    "\n",
    "\n",
    "    dictcount = dict.fromkeys(listofwordforms, 0)\n",
    "    for k1, v1 in wordforms.copy().items():\n",
    "        for k2, v2 in wordsense.items():\n",
    "            #if the word form in first dict is the same as wordform in second dict\n",
    "            if k1 == k2[1]:\n",
    "                #if the current value of dict1 is smaller than value of list2\n",
    "                if wordforms[k1] < v2:\n",
    "                    #k1 value is set to v2 value\n",
    "                    wordforms[k1] = v2\n",
    "                    #word label and most common word sense\n",
    "                    return_dict[k1] = k2[0]\n",
    "                #all values\n",
    "                dictcount[k1] += v2\n",
    "\n",
    "    \n",
    "\n",
    "    ret = copy.deepcopy(dictcount)\n",
    "    for k1, v1 in wordforms.items():\n",
    "        for k2, v2 in dictcount.items():\n",
    "            if k1 == k2:\n",
    "                wordforms[k1] = v1/v2\n",
    "        \n",
    "    return wordforms, ret\n",
    "\n",
    "\n",
    "\n",
    "\n",
    "\n",
    "baseline_dict, dictcount = mcs_baseline(train)\n",
    "\n",
    "print(dictcount)\n",
    "\n",
    "#print(baseline_dict)\n",
    "print(sum(baseline_dict.values()) / len(baseline_dict.keys()))\n",
    "    \n",
    "    "
   ]
  },
  {
   "cell_type": "markdown",
   "metadata": {},
   "source": [
    "### Creating data iterators\n",
    "\n",
    "To train a neural network, we first need to prepare the data. This involves converting words (and labels) to a number, and organizing the data into batches. We also want the ability to shuffle the examples such that they appear in a random order.  \n",
    "\n",
    "To do all of this we will use the torchtext library (https://torchtext.readthedocs.io/en/latest/index.html). In addition to converting our data into numerical form and creating batches, it will generate a word and label vocabulary, and data iterators than can sort and shuffle the examples. \n",
    "\n",
    "Your task is to create a dataloader for the training and test set you created previously. So, how do we go about doing this?\n",
    "\n",
    "1) First we create a ``Field`` for each of our columns. A field is a function which tokenize the input, keep a dictionary of word-to-numbers, and fix paddings. So, we need four fields, one for the word-sense, one for the position, one for the lemma and one for the context. \n",
    "\n",
    "2) After we have our fields, we need to process the data. For this we use the ``TabularDataset`` class. We pass the name and path of the training and test files we created previously, then we assign which field to use in each column. The result is that each column will be processed by the field indicated. So, the context column will be tokenized and processed by the context field and so on. \n",
    "\n",
    "3) After we have processed the dataset we need to build the vocabulary, for this we call the function ``build_vocab()`` on the different ``Fields`` with the output from ``TabularDataset`` as input. This looks at our dataset and creates the necessary vocabularies (word-to-number mappings). \n",
    "\n",
    "4) Finally, the last step. In the last step we load the data objects given by the ``TabularDataset`` and pass it to the ``BucketIterator`` class. This class will organize our examples into batches and shuffle them around (such that for each epoch the model observe the examples in a different order). When we are done with this we can let our function return the data iterators and vocabularies, then we are ready to train and test our model!\n",
    "\n",
    "Implement the dataloader. [**2 marks**]\n",
    "\n",
    "*hint: for TabularDataset and BucketIterator use the class function splits()* "
   ]
  },
  {
   "cell_type": "code",
   "execution_count": 11,
   "metadata": {},
   "outputs": [],
   "source": [
    "path = \"wsd-data/\"\n",
    "\n",
    "\n",
    "def dataloader(path):\n",
    "    whitespacer = lambda x: x.split(' ')\n",
    "    \n",
    "    WORDSENSE = Field(tokenize    = whitespacer,\n",
    "                   lower       = True,\n",
    "                   batch_first = True) \n",
    "    \n",
    "    POSITION = Field(batch_first = True) \n",
    "    \n",
    "    LEMMA = Field(tokenize    = whitespacer,\n",
    "                   lower       = True,\n",
    "                   batch_first = True) \n",
    "\n",
    "    CONTEXT = Field(tokenize    = whitespacer,\n",
    "                   lower        = True,\n",
    "                   batch_first = True)\n",
    "\n",
    "    # read the csv files\n",
    "    train, test = TabularDataset.splits(path   = path,\n",
    "                                        train  = 'train.csv',\n",
    "                                        test   = 'test.csv',\n",
    "                                        format = 'csv',\n",
    "                                        fields = [('wordsense', WORDSENSE),\n",
    "                                                  (\"lemma\", LEMMA),\n",
    "                                                  ('position', POSITION),\n",
    "                                                  (\"context\", CONTEXT)],\n",
    "                                        skip_header       = True,\n",
    "                                        csv_reader_params = {'delimiter':'\\t',\n",
    "                                                             'quotechar':'½'})\n",
    "\n",
    "    # build vocabularies based on what our csv files contained and create word2id mapping\n",
    "    WORDSENSE.build_vocab(train)\n",
    "    LEMMA.build_vocab(train)\n",
    "    POSITION.build_vocab(train)\n",
    "    CONTEXT.build_vocab(train)\n",
    "\n",
    "    # create batches from our data, and shuffle them for each epoch\n",
    "    train_iter, test_iter = BucketIterator.splits((train, test),\n",
    "                                                  batch_size        = 8,\n",
    "                                                  sort_within_batch = True,\n",
    "                                                  sort_key          = lambda x: len(x.context),\n",
    "                                                  shuffle           = True,\n",
    "                                                  device            = device)\n",
    "\n",
    "    return train_iter, test_iter, CONTEXT, WORDSENSE, POSITION, LEMMA"
   ]
  },
  {
   "cell_type": "code",
   "execution_count": null,
   "metadata": {},
   "outputs": [],
   "source": [
    " "
   ]
  },
  {
   "cell_type": "markdown",
   "metadata": {},
   "source": [
    "# 2.1 Creating and running a Neural Network for WSD\n",
    "\n",
    "In this section we will create and run a neural network to predict word senses based on *contextualized representations*."
   ]
  },
  {
   "cell_type": "markdown",
   "metadata": {},
   "source": [
    "### Model\n",
    "\n",
    "We will use a bidirectional Long-Short-Term Memory (LSTM) network to create a representation for the sentences and a Linear classifier to predict the sense of each word.\n",
    "\n",
    "When we initialize the model, we need a few things:\n",
    "\n",
    "    1) An embedding layer: a dictionary from which we can obtain word embeddings\n",
    "    2) A LSTM-module to obtain contextual representations\n",
    "    3) A classifier that compute scores for each word-sense given *some* input\n",
    "\n",
    "\n",
    "The general procedure is the following:\n",
    "\n",
    "    1) For each word in the sentence, obtain word embeddings\n",
    "    2) Run the embedded sentences through the RNN\n",
    "    3) Select the appropriate hidden state\n",
    "    4) Predict the word-sense \n",
    "\n",
    "**Suggestion for efficiency:**  *Use a low dimensionality (32) for word embeddings and the LSTM when developing and testing the code, then scale up when running the full training/tests*\n",
    "    \n",
    "Your tasks will be to create two different models (both follow the two outlines described above), described below:"
   ]
  },
  {
   "cell_type": "markdown",
   "metadata": {},
   "source": [
    "In the first approach to WSD, you are to select the index of our target word (column 3 in the dataset) and predict the word sense. **[5 marks]**\n"
   ]
  },
  {
   "cell_type": "code",
   "execution_count": 12,
   "metadata": {},
   "outputs": [],
   "source": [
    "class WSDModel_approach1(nn.Module):\n",
    "    def __init__(self, vocab_size, wordsense_size,  emb_dim, out_dim):\n",
    "        super(WSDModel_approach1, self).__init__()\n",
    "        self.embeddings = nn.Embedding(vocab_size, emb_dim)\n",
    "        self.LSTM = nn.LSTM(emb_dim, out_dim, batch_first = True, bidirectional = True)          \n",
    "        self.classifier = nn.Linear(out_dim*2, wordsense_size)\n",
    "\n",
    "    def forward(self, batch, word_index):                     \n",
    "        embedded_batch = self.embeddings(batch)   \n",
    "        contextualized_embedding, (hn, cn) = self.LSTM(embedded_batch)   \n",
    "\n",
    "        output = contextualized_embedding[torch.arange(contextualized_embedding.size(0)), word_index]\n",
    "        output = self.classifier(output)\n",
    "        return output\n"
   ]
  },
  {
   "cell_type": "markdown",
   "metadata": {},
   "source": [
    "In the second approach to WSD, you are to predict the word sense based on the final hidden state given by the RNN. **[5 marks]**"
   ]
  },
  {
   "cell_type": "code",
   "execution_count": 13,
   "metadata": {},
   "outputs": [],
   "source": [
    "\n",
    "class WSDModel_approach2(nn.Module):\n",
    "    def __init__(self, vocab_size, wordsense_size,  emb_dim, out_dim):              \n",
    "        super(WSDModel_approach2, self).__init__()                 \n",
    "        self.embeddings = nn.Embedding(vocab_size, emb_dim)                 \n",
    "        self.LSTM = nn.LSTM(emb_dim, out_dim, batch_first = True, bidirectional = True)       \n",
    "        self.classifier = nn.Linear(out_dim*2, wordsense_size)              # 34x2 = 64, wordsense_size is 217\n",
    "        \n",
    "    def forward(self, batch):                \n",
    "        embedded_batch = self.embeddings(batch)  \n",
    "        output, (hn, cn) = self.LSTM(embedded_batch)    \n",
    "        forward = hn[0,:,:]                            # bidirectional, l2r\n",
    "        backward = hn[1,:,:]                           # bidirectional, r2l\n",
    "        out = torch.cat((forward, backward), 1)        #concatenate in first dimension \n",
    "        output = self.classifier(out)             \n",
    "        \n",
    "\n",
    "        return output"
   ]
  },
  {
   "cell_type": "code",
   "execution_count": null,
   "metadata": {},
   "outputs": [],
   "source": []
  },
  {
   "cell_type": "markdown",
   "metadata": {},
   "source": [
    "### Training and testing the model\n",
    "\n",
    "Now we are ready to train and test our model. What we need now is a loss function, an optimizer, and our data. \n",
    "\n",
    "- First, create the loss function and the optimizer.\n",
    "- Next, we iterate over the number of epochs (i.e. how many times we let the model see our data). \n",
    "- For each epoch, iterate over the dataset (``train_iter``) to obtain batches. Use the batch as input to the model, and let the model output scores for the different word senses.\n",
    "- For each model output, calculate the loss (and print the loss) on the output and update the model parameters.\n",
    "- Reset the gradients and repeat.\n",
    "- After all epochs are done, test your trained model on the test set (``test_iter``) and calculate the total and per-word-form accuracy of your model.\n",
    "\n",
    "Implement the training and testing of the model **[4 marks]**\n",
    "\n",
    "**Suggestion for efficiency:** *when developing your model, try training and testing the model on one or two batches (for each epoch) of data to make sure everything works! It's very annoying if you train for N epochs to find out that something went wrong when testing the model, or to find that something goes wrong when moving from epoch 0 to epoch 1.*"
   ]
  },
  {
   "cell_type": "code",
   "execution_count": null,
   "metadata": {},
   "outputs": [],
   "source": []
  },
  {
   "cell_type": "code",
   "execution_count": null,
   "metadata": {},
   "outputs": [],
   "source": []
  },
  {
   "cell_type": "code",
   "execution_count": 14,
   "metadata": {},
   "outputs": [
    {
     "ename": "NameError",
     "evalue": "name 'Field' is not defined",
     "output_type": "error",
     "traceback": [
      "\u001b[0;31m---------------------------------------------------------------------------\u001b[0m",
      "\u001b[0;31mNameError\u001b[0m                                 Traceback (most recent call last)",
      "\u001b[0;32m<ipython-input-14-f5b1e3ed75e6>\u001b[0m in \u001b[0;36m<module>\u001b[0;34m\u001b[0m\n\u001b[0;32m----> 1\u001b[0;31m \u001b[0mtrain_iter\u001b[0m\u001b[0;34m,\u001b[0m \u001b[0mtest_iter\u001b[0m\u001b[0;34m,\u001b[0m \u001b[0mvocab\u001b[0m\u001b[0;34m,\u001b[0m \u001b[0mlabels\u001b[0m\u001b[0;34m,\u001b[0m \u001b[0mPOSITION\u001b[0m\u001b[0;34m,\u001b[0m \u001b[0mLEMMA\u001b[0m \u001b[0;34m=\u001b[0m \u001b[0mdataloader\u001b[0m\u001b[0;34m(\u001b[0m\u001b[0;34m\"wsd-data/\"\u001b[0m\u001b[0;34m)\u001b[0m\u001b[0;34m\u001b[0m\u001b[0;34m\u001b[0m\u001b[0m\n\u001b[0m\u001b[1;32m      2\u001b[0m \u001b[0;34m\u001b[0m\u001b[0m\n\u001b[1;32m      3\u001b[0m \u001b[0;34m\u001b[0m\u001b[0m\n\u001b[1;32m      4\u001b[0m model1 = WSDModel_approach1(\n\u001b[1;32m      5\u001b[0m         \u001b[0mvocab_size\u001b[0m \u001b[0;34m=\u001b[0m \u001b[0mlen\u001b[0m\u001b[0;34m(\u001b[0m\u001b[0mvocab\u001b[0m\u001b[0;34m.\u001b[0m\u001b[0mvocab\u001b[0m\u001b[0;34m)\u001b[0m\u001b[0;34m,\u001b[0m\u001b[0;34m\u001b[0m\u001b[0;34m\u001b[0m\u001b[0m\n",
      "\u001b[0;32m<ipython-input-11-14dee71fef2c>\u001b[0m in \u001b[0;36mdataloader\u001b[0;34m(path)\u001b[0m\n\u001b[1;32m      5\u001b[0m     \u001b[0mwhitespacer\u001b[0m \u001b[0;34m=\u001b[0m \u001b[0;32mlambda\u001b[0m \u001b[0mx\u001b[0m\u001b[0;34m:\u001b[0m \u001b[0mx\u001b[0m\u001b[0;34m.\u001b[0m\u001b[0msplit\u001b[0m\u001b[0;34m(\u001b[0m\u001b[0;34m' '\u001b[0m\u001b[0;34m)\u001b[0m\u001b[0;34m\u001b[0m\u001b[0;34m\u001b[0m\u001b[0m\n\u001b[1;32m      6\u001b[0m \u001b[0;34m\u001b[0m\u001b[0m\n\u001b[0;32m----> 7\u001b[0;31m     WORDSENSE = Field(tokenize    = whitespacer,\n\u001b[0m\u001b[1;32m      8\u001b[0m                    \u001b[0mlower\u001b[0m       \u001b[0;34m=\u001b[0m \u001b[0;32mTrue\u001b[0m\u001b[0;34m,\u001b[0m\u001b[0;34m\u001b[0m\u001b[0;34m\u001b[0m\u001b[0m\n\u001b[1;32m      9\u001b[0m                    batch_first = True) \n",
      "\u001b[0;31mNameError\u001b[0m: name 'Field' is not defined"
     ]
    }
   ],
   "source": [
    "train_iter, test_iter, vocab, labels, POSITION, LEMMA = dataloader(\"wsd-data/\")\n",
    "\n",
    "\n",
    "model1 = WSDModel_approach1(\n",
    "        vocab_size = len(vocab.vocab), \n",
    "        wordsense_size = len(labels.vocab),\n",
    "        emb_dim = hyperparameters[\"embedding_dim\"],\n",
    "        out_dim = hyperparameters[\"output_dim\"])\n",
    "\n",
    "\n",
    "\n",
    "loss_function = nn.CrossEntropyLoss()\n",
    "optimizer = optim.Adam(\n",
    "    model1.parameters(),\n",
    "    lr=hyperparameters['learning_rate']\n",
    ")\n",
    "\n",
    "\n",
    "\n",
    "total_loss = 0\n",
    "for epoch in range(hyperparameters[\"epochs\"]):\n",
    "    for i, batch in enumerate(train_iter):\n",
    "        \n",
    "        \n",
    "        #index\n",
    "        batch_position = torch.tensor([int(POSITION.vocab.itos[x]) for x in batch.position])\n",
    "        \n",
    "        #sentence \n",
    "        context = batch.context \n",
    "        \n",
    "        \n",
    "        target_word = batch.wordsense\n",
    "        \n",
    "\n",
    "        output = model1(batch.context, batch_position)\n",
    "        \n",
    "        loss = loss_function(output, target_word.reshape(-1))\n",
    "        total_loss += loss.item()\n",
    "        \n",
    "        print(total_loss/(i+1), end='\\r') \n",
    "        \n",
    "\n",
    "        # compute gradients\n",
    "        loss.backward()\n",
    "        \n",
    "        # update parameters\n",
    "        optimizer.step()\n",
    "        \n",
    "        # reset gradients\n",
    "        optimizer.zero_grad()      \n",
    "\n",
    "# test model after all epochs are completed"
   ]
  },
  {
   "cell_type": "code",
   "execution_count": null,
   "metadata": {},
   "outputs": [],
   "source": [
    "torch.save(model1, \"model1\")"
   ]
  },
  {
   "cell_type": "code",
   "execution_count": 114,
   "metadata": {},
   "outputs": [
    {
     "name": "stdout",
     "output_type": "stream",
     "text": [
      "12.724319196531132\r"
     ]
    }
   ],
   "source": [
    "train_iter, test_iter, vocab, labels, POSITION, LEMMA = dataloader(\"wsd-data/\")\n",
    "\n",
    "\n",
    "model2 = WSDModel_approach2(\n",
    "        vocab_size = len(vocab.vocab), \n",
    "        wordsense_size = len(labels.vocab),\n",
    "        emb_dim = hyperparameters[\"embedding_dim\"],\n",
    "        out_dim = hyperparameters[\"output_dim\"])\n",
    "\n",
    "\n",
    "\n",
    "loss_function = nn.CrossEntropyLoss()\n",
    "optimizer = optim.Adam(\n",
    "    model2.parameters(),\n",
    "    lr=hyperparameters['learning_rate']\n",
    ")\n",
    "\n",
    "\n",
    "\n",
    "total_loss = 0\n",
    "for epoch in range(hyperparameters[\"epochs\"]):\n",
    "    for i, batch in enumerate(train_iter):\n",
    "        \n",
    "        \n",
    "        batch_position = torch.tensor([int(POSITION.vocab.itos[x]) for x in batch.position])\n",
    "        \n",
    "        context = batch.context \n",
    "        \n",
    "        \n",
    "        target_word = batch.wordsense\n",
    "        \n",
    "\n",
    "        output = model2(batch.context) #, batch_position)\n",
    "        loss = loss_function(output, target_word.reshape(-1))\n",
    "        total_loss += loss.item()\n",
    "        \n",
    "        print(total_loss/(i+1), end='\\r') \n",
    "        \n",
    "\n",
    "        # compute gradients\n",
    "        loss.backward()\n",
    "        \n",
    "        # update parameters\n",
    "        optimizer.step()\n",
    "        \n",
    "        # reset gradients\n",
    "        optimizer.zero_grad()      \n",
    "\n",
    "# test model after all epochs are completed"
   ]
  },
  {
   "cell_type": "code",
   "execution_count": 115,
   "metadata": {},
   "outputs": [],
   "source": [
    "torch.save(model2, \"model2\")"
   ]
  },
  {
   "cell_type": "code",
   "execution_count": 11,
   "metadata": {},
   "outputs": [
    {
     "data": {
      "text/plain": [
       "WSDModel_approach1(\n",
       "  (embeddings): Embedding(70324, 32)\n",
       "  (LSTM): LSTM(32, 32, batch_first=True, bidirectional=True)\n",
       "  (classifier): Linear(in_features=64, out_features=224, bias=True)\n",
       ")"
      ]
     },
     "execution_count": 11,
     "metadata": {},
     "output_type": "execute_result"
    }
   ],
   "source": []
  },
  {
   "cell_type": "code",
   "execution_count": 101,
   "metadata": {},
   "outputs": [
    {
     "name": "stdout",
     "output_type": "stream",
     "text": [
      "Total accuracy model 1: 66.7 %94\n",
      "Per-word-form accuracy model 1:\n",
      "see.v : 78.43 %\n",
      "line.n : 93.47 %\n",
      "keep.v : 73.64 %\n",
      "follow.v : 62.13 %\n",
      "hold.v : 50.96 %\n",
      "serve.v : 54.93 %\n",
      "force.n : 80.25 %\n",
      "lead.v : 44.55 %\n",
      "bring.v : 51.19 %\n",
      "build.v : 42.24 %\n",
      "extend.v : 53.57 %\n",
      "find.v : 65.73 %\n",
      "case.n : 47.7 %\n",
      "position.n : 47.61 %\n",
      "time.n : 70.5 %\n",
      "security.n : 81.47 %\n",
      "national.a : 73.62 %\n",
      "life.n : 70.26 %\n",
      "order.n : 65.45 %\n",
      "professional.a : 76.38 %\n",
      "regular.a : 59.38 %\n",
      "physical.a : 61.76 %\n",
      "point.n : 74.55 %\n",
      "place.n : 69.23 %\n",
      "common.a : 62.94 %\n",
      "bad.a : 77.51 %\n",
      "critical.a : 66.36 %\n",
      "major.a : 50.85 %\n",
      "active.a : 75.86 %\n",
      "positive.a : 60.5 %\n"
     ]
    }
   ],
   "source": [
    "### TEST MODEL 1\n",
    "model1 = torch.load('model1')\n",
    "\n",
    "test_loss = 0\n",
    "model1.eval()\n",
    "total = 0\n",
    "correct = 0\n",
    "\n",
    "\n",
    "\n",
    "per_word_form_total = dict.fromkeys(LEMMA.vocab.itos, 0)\n",
    "per_word_form_correct = dict.fromkeys(LEMMA.vocab.itos, 0)\n",
    "\n",
    "\n",
    "for i, batch in enumerate(test_iter):\n",
    "\n",
    "    try:\n",
    "        context = batch.context\n",
    "        word_sense = batch.wordsense\n",
    "        lemma = batch.lemma\n",
    "        position = torch.tensor([int(POSITION.vocab.itos[x]) for x in batch.position])\n",
    "\n",
    "        with torch.no_grad(): \n",
    "            output = model1(context,position)\n",
    "\n",
    "            # Calculate total accuracy\n",
    "            total += word_sense.size(0)\n",
    "            predicted = [labels.vocab.itos[x] for x in torch.max(output, 1)[1]]\n",
    "            labels2 = [labels.vocab.itos[x] for x in word_sense]\n",
    "            word_forms = [LEMMA.vocab.itos[x] for x in lemma]\n",
    "            \n",
    "            \n",
    "            \n",
    "            for n in range(len(predicted)):\n",
    "                if predicted[n] == labels2[n]:\n",
    "                    correct += 1\n",
    "\n",
    "            # Calculate per_word_accuracy\n",
    "            loss = loss_function(output, word_sense.reshape(-1))\n",
    "            test_loss += loss.item()\n",
    "            print('>', np.round(test_loss/(i+1), 4), end='\\r')\n",
    "            \n",
    "            \n",
    "        # Calculate per-word-form accuracy\n",
    "            for n,word_form in enumerate(word_forms):\n",
    "                if predicted[n] == labels2[n]:\n",
    "                    per_word_form_correct[word_form] += 1\n",
    "                per_word_form_total[word_form] += 1\n",
    "\n",
    "    except ValueError:\n",
    "        pass\n",
    "\n",
    "accuracy1_model1 = correct / total\n",
    "print(f'Total accuracy model 1: {np.round(accuracy * 100, 2)} %')\n",
    "\n",
    "accuracy2_model1 = {word_form : (per_word_form_correct[word_form] / per_word_form_total[word_form]) for word_form in baseline_dict.keys() if per_word_form_total[word_form] > 0}\n",
    "\n",
    "\n",
    "print('Per-word-form accuracy model 1:')\n",
    "for k,v in accuracy2_model1.items():\n",
    "    print(f'{k} : {np.round(v * 100, 2)} %')"
   ]
  },
  {
   "cell_type": "code",
   "execution_count": null,
   "metadata": {},
   "outputs": [],
   "source": []
  },
  {
   "cell_type": "code",
   "execution_count": 116,
   "metadata": {},
   "outputs": [
    {
     "name": "stdout",
     "output_type": "stream",
     "text": [
      "Total accuracy model 2: 28.95 %\n",
      "Per-word-form accuracy model 2:\n",
      "lead.v : 12.28 %\n",
      "line.n : 83.17 %\n",
      "order.n : 30.05 %\n",
      "extend.v : 24.58 %\n",
      "security.n : 14.96 %\n",
      "critical.a : 7.17 %\n",
      "build.v : 8.16 %\n",
      "active.a : 9.54 %\n",
      "bring.v : 10.56 %\n",
      "see.v : 62.97 %\n",
      "find.v : 19.91 %\n",
      "professional.a : 23.25 %\n",
      "serve.v : 5.76 %\n",
      "physical.a : 25.5 %\n",
      "keep.v : 60.49 %\n",
      "force.n : 14.85 %\n",
      "position.n : 20.5 %\n",
      "follow.v : 11.09 %\n",
      "common.a : 27.06 %\n",
      "hold.v : 8.29 %\n",
      "point.n : 39.22 %\n",
      "place.n : 20.43 %\n",
      "case.n : 10.94 %\n",
      "time.n : 12.24 %\n",
      "regular.a : 25.72 %\n",
      "positive.a : 13.81 %\n",
      "life.n : 27.91 %\n",
      "bad.a : 49.09 %\n",
      "major.a : 1.71 %\n",
      "national.a : 0.91 %\n"
     ]
    }
   ],
   "source": [
    "model2 = torch.load('model2')\n",
    "\n",
    "test_loss = 0\n",
    "model2.eval()\n",
    "\n",
    "total = 0\n",
    "correct = 0\n",
    "\n",
    "per_word_form_total = dict.fromkeys(LEMMA.vocab.itos, 0)\n",
    "per_word_form_correct = dict.fromkeys(LEMMA.vocab.itos, 0)\n",
    "\n",
    "\n",
    "#vocab, labels, POSITION, LEMMA\n",
    "\n",
    "\n",
    "\n",
    "for i, batch in enumerate(test_iter):\n",
    "    \n",
    "    word_sense = batch.wordsense\n",
    "    lemma = batch.lemma\n",
    "\n",
    "    with torch.no_grad(): \n",
    "        output = model2(batch.context)\n",
    "        loss = loss_function(output, word_sense.reshape(-1))\n",
    "        test_loss += loss.item()\n",
    "\n",
    "        # Calculate total accuracy\n",
    "        total += word_sense.size(0)\n",
    "\n",
    "        predicted = [labels.vocab.itos[x] for x in torch.max(output, 1)[1]]\n",
    "        labels2 = [labels.vocab.itos[x] for x in word_sense]\n",
    "        word_forms = [LEMMA.vocab.itos[x] for x in lemma]\n",
    "\n",
    "        for n in range(len(predicted)):\n",
    "            if predicted[n] == labels2[n]:\n",
    "                correct += 1\n",
    "\n",
    "        # Calculate per-word-form accuracy\n",
    "        for n,word_form in enumerate(word_forms):\n",
    "            if predicted[n] == labels2[n]:\n",
    "                per_word_form_correct[word_form] += 1\n",
    "            per_word_form_total[word_form] += 1\n",
    "\n",
    "\n",
    "        print('>', np.round(test_loss/(i+1), 4), end='\\r')\n",
    "\n",
    "accuracy_model2 = correct / total\n",
    "accuracy2_model2 = {word_form : (per_word_form_correct[word_form] / per_word_form_total[word_form]) for word_form in baseline_dict.keys() if per_word_form_total[word_form] > 0}\n",
    "print(f'Total accuracy model 2: {np.round(accuracy_model2 * 100, 2)} %')\n",
    "\n",
    "print('Per-word-form accuracy model 2:')\n",
    "for k,v in accuracy2_model2.items():\n",
    "    print(f'{k} : {np.round(v * 100, 2)} %')"
   ]
  },
  {
   "cell_type": "code",
   "execution_count": null,
   "metadata": {},
   "outputs": [],
   "source": []
  },
  {
   "cell_type": "code",
   "execution_count": 61,
   "metadata": {},
   "outputs": [
    {
     "name": "stdout",
     "output_type": "stream",
     "text": [
      "['council', 'women', 'our', 'general', 'would', 'including', 'rights', 'his']\n"
     ]
    }
   ],
   "source": [
    "a = [159, 151, 115,  76, 121,  89, 128, 108]\n",
    "b = [58, 57, 98, 68, 49, 69, 52, 73]\n",
    "\n",
    "print([vocab.vocab.itos[x] for x in c])"
   ]
  },
  {
   "cell_type": "code",
   "execution_count": null,
   "metadata": {},
   "outputs": [],
   "source": []
  },
  {
   "cell_type": "markdown",
   "metadata": {},
   "source": [
    "# 2.2 Running a transformer for WSD"
   ]
  },
  {
   "cell_type": "markdown",
   "metadata": {},
   "source": [
    "In this section of the lab you'll try out the transformer, specifically the BERT model. For this we'll use the huggingface library (https://huggingface.co/).\n",
    "\n",
    "You can find the documentation for the BERT model here (https://huggingface.co/transformers/model_doc/bert.html) and a general usage guide here (https://huggingface.co/transformers/quickstart.html).\n",
    "\n",
    "What we're going to do is *fine-tune* the BERT model, i.e. update the weights of a pre-trained model. That is, we have a model that is trained on language modeling, but now we apply it to word sense disambiguation with the word representations it learnt from language modeling.\n",
    "\n",
    "We'll use the same data splits for training and testing as before, but this time you'll not use a torchtext dataloader. Rather now you create an iterator that collects N sentences (where N is the batch size) then use the BertTokenizer to transform the sentence into integers. For your dataloader, remember to:\n",
    "* Shuffle the data in each batch\n",
    "* Make sure you get a new iterator for each *epoch*\n",
    "* Create a vocabulary of *sense-labels* so you can calculate accuracy \n",
    "\n",
    "We then pass this batch into the BERT model and train as before. The BERT model will encode the sentence, then we send this encoded sentence into a prediction layer (you can either the the sentence-representation from bert, or the ambiguous word) like before and collect sense predictions.\n",
    "\n",
    "About the hyperparameters and training:\n",
    "* For BERT, usually a lower learning rate works best, between 0.0001-0.000001.\n",
    "* BERT takes alot of resources, running it on CPU will take ages, utilize the GPUs :)\n",
    "* Since BERT takes alot of resources, use a small batch size (4-8)\n",
    "* Computing the BERT representation, make sure you pass the mask\n",
    "\n",
    "**[10 marks]**"
   ]
  },
  {
   "cell_type": "code",
   "execution_count": null,
   "metadata": {},
   "outputs": [],
   "source": []
  },
  {
   "cell_type": "code",
   "execution_count": 11,
   "metadata": {},
   "outputs": [],
   "source": [
    "import torch\n",
    "import transformers\n",
    "from transformers import BertTokenizer,BertForSequenceClassification\n",
    "#import logging\n",
    "#logging.basicConfig(level=logging.INFO)"
   ]
  },
  {
   "cell_type": "code",
   "execution_count": 102,
   "metadata": {},
   "outputs": [],
   "source": [
    "import pandas as pd\n",
    "\n",
    "# Load pre-trained model tokenizer (vocabulary)\n",
    "import torch\n",
    "import random\n",
    "from transformers import AutoModel, AutoTokenizer, BertTokenizer\n",
    "tokenizer = BertTokenizer.from_pretrained('bert-base-uncased')\n",
    "#model = AutoModel.from_pretrained('bert-base-uncased')\n",
    "#tokenizer = BertTokenizer.from_pretrained(\"distilbert-base-cased\")\n",
    "\n",
    "\n",
    "\n",
    "#splits the dataframe into batch size\n",
    "def split_dataframe(df, chunk_size): \n",
    "    chunks = list()\n",
    "    num_chunks = len(df) // chunk_size + 1\n",
    "    for i in range(num_chunks):\n",
    "        chunks.append(df[i*chunk_size:(i+1)*chunk_size])\n",
    "        \n",
    "    chunks = chunks[:-1]\n",
    "    random.shuffle(chunks)\n",
    "    training = chunks[:int(len(chunks)*0.8)] \n",
    "    #\n",
    "   # testing = chunks[-int(len(chunks)*0.2):]\n",
    "    \n",
    "    ### changed this to be smaller as well\n",
    "    testing = chunks[-int(len(chunks)*0.05):]\n",
    "    \n",
    "    #changed so that it trains on the smaller batch, testing, just for now ####################################\n",
    "    return testing, training\n",
    "\n",
    "def dataloader_for_bert(path_to_file, batch_size):\n",
    "    \n",
    "    \n",
    "    df = pd.read_csv(path_to_file, sep=\"\\t\", header=None)\n",
    "    sense_labels = set(df[0].tolist())\n",
    "    \n",
    "    \n",
    "    #LEMMAS = set(df[1].tolist())\n",
    "    \n",
    "    #taking df(all the data from the file), splitting it into batches of batchsize\n",
    "    \n",
    "   # training, testing = split_dataframe(df, batch_size)\n",
    "    df_batches, df_batches_test = split_dataframe(df, batch_size)\n",
    "    \n",
    "    batches_vectorized = list()\n",
    "    for batch in df_batches:\n",
    "        random_index = list(range(len(batch.index)))\n",
    "        random.shuffle(random_index)\n",
    "        batch_senses = list()\n",
    "        batch_contexts = list()\n",
    "        batch_indexes = list()\n",
    "        #random index = indexes generated from random shuffle\n",
    "        #goes through one batch at a time\n",
    "        for i in random_index:\n",
    "            #selects wordsense\n",
    "            \n",
    "            \n",
    "            #trying to select lemma instead\n",
    "            batch_senses.append(batch.iloc[i][0])\n",
    "            \n",
    "            #selects context\n",
    "            batch_contexts.append(batch.iloc[i][3])\n",
    "            #selects index\n",
    "            batch_indexes.append(batch.iloc[i][2])\n",
    "        \n",
    "        ##encoding turns each word into a number corresponding to the bert vocab\n",
    "        batches_vectorized.append([tokenizer.batch_encode_plus(batch_contexts,\n",
    "                                                               max_length = 128,                #max length\n",
    "                                                               add_special_tokens = True,       #start, stop symbol\n",
    "                                                               truncation = True,               #?\n",
    "                                                               padding = True,                  #pad to max length\n",
    "                                                               return_attention_mask = True,    #attention mask\n",
    "                                                               return_tensors = \"pt\",            #return tensors\n",
    "                                                               return_token_type_ids = False     #not needed, single sentence\n",
    "                                                               ),\n",
    "                                   batch_senses\n",
    "                                  ,batch_indexes])\n",
    "    \n",
    "    \n",
    "    return sense_labels, batches_vectorized\n",
    "\n",
    "path_to_file = \"wsd-data/wsd_data.txt\"\n",
    "batch_size = 8\n",
    "sense_labels, batches = dataloader_for_bert(path_to_file, batch_size)\n",
    "\n",
    "\n",
    "#into forward, input_ids and attention_mask"
   ]
  },
  {
   "cell_type": "code",
   "execution_count": 233,
   "metadata": {},
   "outputs": [
    {
     "name": "stdout",
     "output_type": "stream",
     "text": [
      "{'major%3:00:06::': 0, 'major%3:00:07::': 1, 'critical%3:00:02::': 2, 'physical%3:00:00::': 3, 'line%1:06:09::': 4, 'hold%2:35:00::': 5, 'bring%2:36:00::': 6, 'extend%2:29:01::': 7, 'order%1:10:00::': 8, 'point%1:15:00::': 9, 'build%2:36:04::': 10, 'regular%5:00:00:frequent:00': 11, 'see%2:31:03::': 12, 'follow%2:38:01::': 13, 'lead%2:42:03::': 14, 'force%1:14:00::': 15, 'extend%2:30:06::': 16, 'life%1:07:01::': 17, 'case%1:09:00::': 18, 'life%1:26:01::': 19, 'follow%2:40:00::': 20, 'build%2:36:10::': 21, 'critical%5:00:00:indispensable:00': 22, 'serve%2:41:13::': 23, 'order%1:14:00::': 24, 'serve%2:42:03::': 25, 'find%2:31:10::': 26, 'hold%2:31:01::': 27, 'serve%2:41:00::': 28, 'place%1:15:06::': 29, 'critical%5:00:00:crucial:00': 30, 'life%1:03:00::': 31, 'serve%2:42:12::': 32, 'extend%2:30:09::': 33, 'bad%5:00:00:invalid:00': 34, 'common%5:00:00:shared:00': 35, 'line%1:14:02::': 36, 'active%5:00:00:involved:00': 37, 'point%1:23:01::': 38, 'keep%2:40:00::': 39, 'case%1:06:00::': 40, 'keep%2:32:00::': 41, 'order%1:10:03::': 42, 'critical%3:00:01::': 43, 'case%1:11:00::': 44, 'line%1:04:00::': 45, 'serve%2:42:01::': 46, 'build%2:30:00::': 47, 'physical%5:00:00:material:01': 48, 'find%2:32:00::': 49, 'regular%5:00:00:scheduled:00': 50, 'hold%2:40:04::': 51, 'place%1:15:04::': 52, 'build%2:41:00::': 53, 'keep%2:40:09::': 54, 'see%2:41:11::': 55, 'serve%2:33:00::': 56, 'serve%2:42:00::': 57, 'bring%2:30:00::': 58, 'follow%2:41:02::': 59, 'life%1:18:00::': 60, 'hold%2:42:00::': 61, 'point%1:09:00::': 62, 'physical%5:00:02:material:01': 63, 'see%2:31:02::': 64, 'regular%5:00:00:normal:01': 65, 'point%1:28:00::': 66, 'hold%2:32:11::': 67, 'security%1:14:00::': 68, 'life%1:28:01::': 69, 'find%2:40:02::': 70, 'hold%2:31:10::': 71, 'time%1:28:00::': 72, 'security%1:26:00::': 73, 'case%1:10:01::': 74, 'hold%2:40:00::': 75, 'positive%5:00:00:plus:00': 76, 'see%2:31:01::': 77, 'lead%2:38:00::': 78, 'force%1:07:02::': 79, 'regular%5:00:00:steady:00': 80, 'find%2:36:00::': 81, 'hold%2:40:02::': 82, 'find%2:31:09::': 83, 'common%5:00:00:familiar:02': 84, 'build%2:36:00::': 85, 'security%1:21:04::': 86, 'find%2:32:01::': 87, 'order%1:10:01::': 88, 'case%1:26:00::': 89, 'force%1:04:01::': 90, 'active%3:00:01::': 91, 'order%1:26:00::': 92, 'positive%5:00:00:formal:01': 93, 'regular%5:00:00:usual:00': 94, 'keep%2:35:10::': 95, 'critical%3:00:03::': 96, 'see%2:39:00::': 97, 'force%1:18:00::': 98, 'see%2:31:00::': 99, 'find%2:39:01::': 100, 'keep%2:40:13::': 101, 'positive%5:00:00:advantageous:00': 102, 'life%1:28:00::': 103, 'keep%2:40:01::': 104, 'professional%5:00:00:white-collar:00': 105, 'security%1:21:01::': 106, 'time%1:28:06::': 107, 'point%1:10:01::': 108, 'case%1:18:03::': 109, 'serve%2:41:02::': 110, 'line%1:04:01::': 111, 'security%1:04:00::': 112, 'national%5:00:00:domestic:00': 113, 'security%1:10:00::': 114, 'bring%2:37:05::': 115, 'extend%2:40:04::': 116, 'force%1:14:01::': 117, 'professional%3:00:02::': 118, 'bring%2:36:01::': 119, 'force%1:07:01::': 120, 'case%1:04:00::': 121, 'keep%2:41:01::': 122, 'major%3:00:02::': 123, 'point%1:09:01::': 124, 'position%1:09:00::': 125, 'serve%2:35:00::': 126, 'common%3:00:02::': 127, 'lead%2:41:12::': 128, 'keep%2:41:03::': 129, 'bad%3:00:00::': 130, 'common%3:00:01::': 131, 'see%2:39:03::': 132, 'bring%2:35:00::': 133, 'line%1:06:03::': 134, 'case%1:10:02::': 135, 'force%1:14:02::': 136, 'build%2:36:09::': 137, 'place%1:10:02::': 138, 'position%1:15:00::': 139, 'national%3:01:01::': 140, 'active%5:00:00:operational:00': 141, 'position%1:26:00::': 142, 'physical%5:00:00:forceful:00': 143, 'build%2:30:10::': 144, 'positive%3:00:04::': 145, 'build%2:30:05::': 146, 'position%1:04:01::': 147, 'build%2:31:03::': 148, 'life%1:09:00::': 149, 'place%1:04:01::': 150, 'professional%3:01:01::': 151, 'bring%2:40:02::': 152, 'national%3:01:00::': 153, 'force%1:07:00::': 154, 'hold%2:36:00::': 155, 'place%1:15:00::': 156, 'active%3:00:07::': 157, 'time%1:03:00::': 158, 'regular%5:00:00:standard:02': 159, 'follow%2:38:00::': 160, 'national%5:00:00:public:00': 161, 'lead%2:42:01::': 162, 'follow%2:42:05::': 163, 'follow%2:42:00::': 164, 'professional%3:00:01::': 165, 'position%1:07:01::': 166, 'regular%5:00:00:symmetrical:00': 167, 'follow%2:41:10::': 168, 'line%1:09:00::': 169, 'hold%2:35:03::': 170, 'active%3:00:03::': 171, 'lead%2:41:00::': 172, 'keep%2:31:00::': 173, 'professional%3:01:00::': 174, 'line%1:14:01::': 175, 'national%3:00:00::': 176, 'position%1:26:02::': 177, 'bad%5:00:00:intense:00': 178, 'bring%2:38:00::': 179, 'life%1:28:02::': 180, 'point%1:09:02::': 181, 'lead%2:38:01::': 182, 'lead%2:42:04::': 183, 'find%2:40:00::': 184, 'lead%2:42:12::': 185, 'follow%2:41:00::': 186, 'follow%2:36:00::': 187, 'keep%2:42:07::': 188, 'keep%2:42:00::': 189, 'place%1:26:00::': 190, 'extend%2:40:05::': 191, 'physical%5:00:00:natural:03': 192, 'line%1:06:01::': 193, 'bad%5:00:00:inferior:02': 194, 'extend%2:30:02::': 195, 'bring%2:35:04::': 196, 'extend%2:30:01::': 197, 'see%2:39:12::': 198, 'physical%3:01:00::': 199, 'follow%2:38:13::': 200, 'hold%2:41:15::': 201, 'line%1:10:02::': 202, 'national%3:00:01::': 203, 'follow%2:42:02::': 204, 'regular%3:00:00::': 205, 'see%2:36:00::': 206, 'find%2:39:02::': 207, 'line%1:15:02::': 208, 'time%1:28:05::': 209, 'life%1:26:02::': 210, 'find%2:40:01::': 211, 'security%1:12:00::': 212, 'positive%3:00:01::': 213, 'place%1:04:00::': 214, 'time%1:11:00::': 215, 'see%2:39:02::': 216, 'build%2:30:02::': 217, 'major%3:00:01::': 218, 'point%1:26:00::': 219, 'see%2:32:00::': 220, 'line%1:06:07::': 221}\n"
     ]
    }
   ],
   "source": [
    "sense_mapping = dict()\n",
    "i = 0\n",
    "for word in sense_labels:\n",
    "    sense_mapping[word] = i\n",
    "    i += 1\n",
    "    \n",
    "print(sense_mapping)"
   ]
  },
  {
   "cell_type": "code",
   "execution_count": 177,
   "metadata": {},
   "outputs": [
    {
     "name": "stderr",
     "output_type": "stream",
     "text": [
      "Some weights of the model checkpoint at bert-base-cased were not used when initializing BertModel: ['cls.predictions.transform.LayerNorm.bias', 'cls.predictions.bias', 'cls.seq_relationship.weight', 'cls.seq_relationship.bias', 'cls.predictions.decoder.weight', 'cls.predictions.transform.dense.bias', 'cls.predictions.transform.LayerNorm.weight', 'cls.predictions.transform.dense.weight']\n",
      "- This IS expected if you are initializing BertModel from the checkpoint of a model trained on another task or with another architecture (e.g. initializing a BertForSequenceClassification model from a BertForPreTraining model).\n",
      "- This IS NOT expected if you are initializing BertModel from the checkpoint of a model that you expect to be exactly identical (initializing a BertForSequenceClassification model from a BertForSequenceClassification model).\n"
     ]
    }
   ],
   "source": [
    "#parameter freezing\n",
    "BERT = BertModel.from_pretrained(\"bert-base-cased\")\n",
    "\n",
    "for param in BERT.parameters():\n",
    "    param.requires_grad = False"
   ]
  },
  {
   "cell_type": "code",
   "execution_count": 106,
   "metadata": {},
   "outputs": [
    {
     "ename": "TypeError",
     "evalue": "__init__() got an unexpected keyword argument 'wordsense_size'",
     "output_type": "error",
     "traceback": [
      "\u001b[0;31m---------------------------------------------------------------------------\u001b[0m",
      "\u001b[0;31mTypeError\u001b[0m                                 Traceback (most recent call last)",
      "\u001b[0;32m<ipython-input-106-2727dc9740cb>\u001b[0m in \u001b[0;36m<module>\u001b[0;34m\u001b[0m\n\u001b[0;32m----> 1\u001b[0;31m \u001b[0mmodel\u001b[0m \u001b[0;34m=\u001b[0m \u001b[0mBERT_WSD\u001b[0m\u001b[0;34m(\u001b[0m\u001b[0mwordsense_size\u001b[0m \u001b[0;34m=\u001b[0m \u001b[0mlen\u001b[0m\u001b[0;34m(\u001b[0m\u001b[0msense_labels\u001b[0m\u001b[0;34m)\u001b[0m\u001b[0;34m)\u001b[0m\u001b[0;34m\u001b[0m\u001b[0;34m\u001b[0m\u001b[0m\n\u001b[0m",
      "\u001b[0;31mTypeError\u001b[0m: __init__() got an unexpected keyword argument 'wordsense_size'"
     ]
    }
   ],
   "source": []
  },
  {
   "cell_type": "code",
   "execution_count": 226,
   "metadata": {},
   "outputs": [],
   "source": [
    "class BERT_WSD(nn.Module):\n",
    "    def __init__(self, wordsense_size, hidden_layer, input_dim):\n",
    "        super(BERT_WSD, self).__init__()   \n",
    "        # your code goes here\n",
    "        #self.bert = BertModel.from_pretrained(\"bert-base-cased\")\n",
    "        self.bert = AutoModel.from_pretrained('bert-base-uncased')\n",
    "        self.relu =  nn.ReLU()\n",
    "        self.fc1 = nn.Linear(768,512)\n",
    "        self.fc2 = nn.Linear(512, wordsense_size)\n",
    "        self.softmax = nn.LogSoftmax(dim=1)\n",
    "\n",
    "    def forward(self, input_ids, attention_mask):\n",
    "        # your code goes here\n",
    "        last_hidden_state, pooler_output = self.bert(input_ids, attention_mask, return_dict=False) #pooled is of size (8, 768) this is the output of our [CLS] token, the first token in our sequence.\n",
    "       # pooler_output = self.hidden(pooler_output)\n",
    "       # output = self.classifier(pooler_output)\n",
    "        \n",
    "        x = self.fc1(pooler_output)\n",
    "\n",
    "        x = self.relu(x)\n",
    "\n",
    "      # output layer\n",
    "        x = self.fc2(x)\n",
    "      \n",
    "      # apply softmax activation\n",
    "  #      x = self.softmax(x)\n",
    "\n",
    "        return x"
   ]
  },
  {
   "cell_type": "code",
   "execution_count": 227,
   "metadata": {},
   "outputs": [
    {
     "name": "stdout",
     "output_type": "stream",
     "text": [
      "222\n"
     ]
    }
   ],
   "source": [
    "print(len(sense_labels))\n"
   ]
  },
  {
   "cell_type": "code",
   "execution_count": 228,
   "metadata": {},
   "outputs": [
    {
     "ename": "IndexError",
     "evalue": "index out of range in self",
     "output_type": "error",
     "traceback": [
      "\u001b[0;31m---------------------------------------------------------------------------\u001b[0m",
      "\u001b[0;31mIndexError\u001b[0m                                Traceback (most recent call last)",
      "\u001b[0;32m<ipython-input-228-d346cb8acb48>\u001b[0m in \u001b[0;36m<module>\u001b[0;34m\u001b[0m\n\u001b[1;32m     10\u001b[0m \u001b[0;32melse\u001b[0m\u001b[0;34m:\u001b[0m\u001b[0;34m\u001b[0m\u001b[0;34m\u001b[0m\u001b[0m\n\u001b[1;32m     11\u001b[0m     \u001b[0minput_to_embed\u001b[0m \u001b[0;34m=\u001b[0m \u001b[0mtorch\u001b[0m\u001b[0;34m.\u001b[0m\u001b[0mtensor\u001b[0m\u001b[0;34m(\u001b[0m\u001b[0;34m[\u001b[0m\u001b[0;36m0\u001b[0m\u001b[0;34m,\u001b[0m \u001b[0;36m1\u001b[0m\u001b[0;34m,\u001b[0m \u001b[0;36m2\u001b[0m\u001b[0;34m,\u001b[0m \u001b[0;36m3\u001b[0m\u001b[0;34m,\u001b[0m \u001b[0;36m4\u001b[0m\u001b[0;34m,\u001b[0m \u001b[0;36m5\u001b[0m\u001b[0;34m,\u001b[0m \u001b[0;36m6\u001b[0m\u001b[0;34m,\u001b[0m \u001b[0;36m7\u001b[0m\u001b[0;34m,\u001b[0m \u001b[0;36m8\u001b[0m\u001b[0;34m,\u001b[0m \u001b[0;36m9\u001b[0m\u001b[0;34m]\u001b[0m\u001b[0;34m)\u001b[0m\u001b[0;34m\u001b[0m\u001b[0;34m\u001b[0m\u001b[0m\n\u001b[0;32m---> 12\u001b[0;31m \u001b[0membed\u001b[0m \u001b[0;34m=\u001b[0m \u001b[0membedding\u001b[0m\u001b[0;34m(\u001b[0m\u001b[0minput_to_embed\u001b[0m\u001b[0;34m)\u001b[0m\u001b[0;34m\u001b[0m\u001b[0;34m\u001b[0m\u001b[0m\n\u001b[0m\u001b[1;32m     13\u001b[0m \u001b[0mprint\u001b[0m\u001b[0;34m(\u001b[0m\u001b[0membed\u001b[0m\u001b[0;34m)\u001b[0m\u001b[0;34m\u001b[0m\u001b[0;34m\u001b[0m\u001b[0m\n",
      "\u001b[0;32m~/new_virtual/lib64/python3.7/site-packages/torch/nn/modules/module.py\u001b[0m in \u001b[0;36m_call_impl\u001b[0;34m(self, *input, **kwargs)\u001b[0m\n\u001b[1;32m    887\u001b[0m             \u001b[0mresult\u001b[0m \u001b[0;34m=\u001b[0m \u001b[0mself\u001b[0m\u001b[0;34m.\u001b[0m\u001b[0m_slow_forward\u001b[0m\u001b[0;34m(\u001b[0m\u001b[0;34m*\u001b[0m\u001b[0minput\u001b[0m\u001b[0;34m,\u001b[0m \u001b[0;34m**\u001b[0m\u001b[0mkwargs\u001b[0m\u001b[0;34m)\u001b[0m\u001b[0;34m\u001b[0m\u001b[0;34m\u001b[0m\u001b[0m\n\u001b[1;32m    888\u001b[0m         \u001b[0;32melse\u001b[0m\u001b[0;34m:\u001b[0m\u001b[0;34m\u001b[0m\u001b[0;34m\u001b[0m\u001b[0m\n\u001b[0;32m--> 889\u001b[0;31m             \u001b[0mresult\u001b[0m \u001b[0;34m=\u001b[0m \u001b[0mself\u001b[0m\u001b[0;34m.\u001b[0m\u001b[0mforward\u001b[0m\u001b[0;34m(\u001b[0m\u001b[0;34m*\u001b[0m\u001b[0minput\u001b[0m\u001b[0;34m,\u001b[0m \u001b[0;34m**\u001b[0m\u001b[0mkwargs\u001b[0m\u001b[0;34m)\u001b[0m\u001b[0;34m\u001b[0m\u001b[0;34m\u001b[0m\u001b[0m\n\u001b[0m\u001b[1;32m    890\u001b[0m         for hook in itertools.chain(\n\u001b[1;32m    891\u001b[0m                 \u001b[0m_global_forward_hooks\u001b[0m\u001b[0;34m.\u001b[0m\u001b[0mvalues\u001b[0m\u001b[0;34m(\u001b[0m\u001b[0;34m)\u001b[0m\u001b[0;34m,\u001b[0m\u001b[0;34m\u001b[0m\u001b[0;34m\u001b[0m\u001b[0m\n",
      "\u001b[0;32m~/new_virtual/lib64/python3.7/site-packages/torch/nn/modules/sparse.py\u001b[0m in \u001b[0;36mforward\u001b[0;34m(self, input)\u001b[0m\n\u001b[1;32m    156\u001b[0m         return F.embedding(\n\u001b[1;32m    157\u001b[0m             \u001b[0minput\u001b[0m\u001b[0;34m,\u001b[0m \u001b[0mself\u001b[0m\u001b[0;34m.\u001b[0m\u001b[0mweight\u001b[0m\u001b[0;34m,\u001b[0m \u001b[0mself\u001b[0m\u001b[0;34m.\u001b[0m\u001b[0mpadding_idx\u001b[0m\u001b[0;34m,\u001b[0m \u001b[0mself\u001b[0m\u001b[0;34m.\u001b[0m\u001b[0mmax_norm\u001b[0m\u001b[0;34m,\u001b[0m\u001b[0;34m\u001b[0m\u001b[0;34m\u001b[0m\u001b[0m\n\u001b[0;32m--> 158\u001b[0;31m             self.norm_type, self.scale_grad_by_freq, self.sparse)\n\u001b[0m\u001b[1;32m    159\u001b[0m \u001b[0;34m\u001b[0m\u001b[0m\n\u001b[1;32m    160\u001b[0m     \u001b[0;32mdef\u001b[0m \u001b[0mextra_repr\u001b[0m\u001b[0;34m(\u001b[0m\u001b[0mself\u001b[0m\u001b[0;34m)\u001b[0m \u001b[0;34m->\u001b[0m \u001b[0mstr\u001b[0m\u001b[0;34m:\u001b[0m\u001b[0;34m\u001b[0m\u001b[0;34m\u001b[0m\u001b[0m\n",
      "\u001b[0;32m~/new_virtual/lib64/python3.7/site-packages/torch/nn/functional.py\u001b[0m in \u001b[0;36membedding\u001b[0;34m(input, weight, padding_idx, max_norm, norm_type, scale_grad_by_freq, sparse)\u001b[0m\n\u001b[1;32m   1914\u001b[0m         \u001b[0;31m# remove once script supports set_grad_enabled\u001b[0m\u001b[0;34m\u001b[0m\u001b[0;34m\u001b[0m\u001b[0;34m\u001b[0m\u001b[0m\n\u001b[1;32m   1915\u001b[0m         \u001b[0m_no_grad_embedding_renorm_\u001b[0m\u001b[0;34m(\u001b[0m\u001b[0mweight\u001b[0m\u001b[0;34m,\u001b[0m \u001b[0minput\u001b[0m\u001b[0;34m,\u001b[0m \u001b[0mmax_norm\u001b[0m\u001b[0;34m,\u001b[0m \u001b[0mnorm_type\u001b[0m\u001b[0;34m)\u001b[0m\u001b[0;34m\u001b[0m\u001b[0;34m\u001b[0m\u001b[0m\n\u001b[0;32m-> 1916\u001b[0;31m     \u001b[0;32mreturn\u001b[0m \u001b[0mtorch\u001b[0m\u001b[0;34m.\u001b[0m\u001b[0membedding\u001b[0m\u001b[0;34m(\u001b[0m\u001b[0mweight\u001b[0m\u001b[0;34m,\u001b[0m \u001b[0minput\u001b[0m\u001b[0;34m,\u001b[0m \u001b[0mpadding_idx\u001b[0m\u001b[0;34m,\u001b[0m \u001b[0mscale_grad_by_freq\u001b[0m\u001b[0;34m,\u001b[0m \u001b[0msparse\u001b[0m\u001b[0;34m)\u001b[0m\u001b[0;34m\u001b[0m\u001b[0;34m\u001b[0m\u001b[0m\n\u001b[0m\u001b[1;32m   1917\u001b[0m \u001b[0;34m\u001b[0m\u001b[0m\n\u001b[1;32m   1918\u001b[0m \u001b[0;34m\u001b[0m\u001b[0m\n",
      "\u001b[0;31mIndexError\u001b[0m: index out of range in self"
     ]
    }
   ],
   "source": [
    "from torch import nn\n",
    "input_dim = 10\n",
    "embedding_dim = 2\n",
    "embedding = nn.Embedding(input_dim, embedding_dim)\n",
    "err = True\n",
    "if err:\n",
    "    #Any input more than input_dim - 1, here input_dim = 10\n",
    "    #Any input less than zero\n",
    "    input_to_embed = torch.tensor([10])\n",
    "else:\n",
    "    input_to_embed = torch.tensor([0, 1, 2, 3, 4, 5, 6, 7, 8, 9])\n",
    "embed = embedding(input_to_embed)\n",
    "print(embed)"
   ]
  },
  {
   "cell_type": "code",
   "execution_count": 245,
   "metadata": {},
   "outputs": [
    {
     "name": "stderr",
     "output_type": "stream",
     "text": [
      "Some weights of the model checkpoint at bert-base-uncased were not used when initializing BertModel: ['cls.predictions.transform.LayerNorm.bias', 'cls.predictions.bias', 'cls.seq_relationship.weight', 'cls.seq_relationship.bias', 'cls.predictions.decoder.weight', 'cls.predictions.transform.dense.bias', 'cls.predictions.transform.LayerNorm.weight', 'cls.predictions.transform.dense.weight']\n",
      "- This IS expected if you are initializing BertModel from the checkpoint of a model trained on another task or with another architecture (e.g. initializing a BertForSequenceClassification model from a BertForPreTraining model).\n",
      "- This IS NOT expected if you are initializing BertModel from the checkpoint of a model that you expect to be exactly identical (initializing a BertForSequenceClassification model from a BertForSequenceClassification model).\n"
     ]
    },
    {
     "name": "stdout",
     "output_type": "stream",
     "text": [
      "[23, 35, 99, 104, 113, 171, 186, 189]\n",
      "[39, 42, 90, 113, 129, 174, 178, 221]\n",
      "[99, 110, 126, 131, 143, 178, 189, 200]\n",
      "[37, 74, 75, 92, 94, 150, 178, 220]\n",
      "[11, 49, 82, 129, 144, 171, 196, 203]\n",
      "[25, 73, 99, 124, 129, 160, 214, 221]\n",
      "[13, 26, 43, 49, 99, 170, 189]\n",
      "[25, 99, 128, 145, 167, 198, 205]\n",
      "[65, 103, 121, 164, 176, 190, 195, 213]\n",
      "[61, 74, 99, 102, 153, 160, 197, 209]\n",
      "[22, 75, 103, 111, 129, 136, 145, 199]\n",
      "[33, 49, 121, 140, 155, 159, 171, 209]\n",
      "[14, 39, 111, 121, 181, 190, 197]\n",
      "[39, 57, 98, 107, 111, 175, 188, 190]\n",
      "[13, 37, 70, 87, 111, 167, 187, 199]\n",
      "[44, 52, 99, 147, 148, 150, 174, 182]\n",
      "[8, 22, 37, 57, 59, 112, 151, 178]\n",
      "[15, 52, 99, 107, 131, 150, 153]\n",
      "[43, 61, 68, 151, 155, 161, 165, 185]\n",
      "[42, 111, 141, 145, 180, 188, 209]\n",
      "[87, 96, 111, 142, 147, 150, 197, 209]\n",
      "[48, 66, 89, 99, 111, 133]\n",
      "[26, 33, 67, 110, 127, 135, 178, 199]\n",
      "[46, 52, 89, 156, 161, 176, 194, 195]\n",
      "[3, 4, 60, 120, 185, 188, 194, 197]\n",
      "[5, 19, 43, 50, 92, 131, 141, 165]\n",
      "[60, 87, 113, 129, 152, 159, 182, 209]\n",
      "[2, 69, 85, 95, 113, 156, 172, 188]\n",
      "[99, 110, 111, 118, 124, 148, 185, 212]\n",
      "[32, 49, 79, 99, 179, 185, 189]\n",
      "[0, 3, 6, 43, 77, 102, 128, 142]\n",
      "[46, 72, 75, 90, 99, 128, 187]\n",
      "[25, 55, 109, 119, 120, 153, 182, 203]\n",
      "[78, 99, 106, 111, 142, 196, 204]\n",
      "[0, 16, 19, 69, 86, 179, 195, 213]\n",
      "[35, 42, 89, 102, 119, 165, 179, 195]\n",
      "[32, 46, 48, 99, 111, 137, 153]\n",
      "[2, 25, 43, 51, 111, 189, 213, 216]\n",
      "[8, 39, 69, 75, 90, 92, 165, 178]\n",
      "[74, 85, 99, 111, 125, 130, 159]\n",
      "[3, 15, 49, 99, 111, 117, 185, 217]\n",
      "[17, 44, 77, 86, 110, 135, 188, 195]\n",
      "[28, 79, 88, 99, 123, 130, 202, 209]\n",
      "5.38915629719579\r"
     ]
    },
    {
     "ename": "KeyboardInterrupt",
     "evalue": "",
     "output_type": "error",
     "traceback": [
      "\u001b[0;31m---------------------------------------------------------------------------\u001b[0m",
      "\u001b[0;31mKeyboardInterrupt\u001b[0m                         Traceback (most recent call last)",
      "\u001b[0;32m<ipython-input-245-df0e7a51bb6b>\u001b[0m in \u001b[0;36m<module>\u001b[0;34m\u001b[0m\n\u001b[1;32m     53\u001b[0m \u001b[0;34m\u001b[0m\u001b[0m\n\u001b[1;32m     54\u001b[0m         \u001b[0;31m# compute gradients\u001b[0m\u001b[0;34m\u001b[0m\u001b[0;34m\u001b[0m\u001b[0;34m\u001b[0m\u001b[0m\n\u001b[0;32m---> 55\u001b[0;31m         \u001b[0mloss\u001b[0m\u001b[0;34m.\u001b[0m\u001b[0mbackward\u001b[0m\u001b[0;34m(\u001b[0m\u001b[0;34m)\u001b[0m\u001b[0;34m\u001b[0m\u001b[0;34m\u001b[0m\u001b[0m\n\u001b[0m\u001b[1;32m     56\u001b[0m \u001b[0;34m\u001b[0m\u001b[0m\n\u001b[1;32m     57\u001b[0m         \u001b[0;31m# update parameters\u001b[0m\u001b[0;34m\u001b[0m\u001b[0;34m\u001b[0m\u001b[0;34m\u001b[0m\u001b[0m\n",
      "\u001b[0;32m~/new_virtual/lib64/python3.7/site-packages/torch/tensor.py\u001b[0m in \u001b[0;36mbackward\u001b[0;34m(self, gradient, retain_graph, create_graph, inputs)\u001b[0m\n\u001b[1;32m    243\u001b[0m                 \u001b[0mcreate_graph\u001b[0m\u001b[0;34m=\u001b[0m\u001b[0mcreate_graph\u001b[0m\u001b[0;34m,\u001b[0m\u001b[0;34m\u001b[0m\u001b[0;34m\u001b[0m\u001b[0m\n\u001b[1;32m    244\u001b[0m                 inputs=inputs)\n\u001b[0;32m--> 245\u001b[0;31m         \u001b[0mtorch\u001b[0m\u001b[0;34m.\u001b[0m\u001b[0mautograd\u001b[0m\u001b[0;34m.\u001b[0m\u001b[0mbackward\u001b[0m\u001b[0;34m(\u001b[0m\u001b[0mself\u001b[0m\u001b[0;34m,\u001b[0m \u001b[0mgradient\u001b[0m\u001b[0;34m,\u001b[0m \u001b[0mretain_graph\u001b[0m\u001b[0;34m,\u001b[0m \u001b[0mcreate_graph\u001b[0m\u001b[0;34m,\u001b[0m \u001b[0minputs\u001b[0m\u001b[0;34m=\u001b[0m\u001b[0minputs\u001b[0m\u001b[0;34m)\u001b[0m\u001b[0;34m\u001b[0m\u001b[0;34m\u001b[0m\u001b[0m\n\u001b[0m\u001b[1;32m    246\u001b[0m \u001b[0;34m\u001b[0m\u001b[0m\n\u001b[1;32m    247\u001b[0m     \u001b[0;32mdef\u001b[0m \u001b[0mregister_hook\u001b[0m\u001b[0;34m(\u001b[0m\u001b[0mself\u001b[0m\u001b[0;34m,\u001b[0m \u001b[0mhook\u001b[0m\u001b[0;34m)\u001b[0m\u001b[0;34m:\u001b[0m\u001b[0;34m\u001b[0m\u001b[0;34m\u001b[0m\u001b[0m\n",
      "\u001b[0;32m~/new_virtual/lib64/python3.7/site-packages/torch/autograd/__init__.py\u001b[0m in \u001b[0;36mbackward\u001b[0;34m(tensors, grad_tensors, retain_graph, create_graph, grad_variables, inputs)\u001b[0m\n\u001b[1;32m    145\u001b[0m     Variable._execution_engine.run_backward(\n\u001b[1;32m    146\u001b[0m         \u001b[0mtensors\u001b[0m\u001b[0;34m,\u001b[0m \u001b[0mgrad_tensors_\u001b[0m\u001b[0;34m,\u001b[0m \u001b[0mretain_graph\u001b[0m\u001b[0;34m,\u001b[0m \u001b[0mcreate_graph\u001b[0m\u001b[0;34m,\u001b[0m \u001b[0minputs\u001b[0m\u001b[0;34m,\u001b[0m\u001b[0;34m\u001b[0m\u001b[0;34m\u001b[0m\u001b[0m\n\u001b[0;32m--> 147\u001b[0;31m         allow_unreachable=True, accumulate_grad=True)  # allow_unreachable flag\n\u001b[0m\u001b[1;32m    148\u001b[0m \u001b[0;34m\u001b[0m\u001b[0m\n\u001b[1;32m    149\u001b[0m \u001b[0;34m\u001b[0m\u001b[0m\n",
      "\u001b[0;31mKeyboardInterrupt\u001b[0m: "
     ]
    }
   ],
   "source": [
    "\n",
    "\n",
    "\n",
    "\n",
    "model = BERT_WSD(wordsense_size = len(sense_labels), hidden_layer = 300, input_dim = 300)\n",
    "\n",
    "loss_function = nn.CrossEntropyLoss()\n",
    "optimizer = optim.Adam(\n",
    "    model.parameters(),\n",
    "    lr=0.00001\n",
    ")\n",
    "\n",
    "\n",
    "total_loss = 0\n",
    "for _ in range(2):\n",
    "    for i, batch in enumerate(batches): \n",
    "        \n",
    "        wordsense = batch[1]\n",
    "        \n",
    "        \n",
    "        #turn target words into integers\n",
    "        target_words = []\n",
    "        for k,v in sense_mapping.items():\n",
    "            if k in wordsense:\n",
    "                target_words.append(v)\n",
    "                \n",
    "        \n",
    "        \n",
    "        \n",
    "        \n",
    "            \n",
    "        #sometimes there are less than 8 target words?? why?\n",
    "        while len(target_words) < 8:\n",
    "            target_words.append(0)\n",
    "            \n",
    "        print(target_words)  \n",
    "        target_words = torch.tensor(target_words)\n",
    "    \n",
    "        attention_mask = batch[0][\"attention_mask\"]\n",
    "        input_ids = batch[0][\"input_ids\"]\n",
    "        \n",
    "        \n",
    "        #test target to see if it works\n",
    "        test = target = torch.empty(8,1, dtype=torch.long).random_(5)\n",
    "        \n",
    "        \n",
    "        output = model(input_ids, attention_mask)\n",
    "      \n",
    "        \n",
    "        loss = loss_function(output, target_words)\n",
    "        total_loss += loss.item()\n",
    "        \n",
    "        print(total_loss/(i+1), end='\\r') \n",
    "        \n",
    "        \n",
    "        #convert_ids_to_tokens\n",
    "        \n",
    "        # compute gradients\n",
    "        loss.backward()\n",
    "        \n",
    "        # update parameters\n",
    "        optimizer.step()\n",
    "        \n",
    "        # reset gradients\n",
    "        optimizer.zero_grad()\n",
    "    \n",
    "# test model after all epochs are completed"
   ]
  },
  {
   "cell_type": "markdown",
   "metadata": {},
   "source": [
    "# 3. Evaluation"
   ]
  },
  {
   "cell_type": "markdown",
   "metadata": {},
   "source": [
    "Explain the difference between the first and second approach. What kind of representations are the different approaches using to predict word-senses? **[4 marks]**"
   ]
  },
  {
   "cell_type": "code",
   "execution_count": null,
   "metadata": {},
   "outputs": [],
   "source": [
    "First model uses a representation of each specific word.\n",
    "Second model uses the entire"
   ]
  },
  {
   "cell_type": "markdown",
   "metadata": {},
   "source": [
    "Evaluate your model with per-word-form *accuracy* and comment on the results you get, how does the model perform in comparison to the baseline, and how do the models compare to each other? \n",
    "\n",
    "Expand on the evaluation by sorting the word-forms by the number of senses they have. Are word-forms with fewer senses easier to predict? Give a short explanation of the results you get based on the number of senses per word.\n",
    "\n",
    "**[6 marks]**"
   ]
  },
  {
   "cell_type": "code",
   "execution_count": null,
   "metadata": {},
   "outputs": [],
   "source": [
    "\n"
   ]
  },
  {
   "cell_type": "markdown",
   "metadata": {},
   "source": [
    "How does the LSTMs perform in comparison to BERT? What's the difference between representations obtained by the LSTMs and BERT? **[2 marks]**"
   ]
  },
  {
   "cell_type": "code",
   "execution_count": null,
   "metadata": {},
   "outputs": [],
   "source": []
  },
  {
   "cell_type": "markdown",
   "metadata": {},
   "source": [
    "What could we do to improve our LSTM word sense disambiguation models and our BERT model? **[4 marks]**"
   ]
  },
  {
   "cell_type": "code",
   "execution_count": 122,
   "metadata": {},
   "outputs": [
    {
     "name": "stdout",
     "output_type": "stream",
     "text": [
      "more data\n",
      "more data\n",
      "more data\n",
      "more data\n",
      "more data\n",
      "more data\n",
      "more data\n",
      "more data\n",
      "more data\n",
      "more data\n",
      "more data\n",
      "more data\n",
      "more data\n",
      "more data\n",
      "more data\n",
      "more data\n",
      "more data\n",
      "more data\n",
      "more data\n",
      "more data\n",
      "more data\n",
      "more data\n",
      "more data\n",
      "more data\n",
      "more data\n",
      "more data\n",
      "more data\n",
      "more data\n",
      "more data\n",
      "more data\n",
      "more data\n",
      "more data\n",
      "more data\n",
      "more data\n",
      "more data\n",
      "more data\n",
      "more data\n",
      "more data\n",
      "more data\n",
      "more data\n",
      "more data\n",
      "more data\n",
      "more data\n",
      "more data\n",
      "more data\n",
      "more data\n",
      "more data\n",
      "more data\n",
      "more data\n",
      "more data\n",
      "more data\n",
      "more data\n",
      "more data\n",
      "more data\n",
      "more data\n",
      "more data\n",
      "more data\n",
      "more data\n",
      "more data\n",
      "more data\n",
      "more data\n",
      "more data\n",
      "more data\n",
      "more data\n",
      "more data\n",
      "more data\n",
      "more data\n",
      "more data\n",
      "more data\n",
      "more data\n",
      "more data\n",
      "more data\n",
      "more data\n",
      "more data\n",
      "more data\n",
      "more data\n",
      "more data\n",
      "more data\n",
      "more data\n",
      "more data\n",
      "more data\n",
      "more data\n",
      "more data\n",
      "more data\n",
      "more data\n",
      "more data\n",
      "more data\n",
      "more data\n",
      "more data\n",
      "more data\n",
      "more data\n",
      "more data\n",
      "more data\n",
      "more data\n",
      "more data\n",
      "more data\n",
      "more data\n",
      "more data\n",
      "more data\n",
      "more data\n"
     ]
    }
   ],
   "source": [
    "for i in range(100):\n",
    "    print(\"more data\")"
   ]
  },
  {
   "cell_type": "markdown",
   "metadata": {},
   "source": [
    "# Readings:\n",
    "\n",
    "[1] Kågebäck, M., & Salomonsson, H. (2016). Word Sense Disambiguation using a Bidirectional LSTM. arXiv preprint arXiv:1606.03568.\n",
    "\n",
    "[2] https://cl.lingfil.uu.se/~nivre/master/NLP-LexSem.pdf"
   ]
  }
 ],
 "metadata": {
  "kernelspec": {
   "display_name": "new_virtual",
   "language": "python",
   "name": "new_virtual"
  },
  "language_info": {
   "codemirror_mode": {
    "name": "ipython",
    "version": 3
   },
   "file_extension": ".py",
   "mimetype": "text/x-python",
   "name": "python",
   "nbconvert_exporter": "python",
   "pygments_lexer": "ipython3",
   "version": "3.7.4"
  }
 },
 "nbformat": 4,
 "nbformat_minor": 2
}
