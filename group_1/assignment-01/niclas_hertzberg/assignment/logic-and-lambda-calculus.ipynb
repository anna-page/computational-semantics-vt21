{
 "cells": [
  {
   "cell_type": "markdown",
   "metadata": {},
   "source": [
    "# A1: Logic and lambda calculus"
   ]
  },
  {
   "cell_type": "markdown",
   "metadata": {},
   "source": [
    "The lab is an exploration and learning exercise to be done in a group and also in discussion with the teachers and other students.\n",
    "\n",
    "Before starting, please read the following instructions on [how to work on group assignments](https://github.com/sdobnik/computational-semantics/blob/master/README.md).\n",
    "\n",
    "Write all your answers and the code in the appropriate boxes below."
   ]
  },
  {
   "cell_type": "markdown",
   "metadata": {},
   "source": [
    "## Translating English to logic and evaluating logic in a model"
   ]
  },
  {
   "cell_type": "code",
   "execution_count": 1,
   "metadata": {},
   "outputs": [],
   "source": [
    "# This task needs NLTK and Jupyter Notebook (IPython package).\n",
    "import nltk\n",
    "from utils import display_latex, display_translation, display_tree, display, Markdown\n",
    "read_expr = nltk.sem.Expression.fromstring"
   ]
  },
  {
   "cell_type": "markdown",
   "metadata": {},
   "source": [
    "### 1. Propositional logic\n",
    "Translate the following sentences into **propositional logic** and verify that they parse with Expression.fromstring(). Provide a key which shows how the propositional variables in your translation correspond to expressions of English. Briefly discuss any difficulties you encounter. (By difficulties we mean cases where the semantics of English expressions cannot be expressed to the same degree by the semantics of your logic representations, i.e. they do not mean the same). **[5 + 1 marks]**"
   ]
  },
  {
   "cell_type": "code",
   "execution_count": 2,
   "metadata": {},
   "outputs": [
    {
     "data": {
      "text/markdown": [
       "\"If Alex plays the piano, she is smart.\": $(P\\ \\rightarrow\\ Q)$"
      ],
      "text/plain": [
       "<IPython.core.display.Markdown object>"
      ]
     },
     "metadata": {},
     "output_type": "display_data"
    },
    {
     "data": {
      "text/markdown": [
       "\"Alex is both smart and musical.\": $(P\\ \\land\\ Q)$"
      ],
      "text/plain": [
       "<IPython.core.display.Markdown object>"
      ]
     },
     "metadata": {},
     "output_type": "display_data"
    },
    {
     "data": {
      "text/markdown": [
       "\"If Alex is not smart, Lydia is not happy.\": $(-P\\ \\rightarrow\\ -Q)$"
      ],
      "text/plain": [
       "<IPython.core.display.Markdown object>"
      ]
     },
     "metadata": {},
     "output_type": "display_data"
    },
    {
     "data": {
      "text/markdown": [
       "\"If Alex or George plays the piano, they are musical.\": $((P\\ \\lor\\ Q)\\ \\rightarrow\\ R)$"
      ],
      "text/plain": [
       "<IPython.core.display.Markdown object>"
      ]
     },
     "metadata": {},
     "output_type": "display_data"
    },
    {
     "data": {
      "text/markdown": [
       "\"George plays the piano.\": $P$"
      ],
      "text/plain": [
       "<IPython.core.display.Markdown object>"
      ]
     },
     "metadata": {},
     "output_type": "display_data"
    }
   ],
   "source": [
    "propositions = {\n",
    "    \"If Alex plays the piano, she is smart.\":\n",
    "    read_expr('P -> Q'),\n",
    "    \n",
    "    \"Alex is both smart and musical.\":\n",
    "    read_expr('P & Q'),\n",
    "    \n",
    "    \"If Alex is not smart, Lydia is not happy.\":\n",
    "    read_expr('-P -> -Q'),\n",
    "    \n",
    "    \"If Alex or George plays the piano, they are musical.\":\n",
    "    read_expr('(P | Q) -> R'),\n",
    "    \n",
    "    \"George plays the piano.\":\n",
    "    read_expr('P'),\n",
    "}\n",
    "\n",
    "for text, semrep in propositions.items():\n",
    "    display_translation(text, semrep)"
   ]
  },
  {
   "cell_type": "markdown",
   "metadata": {},
   "source": [
    "*Difficulties encountered:*\n",
    "\n"
   ]
  },
  {
   "cell_type": "markdown",
   "metadata": {},
   "source": [
    "### 2. Valuation of Propositional logic\n",
    "\n",
    "Imagine that we observe a world where \n",
    "- (i) Alex does not play the piano,\n",
    "- (ii) Alex and Lydia are smart and musical,\n",
    "- (iii) George is not musical,\n",
    "- (iv) Lydia is happy,\n",
    "- (v) George plays the piano. \n",
    "\n",
    "Translate this informal description of the world into a model by appropriately defining an evaluation function and evaluate the formulae from Question 1 in this model. Briefly comment the answers you get. **[5 + 1 marks]**."
   ]
  },
  {
   "cell_type": "code",
   "execution_count": 3,
   "metadata": {},
   "outputs": [
    {
     "name": "stdout",
     "output_type": "stream",
     "text": [
      "False\n",
      "True\n",
      "True\n",
      "True\n",
      "True\n"
     ]
    }
   ],
   "source": [
    "# answers here\n",
    "val = nltk.Valuation([('P', False), ('A', True), (\"L\", True), ('M', False), (\"H\", True), (\"G\", True)])\n",
    "dom = set([]) # There are no individuals in propositional logic\n",
    "g = nltk.Assignment(dom) # There are also no variables and hence assignments\n",
    "m = nltk.Model(dom, val)\n",
    "\n",
    "print(m.evaluate(\"P\", g)) #alex plays the piano, false because he does not play the piano in this model\n",
    "print(m.evaluate(\"(A & L)\", g)) #alex is smart and musical and lydia is smart and musical, true because both are true\n",
    "print(m.evaluate(\"-M\", g)) #\"George is musical\" is false, therefore george is not musical is true\n",
    "print(m.evaluate(\"H\", g)) #lydia is happy is true because its representation in the model \"L\" is true\n",
    "print(m.evaluate(\"G\", g)) #\"george plays the piano\" = G in the model, G is true"
   ]
  },
  {
   "cell_type": "markdown",
   "metadata": {},
   "source": [
    "*Comments:*"
   ]
  },
  {
   "cell_type": "markdown",
   "metadata": {},
   "source": [
    "### 3. Predicate logic *without quantifiers*\n",
    "\n",
    "Translate the following sentences into predicate-argument formulae of First Order Logic and verify that they parse with `Expression.fromstring()`. Briefly discuss any difficulties you encounter. **[4 + 1 marks]**"
   ]
  },
  {
   "cell_type": "code",
   "execution_count": 4,
   "metadata": {},
   "outputs": [
    {
     "data": {
      "text/markdown": [
       "\"Lydia likes George but Lydia doesn't like Alex\": $(likes(alex,lydia)\\ \\land\\ -likes(lydia,alex))$"
      ],
      "text/plain": [
       "<IPython.core.display.Markdown object>"
      ]
     },
     "metadata": {},
     "output_type": "display_data"
    },
    {
     "data": {
      "text/markdown": [
       "\"Lydia likes herself and so does George\": $(likes(lydia,lydia)\\ \\land\\ likes(george,lydia))$"
      ],
      "text/plain": [
       "<IPython.core.display.Markdown object>"
      ]
     },
     "metadata": {},
     "output_type": "display_data"
    },
    {
     "data": {
      "text/markdown": [
       "\"Charlie is an English pianist who plays a sonata\": $(pianist(charlie)\\ \\land\\ plays(charlie,sonata))$"
      ],
      "text/plain": [
       "<IPython.core.display.Markdown object>"
      ]
     },
     "metadata": {},
     "output_type": "display_data"
    },
    {
     "data": {
      "text/markdown": [
       "\"Lydia and George admire each other\": $(admires(lydia,george)\\ \\land\\ admires(george,lydia))$"
      ],
      "text/plain": [
       "<IPython.core.display.Markdown object>"
      ]
     },
     "metadata": {},
     "output_type": "display_data"
    }
   ],
   "source": [
    "sentences1 = {\n",
    "    \"Lydia likes George but Lydia doesn't like Alex\": \n",
    "    read_expr(r'(likes(alex,lydia) & -likes(lydia,alex))'),  \n",
    "    \n",
    "    \"Lydia likes herself and so does George\":\n",
    "    read_expr(r'(likes(lydia,lydia) & likes(george,lydia))'),\n",
    "    \n",
    "    \"Charlie is an English pianist who plays a sonata\":\n",
    "    read_expr(r'pianist(charlie) & (plays(charlie, sonata))'),      #not sure the best way to translate this one, plays_sonata(charlie) could work or a more general approach as i did here\n",
    "    \n",
    "    \"Lydia and George admire each other\":\n",
    "    read_expr(r'admires(lydia,george) & admires(george, lydia)'),\n",
    "}\n",
    "\n",
    "for text, semrep in sentences1.items():\n",
    "    display_translation(text, semrep)\n"
   ]
  },
  {
   "cell_type": "markdown",
   "metadata": {},
   "source": [
    "*Difficulties encountered:*\n",
    "\n",
    "`Answers here`"
   ]
  },
  {
   "cell_type": "markdown",
   "metadata": {},
   "source": [
    "### 4. First order logic with quantifiers\n",
    "\n",
    "Translate the following sentences into quantified formulas of First Order Logic and verify that they parse with `Expression.fromstring()`. Briefly discuss any difficulties you encounter. **[4 + 1 marks]**"
   ]
  },
  {
   "cell_type": "code",
   "execution_count": 5,
   "metadata": {},
   "outputs": [
    {
     "data": {
      "text/markdown": [
       "\"Charlie knows a woman who likes George\": $\\exists\\ x.(woman(x)\\ \\land\\ knows(x,charlie)\\ \\land\\ likes(george,x))$"
      ],
      "text/plain": [
       "<IPython.core.display.Markdown object>"
      ]
     },
     "metadata": {},
     "output_type": "display_data"
    },
    {
     "data": {
      "text/markdown": [
       "\"George admires everybody and Lydia admires nobody\": $\\forall\\ x.(person(x)\\ \\land\\ admires(george,x)\\ \\land\\ -admires(lydia,x))$"
      ],
      "text/plain": [
       "<IPython.core.display.Markdown object>"
      ]
     },
     "metadata": {},
     "output_type": "display_data"
    },
    {
     "data": {
      "text/markdown": [
       "\"Nobody admires everybody\": $\\forall\\ y.person(-\\exists\\ x.(person\\ \\land\\ admires(x,y)))$"
      ],
      "text/plain": [
       "<IPython.core.display.Markdown object>"
      ]
     },
     "metadata": {},
     "output_type": "display_data"
    },
    {
     "data": {
      "text/markdown": [
       "\"Exactly one musician plays everything Alex wrote\": $\\exists\\ x.((musician\\ \\land\\ \\forall\\ y.(musician\\ \\rightarrow\\ (x\\ =\\ y))\\ \\land\\ wrote(alex))\\ \\rightarrow\\ plays(x))$"
      ],
      "text/plain": [
       "<IPython.core.display.Markdown object>"
      ]
     },
     "metadata": {},
     "output_type": "display_data"
    }
   ],
   "source": [
    "sentences2 = {\n",
    "    \"Charlie knows a woman who likes George\":\n",
    "    read_expr('exists x(woman(x) & knows(x, charlie) & likes(george, x))'),  #there is a woman and charlie knows the woman and the woman likes george\n",
    "    \n",
    "    \"George admires everybody and Lydia admires nobody\":\n",
    "    read_expr('all x((person(x) & admires(george, x) & -(admires(lydia, x))))'),   #all persons are admired by george there are no persons admired by lydia\n",
    "\n",
    "    \"Nobody admires everybody\":\n",
    "    read_expr('all y(person)(-(exist x(person & admires(x,y))))'), #& admires(x, y))     #for all people there is no person who admires all persons\n",
    "    \n",
    "    \"Exactly one musician plays everything Alex wrote\":\n",
    "    read_expr('exist x(musician & all y(musician => x=y) & wrote(alex) => plays(x))'),   #there is exactly one musician and if alex wrote something musician plays it\n",
    "}\n",
    "\n",
    "for text, semrep in sentences2.items():\n",
    "    display_translation(text, semrep)"
   ]
  },
  {
   "cell_type": "markdown",
   "metadata": {},
   "source": [
    "*Difficulties encountered:*\n",
    "\n",
    "`Answers here`"
   ]
  },
  {
   "cell_type": "markdown",
   "metadata": {},
   "source": [
    "### 5. Valuation of first order logic\n",
    "\n",
    "We observe a world with entities Lydia, George, Alex, Charlie and Bertie, sonata, etude, prelude, waltz, scherzo.\n",
    "\n",
    "1. Lydia likes Lydia, George, Alex and Charlie. George likes Lydia, Bertie and George. Alex likes Alex. Charlie likes Lydia, George, Alex, Charlie and Bertie. Bertie likes Alex.\n",
    "2. Lydia, George, Alex, Charlie and Bertie are English.\n",
    "3. Charlie and Bertie are pianists.\n",
    "4. Charlie plays a sonata, an etude and a waltz. Bertie plays a waltz and a scherzo. Lydia plays an etude, a prelude and a waltz.\n",
    "5. Lydia admires Lydia, Charlie and Bertie. George admires Lydia, George, Alex, Charlie and Bertie. Alex admires Lydia, Alex and Bertie. Charlie admires George and Bertie. Bertie admires Lydia, George, Alex, Charlie and Bertie.\n",
    "6. Lydia knows Lydia, George, Alex, Charlie and Bertie. George knows Lydia, George and Bertie. Alex knows Lydia, Alex and Bertie. Charlie knows George, Charlie and Bertie. Bertie knows Lydia, George, Alex, Charlie and Bertie.\n",
    "7. Lydia, Alex and Charlie are women.\n",
    "8. George and Bertie are men.\n",
    "9. Alex wrote a sonata, an etude an a waltz.\n",
    "10. Lydia, Alex, Charlie and Bertie are musicians.\n",
    "\n",
    "Translate this informal description of the world into a model and evaluate the formulae from Questions 3 and 4 in this model. Briefly comment on the answers you get **[3 + 2 marks]**."
   ]
  },
  {
   "cell_type": "code",
   "execution_count": 6,
   "metadata": {},
   "outputs": [
    {
     "name": "stdout",
     "output_type": "stream",
     "text": [
      "False\n"
     ]
    },
    {
     "data": {
      "text/markdown": [
       "$(likes(alex,lydia)\\ \\land\\ -likes(lydia,alex))$"
      ],
      "text/plain": [
       "<IPython.core.display.Markdown object>"
      ]
     },
     "metadata": {},
     "output_type": "display_data"
    },
    {
     "data": {
      "text/markdown": [
       "----"
      ],
      "text/plain": [
       "<IPython.core.display.Markdown object>"
      ]
     },
     "metadata": {},
     "output_type": "display_data"
    },
    {
     "name": "stdout",
     "output_type": "stream",
     "text": [
      "True\n"
     ]
    },
    {
     "data": {
      "text/markdown": [
       "$(likes(lydia,lydia)\\ \\land\\ likes(george,lydia))$"
      ],
      "text/plain": [
       "<IPython.core.display.Markdown object>"
      ]
     },
     "metadata": {},
     "output_type": "display_data"
    },
    {
     "data": {
      "text/markdown": [
       "----"
      ],
      "text/plain": [
       "<IPython.core.display.Markdown object>"
      ]
     },
     "metadata": {},
     "output_type": "display_data"
    },
    {
     "name": "stdout",
     "output_type": "stream",
     "text": [
      "True\n"
     ]
    },
    {
     "data": {
      "text/markdown": [
       "$(pianist(charlie)\\ \\land\\ plays(charlie,sonata))$"
      ],
      "text/plain": [
       "<IPython.core.display.Markdown object>"
      ]
     },
     "metadata": {},
     "output_type": "display_data"
    },
    {
     "data": {
      "text/markdown": [
       "----"
      ],
      "text/plain": [
       "<IPython.core.display.Markdown object>"
      ]
     },
     "metadata": {},
     "output_type": "display_data"
    },
    {
     "name": "stdout",
     "output_type": "stream",
     "text": [
      "False\n"
     ]
    },
    {
     "data": {
      "text/markdown": [
       "$(admires(lydia,george)\\ \\land\\ admires(george,lydia))$"
      ],
      "text/plain": [
       "<IPython.core.display.Markdown object>"
      ]
     },
     "metadata": {},
     "output_type": "display_data"
    },
    {
     "data": {
      "text/markdown": [
       "----"
      ],
      "text/plain": [
       "<IPython.core.display.Markdown object>"
      ]
     },
     "metadata": {},
     "output_type": "display_data"
    },
    {
     "name": "stdout",
     "output_type": "stream",
     "text": [
      "True\n"
     ]
    },
    {
     "data": {
      "text/markdown": [
       "$\\exists\\ x.(woman(x)\\ \\land\\ knows(x,charlie)\\ \\land\\ likes(george,x))$"
      ],
      "text/plain": [
       "<IPython.core.display.Markdown object>"
      ]
     },
     "metadata": {},
     "output_type": "display_data"
    },
    {
     "data": {
      "text/markdown": [
       "----"
      ],
      "text/plain": [
       "<IPython.core.display.Markdown object>"
      ]
     },
     "metadata": {},
     "output_type": "display_data"
    },
    {
     "name": "stdout",
     "output_type": "stream",
     "text": [
      "False\n"
     ]
    },
    {
     "data": {
      "text/markdown": [
       "$\\forall\\ x.(person(x)\\ \\land\\ admires(george,x)\\ \\land\\ -admires(lydia,x))$"
      ],
      "text/plain": [
       "<IPython.core.display.Markdown object>"
      ]
     },
     "metadata": {},
     "output_type": "display_data"
    },
    {
     "data": {
      "text/markdown": [
       "----"
      ],
      "text/plain": [
       "<IPython.core.display.Markdown object>"
      ]
     },
     "metadata": {},
     "output_type": "display_data"
    },
    {
     "name": "stdout",
     "output_type": "stream",
     "text": [
      "False\n"
     ]
    },
    {
     "data": {
      "text/markdown": [
       "$\\forall\\ y.person(-\\exists\\ x.(person\\ \\land\\ admires(x,y)))$"
      ],
      "text/plain": [
       "<IPython.core.display.Markdown object>"
      ]
     },
     "metadata": {},
     "output_type": "display_data"
    },
    {
     "data": {
      "text/markdown": [
       "----"
      ],
      "text/plain": [
       "<IPython.core.display.Markdown object>"
      ]
     },
     "metadata": {},
     "output_type": "display_data"
    },
    {
     "name": "stdout",
     "output_type": "stream",
     "text": [
      "True\n"
     ]
    },
    {
     "data": {
      "text/markdown": [
       "$\\exists\\ x.((musician\\ \\land\\ \\forall\\ y.(musician\\ \\rightarrow\\ (x\\ =\\ y))\\ \\land\\ wrote(alex))\\ \\rightarrow\\ plays(x))$"
      ],
      "text/plain": [
       "<IPython.core.display.Markdown object>"
      ]
     },
     "metadata": {},
     "output_type": "display_data"
    },
    {
     "data": {
      "text/markdown": [
       "----"
      ],
      "text/plain": [
       "<IPython.core.display.Markdown object>"
      ]
     },
     "metadata": {},
     "output_type": "display_data"
    }
   ],
   "source": [
    "entities = set(['l', 'g', 'a', 'c', 'b', 's', 'e', 'p', 'w', 'z']) #(['p','t','e','h','r','s','u','l','w','c'])\n",
    "\n",
    "assign = \"\"\"\n",
    "lydia => l\n",
    "george => g\n",
    "alex => a\n",
    "charlie => c\n",
    "bertie => b\n",
    "sonata => s\n",
    "etude => e\n",
    "prelude => p\n",
    "waltz => w\n",
    "scherzo => z\n",
    "likes => {(l, l), (l, g), (l, c), (l, a), (g, l), (g, b), (g, g), (a, a), (c,l), (c, g), (c, a), (c,c), (c,b), (b,a)}\n",
    "english => {l, g, a, c, b}\n",
    "pianist => {c, b}\n",
    "plays => {(c, s), (c, e), (c, w), (b, w), (b, z), (l, e), (l, p), (l, w)}\n",
    "admires => {(l, l), (l, c), (l, b), (g, l), (g, g), (g, a), (g, c), (g, b), (a, l), (a, a), (a, b), (c, g), (c, b), (b, l), (b, g), (b, a), (b, c), (b, b)}\n",
    "knows => {(l, l), (l, g), (l, a), (l, c), (l, b), (g, l), (g, g), (g, b), (a, l), (a, a), (a, b), (c, g), (c, c), (c, b), (c, l), (b, g), (b, g), (b, a), (b, c), (b, b)}\n",
    "woman => {l, a, c}\n",
    "man => {g, b}\n",
    "wrote => {(a, s), (a, e), (a, w)}\n",
    "musician => {l, a, c, b}\n",
    "person => {l, g, a, c, b}\n",
    "\"\"\"\n",
    "\n",
    "val2 = nltk.Valuation.fromstring(assign)\n",
    "\n",
    "g2 = nltk.Assignment(entities)\n",
    "m2 = nltk.Model(entities, val2)\n",
    "\n",
    "# sentences from question 3\n",
    "for text, semrep in sentences1.items():\n",
    "    print(m2.evaluate(str(semrep), g2))\n",
    "    display_latex(semrep)\n",
    "    display(Markdown('----'))\n",
    "\n",
    "# sentences from question 4\n",
    "for text, semrep in sentences2.items():\n",
    "    print(m2.evaluate(str(semrep), g2))\n",
    "    display_latex(semrep)\n",
    "    display(Markdown('----'))\n"
   ]
  },
  {
   "cell_type": "markdown",
   "metadata": {},
   "source": [
    "*Comments on the answers:*\n",
    "alex does not like lydia and lydia does not like alex so f & f => f\n",
    "lydia likes lydia and george likes lydia so t & t => t\n",
    "charlie is a pianist who plays the sonata so t & t => t\n",
    "george does not admire lydia so t & f => f\n",
    "\n",
    "there is a woman who charlie knows who likes george, namely lydia\n",
    "lydia admires several people so that she does not admire anyone is false, and george does not admire everyone\n",
    "no person admires everyone\n",
    "\n",
    "there is exactly one person who plays everyhing alex wrote, charlie\n",
    "\n"
   ]
  },
  {
   "cell_type": "markdown",
   "metadata": {},
   "source": [
    "## Lambda calculus"
   ]
  },
  {
   "cell_type": "code",
   "execution_count": 7,
   "metadata": {},
   "outputs": [],
   "source": [
    "from nltk.grammar import FeatureGrammar"
   ]
  },
  {
   "cell_type": "markdown",
   "metadata": {},
   "source": [
    "### 6. Function application and $\\beta$-reduction\n",
    "In the following examples some code has been deleted and replaced with `<????>`. What has been deleted? Verify that your answer is correct. **[4 marks]**"
   ]
  },
  {
   "cell_type": "code",
   "execution_count": 37,
   "metadata": {},
   "outputs": [
    {
     "data": {
      "text/markdown": [
       "$like(pip,rob)$"
      ],
      "text/plain": [
       "<IPython.core.display.Markdown object>"
      ]
     },
     "metadata": {},
     "output_type": "display_data"
    },
    {
     "data": {
      "text/markdown": [
       "$like(pip,rob)$"
      ],
      "text/plain": [
       "<IPython.core.display.Markdown object>"
      ]
     },
     "metadata": {},
     "output_type": "display_data"
    },
    {
     "data": {
      "text/markdown": [
       "$play(pip,scherzo)$"
      ],
      "text/plain": [
       "<IPython.core.display.Markdown object>"
      ]
     },
     "metadata": {},
     "output_type": "display_data"
    },
    {
     "data": {
      "text/markdown": [
       "$play(pip,scherzo)$"
      ],
      "text/plain": [
       "<IPython.core.display.Markdown object>"
      ]
     },
     "metadata": {},
     "output_type": "display_data"
    },
    {
     "data": {
      "text/markdown": [
       "$\\exists\\ x.(woman(x)\\ \\land\\ play(x,etude))$"
      ],
      "text/plain": [
       "<IPython.core.display.Markdown object>"
      ]
     },
     "metadata": {},
     "output_type": "display_data"
    },
    {
     "data": {
      "text/markdown": [
       "$\\exists\\ x.(woman(x)\\ \\land\\ play(x,etude))$"
      ],
      "text/plain": [
       "<IPython.core.display.Markdown object>"
      ]
     },
     "metadata": {},
     "output_type": "display_data"
    },
    {
     "data": {
      "text/markdown": [
       "$\\lambda\\ x.\\forall\\ z_{34}.(musician(z_{34})\\ \\rightarrow\\ like(x,z_{34}))$"
      ],
      "text/plain": [
       "<IPython.core.display.Markdown object>"
      ]
     },
     "metadata": {},
     "output_type": "display_data"
    },
    {
     "data": {
      "text/markdown": [
       "$\\lambda\\ x.\\forall\\ z_{2}.(musician(z_{2})\\ \\rightarrow\\ like(x,z_{2}))$"
      ],
      "text/plain": [
       "<IPython.core.display.Markdown object>"
      ]
     },
     "metadata": {},
     "output_type": "display_data"
    }
   ],
   "source": [
    "e1 = read_expr(r'\\x.(like(x, rob))')\n",
    "e2 = read_expr(r'pip')\n",
    "e3 = nltk.sem.ApplicationExpression(e1,e2) \n",
    "display_latex(e3.simplify())\n",
    "# with reuslt like(pip,rob).\n",
    "display_latex(read_expr(r\"like(pip,rob)\"))\n",
    "\n",
    "e1 = read_expr(r'\\X.X(pip)')           #this is too dumb to be correct\n",
    "e2 = read_expr(r'\\x.play(x,scherzo)') \n",
    "e3 = nltk.sem.ApplicationExpression(e1,e2)\n",
    "display_latex(e3.simplify())\n",
    "# with result play(pip,scherzo).\n",
    "display_latex(read_expr(r\"play(pip,scherzo)\"))\n",
    "\n",
    "e1 = read_expr(r'\\X exists x(woman(x) & X(x))')                          #not fixed\n",
    "e2 = read_expr(r'\\x.play(x,etude)') \n",
    "e3 = nltk.sem.ApplicationExpression(e1,e2) \n",
    "display_latex(e3.simplify())\n",
    "# with result exists x.(woman(x) & play(x,etude)).\n",
    "display_latex(read_expr(r\"exists x.(woman(x) & play(x,etude))\"))\n",
    "\n",
    "e1 = read_expr(r'\\P \\x. (P(like(x)))')                        \n",
    "e2 = read_expr(r'\\P.all x. (musician(x) -> P(x))') \n",
    "e3 = nltk.sem.ApplicationExpression(e1,e2) \n",
    "display_latex(e3.simplify())\n",
    "# with result \\x.all z2.(musician(z2) -> like(x,z2)).\n",
    "display_latex(read_expr(r\"\\x.all z2.(musician(z2) -> like(x,z2))\"))"
   ]
  },
  {
   "cell_type": "markdown",
   "metadata": {},
   "source": [
    "### 7. Extending the grammar\n",
    "\n",
    "Extend the grammar simple_sem.fcfg that comes with NLTK `(~/nltk_data/grammars/book_grammars/)` so that it will cover the following sentences:\n",
    "\n",
    "- no man gives a bone to a dog **[4 marks]**\n",
    "- no man gives a bone to the dog **[4 marks]**\n",
    "- a boy and a girl chased every dog **[2 marks]**\n",
    "- every dog chased a boy and a girl **[2 marks]**\n",
    "- a brown cat chases a white dog **[4 marks]**\n",
    "\n",
    "The last example includes adjectives. Several different kinds of adjectives are discussed in the literature [(cf. Kennedy, 2012)](http://semantics.uchicago.edu/kennedy/docs/routledge.pdf). In this example we have an intersective adjective. The denotiation we want for \"brown cat\" is a a set that we get by intersecting the set of individuals that are brown and the set of individuals that are cats.\n",
    "\n",
    "C. Kennedy. Adjectives. In G. Russell, editor, The Routledge Companion to Philosophy of Language, chapter 3.3, pages 328–341. Routledge, 2012.\n",
    "\n",
    "The original grammar is included in the code below as a string."
   ]
  },
  {
   "cell_type": "code",
   "execution_count": 9,
   "metadata": {},
   "outputs": [],
   "source": [
    "fcfg_string_orginal = r\"\"\"\n",
    "% start S\n",
    "############################\n",
    "# Grammar Rules\n",
    "#############################\n",
    "\n",
    "S[SEM = <?subj(?vp)>] -> NP[NUM=?n,SEM=?subj] VP[NUM=?n,SEM=?vp]\n",
    "\n",
    "NP[NUM=?n,SEM=<?det(?nom)>] -> Det[NUM=?n,SEM=?det]  Nom[NUM=?n,SEM=?nom]\n",
    "NP[LOC=?l,NUM=?n,SEM=?np] -> PropN[LOC=?l,NUM=?n,SEM=?np]\n",
    "\n",
    "Nom[NUM=?n,SEM=?nom] -> N[NUM=?n,SEM=?nom]\n",
    "\n",
    "VP[NUM=?n,SEM=?v] -> IV[NUM=?n,SEM=?v]\n",
    "VP[NUM=?n,SEM=<?v(?obj)>] -> TV[NUM=?n,SEM=?v] NP[SEM=?obj]\n",
    "VP[NUM=?n,SEM=<?v(?obj,?pp)>] -> DTV[NUM=?n,SEM=?v] NP[SEM=?obj] PP[+TO,SEM=?pp]\n",
    "\n",
    "PP[+TO, SEM=?np] -> P[+TO] NP[SEM=?np]\n",
    "\n",
    "#############################\n",
    "# Lexical Rules\n",
    "#############################\n",
    "\n",
    "PropN[-LOC,NUM=sg,SEM=<\\P.P(angus)>] -> 'Angus'\n",
    "PropN[-LOC,NUM=sg,SEM=<\\P.P(cyril)>] -> 'Cyril'\n",
    "PropN[-LOC,NUM=sg,SEM=<\\P.P(irene)>] -> 'Irene'\n",
    " \n",
    "Det[NUM=sg,SEM=<\\P Q.all x.(P(x) -> Q(x))>] -> 'every'\n",
    "Det[NUM=pl,SEM=<\\P Q.all x.(P(x) -> Q(x))>] -> 'all'\n",
    "Det[SEM=<\\P Q.exists x.(P(x) & Q(x))>] -> 'some'          \n",
    "Det[NUM=sg,SEM=<\\P Q.exists x.(P(x) & Q(x))>] -> 'a'\n",
    "Det[NUM=sg,SEM=<\\P Q.exists x.(P(x) & Q(x))>] -> 'an'\n",
    "\n",
    "N[NUM=sg,SEM=<\\x.man(x)>] -> 'man'\n",
    "N[NUM=sg,SEM=<\\x.girl(x)>] -> 'girl'\n",
    "N[NUM=sg,SEM=<\\x.boy(x)>] -> 'boy'\n",
    "N[NUM=sg,SEM=<\\x.bone(x)>] -> 'bone'\n",
    "N[NUM=sg,SEM=<\\x.ankle(x)>] -> 'ankle'\n",
    "N[NUM=sg,SEM=<\\x.dog(x)>] -> 'dog'\n",
    "N[NUM=pl,SEM=<\\x.dog(x)>] -> 'dogs'\n",
    "IV[NUM=sg,SEM=<\\x.bark(x)>,TNS=pres] -> 'barks'\n",
    "IV[NUM=pl,SEM=<\\x.bark(x)>,TNS=pres] -> 'bark'\n",
    "IV[NUM=sg,SEM=<\\x.walk(x)>,TNS=pres] -> 'walks'\n",
    "IV[NUM=pl,SEM=<\\x.walk(x)>,TNS=pres] -> 'walk'\n",
    "TV[NUM=sg,SEM=<\\X x.X(\\ y.chase(x,y))>,TNS=pres] -> 'chases'            \n",
    "TV[NUM=pl,SEM=<\\X x.X(\\ y.chase(x,y))>,TNS=pres] -> 'chase'\n",
    "TV[NUM=sg,SEM=<\\X x.X(\\ y.see(x,y))>,TNS=pres] -> 'sees'\n",
    "TV[NUM=pl,SEM=<\\X x.X(\\ y.see(x,y))>,TNS=pres] -> 'see'\n",
    "TV[NUM=sg,SEM=<\\X x.X(\\ y.bite(x,y))>,TNS=pres] -> 'bites'\n",
    "TV[NUM=pl,SEM=<\\X x.X(\\ y.bite(x,y))>,TNS=pres] -> 'bite'\n",
    "DTV[NUM=sg,SEM=<\\Y X x.X(\\z.Y(\\y.give(x,y,z)))>,TNS=pres] -> 'gives'\n",
    "DTV[NUM=pl,SEM=<\\Y X x.X(\\z.Y(\\y.give(x,y,z)))>,TNS=pres] -> 'give'\n",
    "\n",
    "P[+to] -> 'to'\n",
    "\"\"\""
   ]
  },
  {
   "cell_type": "markdown",
   "metadata": {},
   "source": [
    "Write your extension of this grammar here:"
   ]
  },
  {
   "cell_type": "code",
   "execution_count": 78,
   "metadata": {},
   "outputs": [
    {
     "ename": "ValueError",
     "evalue": "Unable to parse line 66: NP[SEM=<\\ P.(?det ?p(P) ?nom)>] -> Det[SEM=?det] ADJ[SEM=?p(P)] Nom[SEM=?nom]\nError parsing feature structure\n    NP[SEM=<\\ P.(?det ?p(P) ?nom)>] -> Det[SEM=?det] ADJ[SEM=?p(P)] Nom[SEM=?nom]\n            ^ Expected logic expression",
     "output_type": "error",
     "traceback": [
      "\u001b[0;31m---------------------------------------------------------------------------\u001b[0m",
      "\u001b[0;31mUnexpectedTokenException\u001b[0m                  Traceback (most recent call last)",
      "\u001b[0;32m~/.local/lib/python3.8/site-packages/nltk/sem/logic.py\u001b[0m in \u001b[0;36mparse\u001b[0;34m(self, data, signature)\u001b[0m\n\u001b[1;32m    150\u001b[0m         \u001b[0;32mtry\u001b[0m\u001b[0;34m:\u001b[0m\u001b[0;34m\u001b[0m\u001b[0;34m\u001b[0m\u001b[0m\n\u001b[0;32m--> 151\u001b[0;31m             \u001b[0mresult\u001b[0m \u001b[0;34m=\u001b[0m \u001b[0mself\u001b[0m\u001b[0;34m.\u001b[0m\u001b[0mprocess_next_expression\u001b[0m\u001b[0;34m(\u001b[0m\u001b[0;32mNone\u001b[0m\u001b[0;34m)\u001b[0m\u001b[0;34m\u001b[0m\u001b[0;34m\u001b[0m\u001b[0m\n\u001b[0m\u001b[1;32m    152\u001b[0m             \u001b[0;32mif\u001b[0m \u001b[0mself\u001b[0m\u001b[0;34m.\u001b[0m\u001b[0minRange\u001b[0m\u001b[0;34m(\u001b[0m\u001b[0;36m0\u001b[0m\u001b[0;34m)\u001b[0m\u001b[0;34m:\u001b[0m\u001b[0;34m\u001b[0m\u001b[0;34m\u001b[0m\u001b[0m\n",
      "\u001b[0;32m~/.local/lib/python3.8/site-packages/nltk/sem/logic.py\u001b[0m in \u001b[0;36mprocess_next_expression\u001b[0;34m(self, context)\u001b[0m\n\u001b[1;32m    286\u001b[0m \u001b[0;34m\u001b[0m\u001b[0m\n\u001b[0;32m--> 287\u001b[0;31m         \u001b[0maccum\u001b[0m \u001b[0;34m=\u001b[0m \u001b[0mself\u001b[0m\u001b[0;34m.\u001b[0m\u001b[0mhandle\u001b[0m\u001b[0;34m(\u001b[0m\u001b[0mtok\u001b[0m\u001b[0;34m,\u001b[0m \u001b[0mcontext\u001b[0m\u001b[0;34m)\u001b[0m\u001b[0;34m\u001b[0m\u001b[0;34m\u001b[0m\u001b[0m\n\u001b[0m\u001b[1;32m    288\u001b[0m \u001b[0;34m\u001b[0m\u001b[0m\n",
      "\u001b[0;32m~/.local/lib/python3.8/site-packages/nltk/sem/logic.py\u001b[0m in \u001b[0;36mhandle\u001b[0;34m(self, tok, context)\u001b[0m\n\u001b[1;32m    305\u001b[0m         \u001b[0;32melif\u001b[0m \u001b[0mtok\u001b[0m \u001b[0;32min\u001b[0m \u001b[0mTokens\u001b[0m\u001b[0;34m.\u001b[0m\u001b[0mLAMBDA_LIST\u001b[0m\u001b[0;34m:\u001b[0m\u001b[0;34m\u001b[0m\u001b[0;34m\u001b[0m\u001b[0m\n\u001b[0;32m--> 306\u001b[0;31m             \u001b[0;32mreturn\u001b[0m \u001b[0mself\u001b[0m\u001b[0;34m.\u001b[0m\u001b[0mhandle_lambda\u001b[0m\u001b[0;34m(\u001b[0m\u001b[0mtok\u001b[0m\u001b[0;34m,\u001b[0m \u001b[0mcontext\u001b[0m\u001b[0;34m)\u001b[0m\u001b[0;34m\u001b[0m\u001b[0;34m\u001b[0m\u001b[0m\n\u001b[0m\u001b[1;32m    307\u001b[0m \u001b[0;34m\u001b[0m\u001b[0m\n",
      "\u001b[0;32m~/.local/lib/python3.8/site-packages/nltk/sem/logic.py\u001b[0m in \u001b[0;36mhandle_lambda\u001b[0;34m(self, tok, context)\u001b[0m\n\u001b[1;32m    393\u001b[0m \u001b[0;34m\u001b[0m\u001b[0m\n\u001b[0;32m--> 394\u001b[0;31m         \u001b[0maccum\u001b[0m \u001b[0;34m=\u001b[0m \u001b[0mself\u001b[0m\u001b[0;34m.\u001b[0m\u001b[0mprocess_next_expression\u001b[0m\u001b[0;34m(\u001b[0m\u001b[0mtok\u001b[0m\u001b[0;34m)\u001b[0m\u001b[0;34m\u001b[0m\u001b[0;34m\u001b[0m\u001b[0m\n\u001b[0m\u001b[1;32m    395\u001b[0m         \u001b[0;32mwhile\u001b[0m \u001b[0mvars\u001b[0m\u001b[0;34m:\u001b[0m\u001b[0;34m\u001b[0m\u001b[0;34m\u001b[0m\u001b[0m\n",
      "\u001b[0;32m~/.local/lib/python3.8/site-packages/nltk/sem/logic.py\u001b[0m in \u001b[0;36mprocess_next_expression\u001b[0;34m(self, context)\u001b[0m\n\u001b[1;32m    286\u001b[0m \u001b[0;34m\u001b[0m\u001b[0m\n\u001b[0;32m--> 287\u001b[0;31m         \u001b[0maccum\u001b[0m \u001b[0;34m=\u001b[0m \u001b[0mself\u001b[0m\u001b[0;34m.\u001b[0m\u001b[0mhandle\u001b[0m\u001b[0;34m(\u001b[0m\u001b[0mtok\u001b[0m\u001b[0;34m,\u001b[0m \u001b[0mcontext\u001b[0m\u001b[0;34m)\u001b[0m\u001b[0;34m\u001b[0m\u001b[0;34m\u001b[0m\u001b[0m\n\u001b[0m\u001b[1;32m    288\u001b[0m \u001b[0;34m\u001b[0m\u001b[0m\n",
      "\u001b[0;32m~/.local/lib/python3.8/site-packages/nltk/sem/logic.py\u001b[0m in \u001b[0;36mhandle\u001b[0;34m(self, tok, context)\u001b[0m\n\u001b[1;32m    311\u001b[0m         \u001b[0;32melif\u001b[0m \u001b[0mtok\u001b[0m \u001b[0;34m==\u001b[0m \u001b[0mTokens\u001b[0m\u001b[0;34m.\u001b[0m\u001b[0mOPEN\u001b[0m\u001b[0;34m:\u001b[0m\u001b[0;34m\u001b[0m\u001b[0;34m\u001b[0m\u001b[0m\n\u001b[0;32m--> 312\u001b[0;31m             \u001b[0;32mreturn\u001b[0m \u001b[0mself\u001b[0m\u001b[0;34m.\u001b[0m\u001b[0mhandle_open\u001b[0m\u001b[0;34m(\u001b[0m\u001b[0mtok\u001b[0m\u001b[0;34m,\u001b[0m \u001b[0mcontext\u001b[0m\u001b[0;34m)\u001b[0m\u001b[0;34m\u001b[0m\u001b[0;34m\u001b[0m\u001b[0m\n\u001b[0m\u001b[1;32m    313\u001b[0m \u001b[0;34m\u001b[0m\u001b[0m\n",
      "\u001b[0;32m~/.local/lib/python3.8/site-packages/nltk/sem/logic.py\u001b[0m in \u001b[0;36mhandle_open\u001b[0;34m(self, tok, context)\u001b[0m\n\u001b[1;32m    444\u001b[0m         \u001b[0maccum\u001b[0m \u001b[0;34m=\u001b[0m \u001b[0mself\u001b[0m\u001b[0;34m.\u001b[0m\u001b[0mprocess_next_expression\u001b[0m\u001b[0;34m(\u001b[0m\u001b[0;32mNone\u001b[0m\u001b[0;34m)\u001b[0m\u001b[0;34m\u001b[0m\u001b[0;34m\u001b[0m\u001b[0m\n\u001b[0;32m--> 445\u001b[0;31m         \u001b[0mself\u001b[0m\u001b[0;34m.\u001b[0m\u001b[0massertNextToken\u001b[0m\u001b[0;34m(\u001b[0m\u001b[0mTokens\u001b[0m\u001b[0;34m.\u001b[0m\u001b[0mCLOSE\u001b[0m\u001b[0;34m)\u001b[0m\u001b[0;34m\u001b[0m\u001b[0;34m\u001b[0m\u001b[0m\n\u001b[0m\u001b[1;32m    446\u001b[0m         \u001b[0;32mreturn\u001b[0m \u001b[0maccum\u001b[0m\u001b[0;34m\u001b[0m\u001b[0;34m\u001b[0m\u001b[0m\n",
      "\u001b[0;32m~/.local/lib/python3.8/site-packages/nltk/sem/logic.py\u001b[0m in \u001b[0;36massertNextToken\u001b[0;34m(self, expected)\u001b[0m\n\u001b[1;32m    567\u001b[0m             \u001b[0;32mif\u001b[0m \u001b[0mtok\u001b[0m \u001b[0;34m!=\u001b[0m \u001b[0mexpected\u001b[0m\u001b[0;34m:\u001b[0m\u001b[0;34m\u001b[0m\u001b[0;34m\u001b[0m\u001b[0m\n\u001b[0;32m--> 568\u001b[0;31m                 \u001b[0;32mraise\u001b[0m \u001b[0mUnexpectedTokenException\u001b[0m\u001b[0;34m(\u001b[0m\u001b[0mself\u001b[0m\u001b[0;34m.\u001b[0m\u001b[0m_currentIndex\u001b[0m\u001b[0;34m,\u001b[0m \u001b[0mtok\u001b[0m\u001b[0;34m,\u001b[0m \u001b[0mexpected\u001b[0m\u001b[0;34m)\u001b[0m\u001b[0;34m\u001b[0m\u001b[0;34m\u001b[0m\u001b[0m\n\u001b[0m\u001b[1;32m    569\u001b[0m \u001b[0;34m\u001b[0m\u001b[0m\n",
      "\u001b[0;31mUnexpectedTokenException\u001b[0m: Unexpected token: '?p'.  Expected token ')'.",
      "\nDuring handling of the above exception, another exception occurred:\n",
      "\u001b[0;31mLogicalExpressionException\u001b[0m                Traceback (most recent call last)",
      "\u001b[0;32m~/.local/lib/python3.8/site-packages/nltk/featstruct.py\u001b[0m in \u001b[0;36mread_logic_value\u001b[0;34m(self, s, position, reentrances, match)\u001b[0m\n\u001b[1;32m   2525\u001b[0m             \u001b[0;32mtry\u001b[0m\u001b[0;34m:\u001b[0m\u001b[0;34m\u001b[0m\u001b[0;34m\u001b[0m\u001b[0m\n\u001b[0;32m-> 2526\u001b[0;31m                 \u001b[0mexpr\u001b[0m \u001b[0;34m=\u001b[0m \u001b[0mself\u001b[0m\u001b[0;34m.\u001b[0m\u001b[0m_logic_parser\u001b[0m\u001b[0;34m.\u001b[0m\u001b[0mparse\u001b[0m\u001b[0;34m(\u001b[0m\u001b[0mmatch\u001b[0m\u001b[0;34m.\u001b[0m\u001b[0mgroup\u001b[0m\u001b[0;34m(\u001b[0m\u001b[0;36m1\u001b[0m\u001b[0;34m)\u001b[0m\u001b[0;34m)\u001b[0m\u001b[0;34m\u001b[0m\u001b[0;34m\u001b[0m\u001b[0m\n\u001b[0m\u001b[1;32m   2527\u001b[0m             \u001b[0;32mexcept\u001b[0m \u001b[0mLogicalExpressionException\u001b[0m\u001b[0;34m:\u001b[0m\u001b[0;34m\u001b[0m\u001b[0;34m\u001b[0m\u001b[0m\n",
      "\u001b[0;32m~/.local/lib/python3.8/site-packages/nltk/sem/logic.py\u001b[0m in \u001b[0;36mparse\u001b[0;34m(self, data, signature)\u001b[0m\n\u001b[1;32m    155\u001b[0m             \u001b[0mmsg\u001b[0m \u001b[0;34m=\u001b[0m \u001b[0;34m\"%s\\n%s\\n%s^\"\u001b[0m \u001b[0;34m%\u001b[0m \u001b[0;34m(\u001b[0m\u001b[0me\u001b[0m\u001b[0;34m,\u001b[0m \u001b[0mdata\u001b[0m\u001b[0;34m,\u001b[0m \u001b[0;34m\" \"\u001b[0m \u001b[0;34m*\u001b[0m \u001b[0mmapping\u001b[0m\u001b[0;34m[\u001b[0m\u001b[0me\u001b[0m\u001b[0;34m.\u001b[0m\u001b[0mindex\u001b[0m \u001b[0;34m-\u001b[0m \u001b[0;36m1\u001b[0m\u001b[0;34m]\u001b[0m\u001b[0;34m)\u001b[0m\u001b[0;34m\u001b[0m\u001b[0;34m\u001b[0m\u001b[0m\n\u001b[0;32m--> 156\u001b[0;31m             \u001b[0;32mraise\u001b[0m \u001b[0mLogicalExpressionException\u001b[0m\u001b[0;34m(\u001b[0m\u001b[0;32mNone\u001b[0m\u001b[0;34m,\u001b[0m \u001b[0mmsg\u001b[0m\u001b[0;34m)\u001b[0m\u001b[0;34m\u001b[0m\u001b[0;34m\u001b[0m\u001b[0m\n\u001b[0m\u001b[1;32m    157\u001b[0m \u001b[0;34m\u001b[0m\u001b[0m\n",
      "\u001b[0;31mLogicalExpressionException\u001b[0m: Unexpected token: '?p'.  Expected token ')'.\n\\ P.(?det ?p(P) ?nom)\n          ^",
      "\nDuring handling of the above exception, another exception occurred:\n",
      "\u001b[0;31mValueError\u001b[0m                                Traceback (most recent call last)",
      "\u001b[0;32m~/.local/lib/python3.8/site-packages/nltk/featstruct.py\u001b[0m in \u001b[0;36mread_logic_value\u001b[0;34m(self, s, position, reentrances, match)\u001b[0m\n\u001b[1;32m   2527\u001b[0m             \u001b[0;32mexcept\u001b[0m \u001b[0mLogicalExpressionException\u001b[0m\u001b[0;34m:\u001b[0m\u001b[0;34m\u001b[0m\u001b[0;34m\u001b[0m\u001b[0m\n\u001b[0;32m-> 2528\u001b[0;31m                 \u001b[0;32mraise\u001b[0m \u001b[0mValueError\u001b[0m\u001b[0;34m(\u001b[0m\u001b[0;34m)\u001b[0m\u001b[0;34m\u001b[0m\u001b[0;34m\u001b[0m\u001b[0m\n\u001b[0m\u001b[1;32m   2529\u001b[0m             \u001b[0;32mreturn\u001b[0m \u001b[0mexpr\u001b[0m\u001b[0;34m,\u001b[0m \u001b[0mmatch\u001b[0m\u001b[0;34m.\u001b[0m\u001b[0mend\u001b[0m\u001b[0;34m(\u001b[0m\u001b[0;34m)\u001b[0m\u001b[0;34m\u001b[0m\u001b[0;34m\u001b[0m\u001b[0m\n",
      "\u001b[0;31mValueError\u001b[0m: ",
      "\nDuring handling of the above exception, another exception occurred:\n",
      "\u001b[0;31mValueError\u001b[0m                                Traceback (most recent call last)",
      "\u001b[0;32m~/.local/lib/python3.8/site-packages/nltk/featstruct.py\u001b[0m in \u001b[0;36mread_partial\u001b[0;34m(self, s, position, reentrances, fstruct)\u001b[0m\n\u001b[1;32m   2248\u001b[0m         \u001b[0;32mtry\u001b[0m\u001b[0;34m:\u001b[0m\u001b[0;34m\u001b[0m\u001b[0;34m\u001b[0m\u001b[0m\n\u001b[0;32m-> 2249\u001b[0;31m             \u001b[0;32mreturn\u001b[0m \u001b[0mself\u001b[0m\u001b[0;34m.\u001b[0m\u001b[0m_read_partial\u001b[0m\u001b[0;34m(\u001b[0m\u001b[0ms\u001b[0m\u001b[0;34m,\u001b[0m \u001b[0mposition\u001b[0m\u001b[0;34m,\u001b[0m \u001b[0mreentrances\u001b[0m\u001b[0;34m,\u001b[0m \u001b[0mfstruct\u001b[0m\u001b[0;34m)\u001b[0m\u001b[0;34m\u001b[0m\u001b[0;34m\u001b[0m\u001b[0m\n\u001b[0m\u001b[1;32m   2250\u001b[0m         \u001b[0;32mexcept\u001b[0m \u001b[0mValueError\u001b[0m \u001b[0;32mas\u001b[0m \u001b[0me\u001b[0m\u001b[0;34m:\u001b[0m\u001b[0;34m\u001b[0m\u001b[0;34m\u001b[0m\u001b[0m\n",
      "\u001b[0;32m~/.local/lib/python3.8/site-packages/nltk/featstruct.py\u001b[0m in \u001b[0;36m_read_partial\u001b[0;34m(self, s, position, reentrances, fstruct)\u001b[0m\n\u001b[1;32m   2279\u001b[0m             \u001b[0mfstruct\u001b[0m\u001b[0;34m.\u001b[0m\u001b[0mclear\u001b[0m\u001b[0;34m(\u001b[0m\u001b[0;34m)\u001b[0m\u001b[0;34m\u001b[0m\u001b[0;34m\u001b[0m\u001b[0m\n\u001b[0;32m-> 2280\u001b[0;31m             \u001b[0;32mreturn\u001b[0m \u001b[0mself\u001b[0m\u001b[0;34m.\u001b[0m\u001b[0m_read_partial_featdict\u001b[0m\u001b[0;34m(\u001b[0m\u001b[0ms\u001b[0m\u001b[0;34m,\u001b[0m \u001b[0mposition\u001b[0m\u001b[0;34m,\u001b[0m \u001b[0mmatch\u001b[0m\u001b[0;34m,\u001b[0m \u001b[0mreentrances\u001b[0m\u001b[0;34m,\u001b[0m \u001b[0mfstruct\u001b[0m\u001b[0;34m)\u001b[0m\u001b[0;34m\u001b[0m\u001b[0;34m\u001b[0m\u001b[0m\n\u001b[0m\u001b[1;32m   2281\u001b[0m         \u001b[0;32melse\u001b[0m\u001b[0;34m:\u001b[0m\u001b[0;34m\u001b[0m\u001b[0;34m\u001b[0m\u001b[0m\n",
      "\u001b[0;32m~/.local/lib/python3.8/site-packages/nltk/featstruct.py\u001b[0m in \u001b[0;36m_read_partial_featdict\u001b[0;34m(self, s, position, match, reentrances, fstruct)\u001b[0m\n\u001b[1;32m   2402\u001b[0m                     \u001b[0mposition\u001b[0m \u001b[0;34m=\u001b[0m \u001b[0mmatch\u001b[0m\u001b[0;34m.\u001b[0m\u001b[0mend\u001b[0m\u001b[0;34m(\u001b[0m\u001b[0;34m)\u001b[0m\u001b[0;34m\u001b[0m\u001b[0;34m\u001b[0m\u001b[0m\n\u001b[0;32m-> 2403\u001b[0;31m                     \u001b[0mvalue\u001b[0m\u001b[0;34m,\u001b[0m \u001b[0mposition\u001b[0m \u001b[0;34m=\u001b[0m \u001b[0mself\u001b[0m\u001b[0;34m.\u001b[0m\u001b[0m_read_value\u001b[0m\u001b[0;34m(\u001b[0m\u001b[0mname\u001b[0m\u001b[0;34m,\u001b[0m \u001b[0ms\u001b[0m\u001b[0;34m,\u001b[0m \u001b[0mposition\u001b[0m\u001b[0;34m,\u001b[0m \u001b[0mreentrances\u001b[0m\u001b[0;34m)\u001b[0m\u001b[0;34m\u001b[0m\u001b[0;34m\u001b[0m\u001b[0m\n\u001b[0m\u001b[1;32m   2404\u001b[0m                 \u001b[0;31m# None of the above: error.\u001b[0m\u001b[0;34m\u001b[0m\u001b[0;34m\u001b[0m\u001b[0;34m\u001b[0m\u001b[0m\n",
      "\u001b[0;32m~/.local/lib/python3.8/site-packages/nltk/featstruct.py\u001b[0m in \u001b[0;36m_read_value\u001b[0;34m(self, name, s, position, reentrances)\u001b[0m\n\u001b[1;32m   2444\u001b[0m         \u001b[0;32melse\u001b[0m\u001b[0;34m:\u001b[0m\u001b[0;34m\u001b[0m\u001b[0;34m\u001b[0m\u001b[0m\n\u001b[0;32m-> 2445\u001b[0;31m             \u001b[0;32mreturn\u001b[0m \u001b[0mself\u001b[0m\u001b[0;34m.\u001b[0m\u001b[0mread_value\u001b[0m\u001b[0;34m(\u001b[0m\u001b[0ms\u001b[0m\u001b[0;34m,\u001b[0m \u001b[0mposition\u001b[0m\u001b[0;34m,\u001b[0m \u001b[0mreentrances\u001b[0m\u001b[0;34m)\u001b[0m\u001b[0;34m\u001b[0m\u001b[0;34m\u001b[0m\u001b[0m\n\u001b[0m\u001b[1;32m   2446\u001b[0m \u001b[0;34m\u001b[0m\u001b[0m\n",
      "\u001b[0;32m~/.local/lib/python3.8/site-packages/nltk/featstruct.py\u001b[0m in \u001b[0;36mread_value\u001b[0;34m(self, s, position, reentrances)\u001b[0m\n\u001b[1;32m   2451\u001b[0m                 \u001b[0mhandler_func\u001b[0m \u001b[0;34m=\u001b[0m \u001b[0mgetattr\u001b[0m\u001b[0;34m(\u001b[0m\u001b[0mself\u001b[0m\u001b[0;34m,\u001b[0m \u001b[0mhandler\u001b[0m\u001b[0;34m)\u001b[0m\u001b[0;34m\u001b[0m\u001b[0;34m\u001b[0m\u001b[0m\n\u001b[0;32m-> 2452\u001b[0;31m                 \u001b[0;32mreturn\u001b[0m \u001b[0mhandler_func\u001b[0m\u001b[0;34m(\u001b[0m\u001b[0ms\u001b[0m\u001b[0;34m,\u001b[0m \u001b[0mposition\u001b[0m\u001b[0;34m,\u001b[0m \u001b[0mreentrances\u001b[0m\u001b[0;34m,\u001b[0m \u001b[0mmatch\u001b[0m\u001b[0;34m)\u001b[0m\u001b[0;34m\u001b[0m\u001b[0;34m\u001b[0m\u001b[0m\n\u001b[0m\u001b[1;32m   2453\u001b[0m         \u001b[0;32mraise\u001b[0m \u001b[0mValueError\u001b[0m\u001b[0;34m(\u001b[0m\u001b[0;34m\"value\"\u001b[0m\u001b[0;34m,\u001b[0m \u001b[0mposition\u001b[0m\u001b[0;34m)\u001b[0m\u001b[0;34m\u001b[0m\u001b[0;34m\u001b[0m\u001b[0m\n",
      "\u001b[0;32m~/.local/lib/python3.8/site-packages/nltk/featstruct.py\u001b[0m in \u001b[0;36mread_logic_value\u001b[0;34m(self, s, position, reentrances, match)\u001b[0m\n\u001b[1;32m   2530\u001b[0m         \u001b[0;32mexcept\u001b[0m \u001b[0mValueError\u001b[0m\u001b[0;34m:\u001b[0m\u001b[0;34m\u001b[0m\u001b[0;34m\u001b[0m\u001b[0m\n\u001b[0;32m-> 2531\u001b[0;31m             \u001b[0;32mraise\u001b[0m \u001b[0mValueError\u001b[0m\u001b[0;34m(\u001b[0m\u001b[0;34m\"logic expression\"\u001b[0m\u001b[0;34m,\u001b[0m \u001b[0mmatch\u001b[0m\u001b[0;34m.\u001b[0m\u001b[0mstart\u001b[0m\u001b[0;34m(\u001b[0m\u001b[0;36m1\u001b[0m\u001b[0;34m)\u001b[0m\u001b[0;34m)\u001b[0m\u001b[0;34m\u001b[0m\u001b[0;34m\u001b[0m\u001b[0m\n\u001b[0m\u001b[1;32m   2532\u001b[0m \u001b[0;34m\u001b[0m\u001b[0m\n",
      "\u001b[0;31mValueError\u001b[0m: ('logic expression', 8)",
      "\nDuring handling of the above exception, another exception occurred:\n",
      "\u001b[0;31mValueError\u001b[0m                                Traceback (most recent call last)",
      "\u001b[0;32m~/.local/lib/python3.8/site-packages/nltk/grammar.py\u001b[0m in \u001b[0;36mread_grammar\u001b[0;34m(input, nonterm_parser, probabilistic, encoding)\u001b[0m\n\u001b[1;32m   1448\u001b[0m                 \u001b[0;31m# expand out the disjunctions on the RHS\u001b[0m\u001b[0;34m\u001b[0m\u001b[0;34m\u001b[0m\u001b[0;34m\u001b[0m\u001b[0m\n\u001b[0;32m-> 1449\u001b[0;31m                 \u001b[0mproductions\u001b[0m \u001b[0;34m+=\u001b[0m \u001b[0m_read_production\u001b[0m\u001b[0;34m(\u001b[0m\u001b[0mline\u001b[0m\u001b[0;34m,\u001b[0m \u001b[0mnonterm_parser\u001b[0m\u001b[0;34m,\u001b[0m \u001b[0mprobabilistic\u001b[0m\u001b[0;34m)\u001b[0m\u001b[0;34m\u001b[0m\u001b[0;34m\u001b[0m\u001b[0m\n\u001b[0m\u001b[1;32m   1450\u001b[0m         \u001b[0;32mexcept\u001b[0m \u001b[0mValueError\u001b[0m \u001b[0;32mas\u001b[0m \u001b[0me\u001b[0m\u001b[0;34m:\u001b[0m\u001b[0;34m\u001b[0m\u001b[0;34m\u001b[0m\u001b[0m\n",
      "\u001b[0;32m~/.local/lib/python3.8/site-packages/nltk/grammar.py\u001b[0m in \u001b[0;36m_read_production\u001b[0;34m(line, nonterm_parser, probabilistic)\u001b[0m\n\u001b[1;32m   1347\u001b[0m     \u001b[0;31m# Parse the left-hand side.\u001b[0m\u001b[0;34m\u001b[0m\u001b[0;34m\u001b[0m\u001b[0;34m\u001b[0m\u001b[0m\n\u001b[0;32m-> 1348\u001b[0;31m     \u001b[0mlhs\u001b[0m\u001b[0;34m,\u001b[0m \u001b[0mpos\u001b[0m \u001b[0;34m=\u001b[0m \u001b[0mnonterm_parser\u001b[0m\u001b[0;34m(\u001b[0m\u001b[0mline\u001b[0m\u001b[0;34m,\u001b[0m \u001b[0mpos\u001b[0m\u001b[0;34m)\u001b[0m\u001b[0;34m\u001b[0m\u001b[0;34m\u001b[0m\u001b[0m\n\u001b[0m\u001b[1;32m   1349\u001b[0m \u001b[0;34m\u001b[0m\u001b[0m\n",
      "\u001b[0;32m~/.local/lib/python3.8/site-packages/nltk/featstruct.py\u001b[0m in \u001b[0;36mread_partial\u001b[0;34m(self, s, position, reentrances, fstruct)\u001b[0m\n\u001b[1;32m   2252\u001b[0m                 \u001b[0;32mraise\u001b[0m\u001b[0;34m\u001b[0m\u001b[0;34m\u001b[0m\u001b[0m\n\u001b[0;32m-> 2253\u001b[0;31m             \u001b[0mself\u001b[0m\u001b[0;34m.\u001b[0m\u001b[0m_error\u001b[0m\u001b[0;34m(\u001b[0m\u001b[0ms\u001b[0m\u001b[0;34m,\u001b[0m \u001b[0;34m*\u001b[0m\u001b[0me\u001b[0m\u001b[0;34m.\u001b[0m\u001b[0margs\u001b[0m\u001b[0;34m)\u001b[0m\u001b[0;34m\u001b[0m\u001b[0;34m\u001b[0m\u001b[0m\n\u001b[0m\u001b[1;32m   2254\u001b[0m \u001b[0;34m\u001b[0m\u001b[0m\n",
      "\u001b[0;32m~/.local/lib/python3.8/site-packages/nltk/featstruct.py\u001b[0m in \u001b[0;36m_error\u001b[0;34m(self, s, expected, position)\u001b[0m\n\u001b[1;32m   2466\u001b[0m         )\n\u001b[0;32m-> 2467\u001b[0;31m         \u001b[0;32mraise\u001b[0m \u001b[0mValueError\u001b[0m\u001b[0;34m(\u001b[0m\u001b[0mestr\u001b[0m\u001b[0;34m)\u001b[0m\u001b[0;34m\u001b[0m\u001b[0;34m\u001b[0m\u001b[0m\n\u001b[0m\u001b[1;32m   2468\u001b[0m \u001b[0;34m\u001b[0m\u001b[0m\n",
      "\u001b[0;31mValueError\u001b[0m: Error parsing feature structure\n    NP[SEM=<\\ P.(?det ?p(P) ?nom)>] -> Det[SEM=?det] ADJ[SEM=?p(P)] Nom[SEM=?nom]\n            ^ Expected logic expression",
      "\nDuring handling of the above exception, another exception occurred:\n",
      "\u001b[0;31mValueError\u001b[0m                                Traceback (most recent call last)",
      "\u001b[0;32m<ipython-input-78-a7ae7568e582>\u001b[0m in \u001b[0;36m<module>\u001b[0;34m\u001b[0m\n\u001b[1;32m     15\u001b[0m \u001b[0;34m\u001b[0m\u001b[0m\n\u001b[1;32m     16\u001b[0m \u001b[0;34m\u001b[0m\u001b[0m\n\u001b[0;32m---> 17\u001b[0;31m \u001b[0msyntax\u001b[0m \u001b[0;34m=\u001b[0m \u001b[0mFeatureGrammar\u001b[0m\u001b[0;34m.\u001b[0m\u001b[0mfromstring\u001b[0m\u001b[0;34m(\u001b[0m\u001b[0mfcfg_string\u001b[0m\u001b[0;34m)\u001b[0m\u001b[0;34m\u001b[0m\u001b[0;34m\u001b[0m\u001b[0m\n\u001b[0m",
      "\u001b[0;32m~/.local/lib/python3.8/site-packages/nltk/grammar.py\u001b[0m in \u001b[0;36mfromstring\u001b[0;34m(cls, input, features, logic_parser, fstruct_reader, encoding)\u001b[0m\n\u001b[1;32m    948\u001b[0m             )\n\u001b[1;32m    949\u001b[0m \u001b[0;34m\u001b[0m\u001b[0m\n\u001b[0;32m--> 950\u001b[0;31m         start, productions = read_grammar(\n\u001b[0m\u001b[1;32m    951\u001b[0m             \u001b[0minput\u001b[0m\u001b[0;34m,\u001b[0m \u001b[0mfstruct_reader\u001b[0m\u001b[0;34m.\u001b[0m\u001b[0mread_partial\u001b[0m\u001b[0;34m,\u001b[0m \u001b[0mencoding\u001b[0m\u001b[0;34m=\u001b[0m\u001b[0mencoding\u001b[0m\u001b[0;34m\u001b[0m\u001b[0;34m\u001b[0m\u001b[0m\n\u001b[1;32m    952\u001b[0m         )\n",
      "\u001b[0;32m~/.local/lib/python3.8/site-packages/nltk/grammar.py\u001b[0m in \u001b[0;36mread_grammar\u001b[0;34m(input, nonterm_parser, probabilistic, encoding)\u001b[0m\n\u001b[1;32m   1449\u001b[0m                 \u001b[0mproductions\u001b[0m \u001b[0;34m+=\u001b[0m \u001b[0m_read_production\u001b[0m\u001b[0;34m(\u001b[0m\u001b[0mline\u001b[0m\u001b[0;34m,\u001b[0m \u001b[0mnonterm_parser\u001b[0m\u001b[0;34m,\u001b[0m \u001b[0mprobabilistic\u001b[0m\u001b[0;34m)\u001b[0m\u001b[0;34m\u001b[0m\u001b[0;34m\u001b[0m\u001b[0m\n\u001b[1;32m   1450\u001b[0m         \u001b[0;32mexcept\u001b[0m \u001b[0mValueError\u001b[0m \u001b[0;32mas\u001b[0m \u001b[0me\u001b[0m\u001b[0;34m:\u001b[0m\u001b[0;34m\u001b[0m\u001b[0;34m\u001b[0m\u001b[0m\n\u001b[0;32m-> 1451\u001b[0;31m             \u001b[0;32mraise\u001b[0m \u001b[0mValueError\u001b[0m\u001b[0;34m(\u001b[0m\u001b[0;34m\"Unable to parse line %s: %s\\n%s\"\u001b[0m \u001b[0;34m%\u001b[0m \u001b[0;34m(\u001b[0m\u001b[0mlinenum\u001b[0m \u001b[0;34m+\u001b[0m \u001b[0;36m1\u001b[0m\u001b[0;34m,\u001b[0m \u001b[0mline\u001b[0m\u001b[0;34m,\u001b[0m \u001b[0me\u001b[0m\u001b[0;34m)\u001b[0m\u001b[0;34m)\u001b[0m\u001b[0;34m\u001b[0m\u001b[0;34m\u001b[0m\u001b[0m\n\u001b[0m\u001b[1;32m   1452\u001b[0m \u001b[0;34m\u001b[0m\u001b[0m\n\u001b[1;32m   1453\u001b[0m     \u001b[0;32mif\u001b[0m \u001b[0;32mnot\u001b[0m \u001b[0mproductions\u001b[0m\u001b[0;34m:\u001b[0m\u001b[0;34m\u001b[0m\u001b[0;34m\u001b[0m\u001b[0m\n",
      "\u001b[0;31mValueError\u001b[0m: Unable to parse line 66: NP[SEM=<\\ P.(?det ?p(P) ?nom)>] -> Det[SEM=?det] ADJ[SEM=?p(P)] Nom[SEM=?nom]\nError parsing feature structure\n    NP[SEM=<\\ P.(?det ?p(P) ?nom)>] -> Det[SEM=?det] ADJ[SEM=?p(P)] Nom[SEM=?nom]\n            ^ Expected logic expression"
     ]
    }
   ],
   "source": [
    "fcfg_string = fcfg_string_orginal + r\"\"\"\n",
    "## Your answers here\n",
    " Det[SEM=<\\P Q.-exists x.(P(x) & Q(x))>] -> 'no'\n",
    " Det[SEM=<\\P Q.exists x.(P(x) & Q(x))>] -> 'the'  \n",
    " TV[SEM=<\\X x.X(\\ y.chased(x,y))>, TNS=past] -> 'chased' \n",
    " CONJ[+conj] -> 'and' \n",
    " NP[+CONJ,NUM=pl,SEM=<\\ P.(?p(P) & ?q(P))>] -> NP[SEM=?p] CONJ NP[SEM=?q]  \n",
    " N[NUM=sg,SEM=<\\x.cat(x)>] -> 'cat'\n",
    " ADJ[SEM=<\\x.white(x)>] -> 'white'\n",
    " ADJ[SEM=<\\x.brown(x)>] -> 'brown'\n",
    " #NP[+ADJ, NUM=?n, TNS=?n, SEM=<?det(?adj,?nom)>] -> Det[NUM=?n, TNS=?n, SEM=?det] ADJ[SEM=?adj] Nom[NUM=?n, TNS=?n, SEM=?nom]\n",
    " NP[SEM=<\\ P.(?det ?p(P) ?nom)>] -> Det[SEM=?det] ADJ[SEM=?p(P)] Nom[SEM=?nom]\n",
    "\"\"\"\n",
    "#Ex brown(x) and cat(x) and white(y) and dog(y) and chase(x,y)\n",
    "\n",
    "\n",
    "syntax = FeatureGrammar.fromstring(fcfg_string)"
   ]
  },
  {
   "cell_type": "markdown",
   "metadata": {},
   "source": [
    "Run the code below without errors:"
   ]
  },
  {
   "cell_type": "code",
   "execution_count": 67,
   "metadata": {
    "scrolled": true
   },
   "outputs": [
    {
     "data": {
      "text/markdown": [
       "----"
      ],
      "text/plain": [
       "<IPython.core.display.Markdown object>"
      ]
     },
     "metadata": {},
     "output_type": "display_data"
    },
    {
     "data": {
      "text/markdown": [
       "$-\\exists\\ x.(man(x)\\ \\land\\ \\exists\\ z_{157}.(dog(z_{157})\\ \\land\\ \\exists\\ z_{156}.(bone(z_{156})\\ \\land\\ give(x,z_{156},z_{157}))))$"
      ],
      "text/plain": [
       "<IPython.core.display.Markdown object>"
      ]
     },
     "metadata": {},
     "output_type": "display_data"
    },
    {
     "data": {
      "text/markdown": [
       "----"
      ],
      "text/plain": [
       "<IPython.core.display.Markdown object>"
      ]
     },
     "metadata": {},
     "output_type": "display_data"
    },
    {
     "data": {
      "text/markdown": [
       "$-\\exists\\ x.(man(x)\\ \\land\\ \\exists\\ z_{159}.(dog(z_{159})\\ \\land\\ \\exists\\ z_{158}.(bone(z_{158})\\ \\land\\ give(x,z_{158},z_{159}))))$"
      ],
      "text/plain": [
       "<IPython.core.display.Markdown object>"
      ]
     },
     "metadata": {},
     "output_type": "display_data"
    },
    {
     "data": {
      "text/markdown": [
       "----"
      ],
      "text/plain": [
       "<IPython.core.display.Markdown object>"
      ]
     },
     "metadata": {},
     "output_type": "display_data"
    },
    {
     "data": {
      "text/markdown": [
       "$(\\exists\\ x.(boy(x)\\ \\land\\ \\forall\\ z_{160}.(dog(z_{160})\\ \\rightarrow\\ chased(x,z_{160})))\\ \\land\\ \\exists\\ x.(girl(x)\\ \\land\\ \\forall\\ z_{160}.(dog(z_{160})\\ \\rightarrow\\ chased(x,z_{160}))))$"
      ],
      "text/plain": [
       "<IPython.core.display.Markdown object>"
      ]
     },
     "metadata": {},
     "output_type": "display_data"
    },
    {
     "data": {
      "text/markdown": [
       "----"
      ],
      "text/plain": [
       "<IPython.core.display.Markdown object>"
      ]
     },
     "metadata": {},
     "output_type": "display_data"
    },
    {
     "data": {
      "text/markdown": [
       "$\\forall\\ x.(dog(x)\\ \\rightarrow\\ (\\exists\\ z_{162}.(boy(z_{162})\\ \\land\\ chased(x,z_{162}))\\ \\land\\ \\exists\\ z_{163}.(girl(z_{163})\\ \\land\\ chased(x,z_{163}))))$"
      ],
      "text/plain": [
       "<IPython.core.display.Markdown object>"
      ]
     },
     "metadata": {},
     "output_type": "display_data"
    },
    {
     "data": {
      "text/markdown": [
       "----"
      ],
      "text/plain": [
       "<IPython.core.display.Markdown object>"
      ]
     },
     "metadata": {},
     "output_type": "display_data"
    },
    {
     "data": {
      "text/markdown": [
       "$\\exists\\ x.(brown(x)\\ \\land\\ cat(x))(\\lambda\\ x.\\exists\\ x.(white(x)\\ \\land\\ dog(x))(\\lambda\\ y.chase(x,y)))$"
      ],
      "text/plain": [
       "<IPython.core.display.Markdown object>"
      ]
     },
     "metadata": {},
     "output_type": "display_data"
    },
    {
     "data": {
      "text/markdown": [
       "----"
      ],
      "text/plain": [
       "<IPython.core.display.Markdown object>"
      ]
     },
     "metadata": {},
     "output_type": "display_data"
    },
    {
     "data": {
      "text/markdown": [
       "$\\exists\\ x.(brown(x)\\ \\land\\ cat(x))(\\lambda\\ x.\\exists\\ z_{164}.(dog(z_{164})\\ \\land\\ chase(x,z_{164})))$"
      ],
      "text/plain": [
       "<IPython.core.display.Markdown object>"
      ]
     },
     "metadata": {},
     "output_type": "display_data"
    }
   ],
   "source": [
    "# remove sentences if you couldn't find answer for them\n",
    "sentences = [\n",
    "    'no man gives a bone to a dog',\n",
    "    'no man gives a bone to the dog',\n",
    "    'a boy and a girl chased every dog',         #both 3 and 4 have problems with \"a boy and a girl\"\n",
    "    'every dog chased a boy and a girl',\n",
    "    'a brown cat chases a white dog',            #this is correct because chase(x,y) same in grammar\n",
    "    'a brown cat chases a dog'\n",
    "]\n",
    "for results in nltk.interpret_sents(sentences, syntax):\n",
    "    for (synrep, semrep) in results:\n",
    "        display(Markdown('----'))\n",
    "        display_latex(semrep) # prints the SEM feature of a tree\n",
    "        #display_tree(synrep) # show the parse tree"
   ]
  },
  {
   "cell_type": "markdown",
   "metadata": {},
   "source": [
    "If you are working with iPython which is also running behind Jupyter notebooks and you are changing grammars and want to rerun a new version without restarting you may find `nltk.data.clear_cache()` useful."
   ]
  },
  {
   "cell_type": "markdown",
   "metadata": {},
   "source": [
    "## Marks\n",
    "\n",
    "This part of the assignment has a total of 47 marks."
   ]
  }
 ],
 "metadata": {
  "kernelspec": {
   "display_name": "Python 3",
   "language": "python",
   "name": "python3"
  },
  "language_info": {
   "codemirror_mode": {
    "name": "ipython",
    "version": 3
   },
   "file_extension": ".py",
   "mimetype": "text/x-python",
   "name": "python",
   "nbconvert_exporter": "python",
   "pygments_lexer": "ipython3",
   "version": "3.8.5"
  }
 },
 "nbformat": 4,
 "nbformat_minor": 1
}
