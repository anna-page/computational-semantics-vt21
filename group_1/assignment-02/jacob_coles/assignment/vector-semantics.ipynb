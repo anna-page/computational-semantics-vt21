{
 "cells": [
  {
   "cell_type": "markdown",
   "metadata": {},
   "source": [
    "# A2: Vector Semantics\n",
    "\n",
    "Nikolai Ilinykh, Mehdi Ghanimifard, Wafia Adouane and Simon Dobnik\n",
    "\n",
    "The lab is an exploration and learning exercise to be done in a group and also in discussion with the teachers and other students.\n",
    "\n",
    "Before starting, please read [the following instructions](https://github.com/sdobnik/computational-semantics/blob/master/README.md) on how to work on group assignments.\n",
    "\n",
    "Write all your answers and the code in the appropriate boxes below.\n",
    "\n",
    "In this lab we will look at how to build distributional semantic models from corpora and use semantic similarity captured by these models to do semantic tasks. We are also going to examine how different vector composition functions for phrases affect both the model and the learned information about similarities.  \n",
    "\n",
    "Note that this lab uses a code from `dist_erk.py`, which contains functions that highly resemble those shown during the lecture. In the end, you can use either of the functions (from the lecture / from the file) to solve the tasks."
   ]
  },
  {
   "cell_type": "code",
   "execution_count": 5,
   "metadata": {},
   "outputs": [],
   "source": [
    "# the following command simply imports all the methods from that code.\n",
    "from dist_erk import *"
   ]
  },
  {
   "cell_type": "code",
   "execution_count": 6,
   "metadata": {},
   "outputs": [
    {
     "data": {
      "text/plain": [
       "'/Users/jacobcoles/Desktop/LT2213/computational-semantics-vt21/group_1/assignment-02/jacob_coles/assignment'"
      ]
     },
     "execution_count": 6,
     "metadata": {},
     "output_type": "execute_result"
    }
   ],
   "source": [
    "import os\n",
    "os.getcwd()"
   ]
  },
  {
   "cell_type": "markdown",
   "metadata": {},
   "source": [
    "## 1. Loading a corpus\n",
    "\n",
    "To train a distributional model, we first need a sufficiently large collection of texts which contain different words used frequently enough in different contexts. Here we will use a section of the Wikipedia corpus which you can download from [here](https://linux.dobnik.net/cloud/index.php/s/isMBj49jt5renYt?path=%2Fresources%2Fa2-distributional-representations) (wikipedia.txt.zip). (This file has been borrowed from another lab by [Richard Johansson](http://www.cse.chalmers.se/~richajo/)).  \n",
    "When unpacked, the file is 151mb, hence if you are using the MLT servers you should store it in a temporary folder outside your home and adjust the `corpus_dir` path below.  \n",
    "<!-- <It may already exist in `/opt/mlt/courses/cl2015/a5`.> -->\n"
   ]
  },
  {
   "cell_type": "code",
   "execution_count": 9,
   "metadata": {},
   "outputs": [],
   "source": [
    "corpus_dir = '/Users/jacobcoles/Desktop/LT2213/computational-semantics-vt21/group_1/assignment-02/jacob_coles/assignment/wikipedia'#'/Users/xilini/Desktop/wikipedia/'"
   ]
  },
  {
   "cell_type": "markdown",
   "metadata": {},
   "source": [
    "## 2. Building a model\n",
    "\n",
    "Now you are ready to build the model.  \n",
    "Using the methods from the code imported above build three word matrices with 1000 dimensions as follows:  \n",
    "\n",
    "(i) with raw counts (saved to a variable `space_1k`);  \n",
    "(ii) with PPMI (`ppmispace_1k`);  \n",
    "(iii) with reduced dimensions SVD (`svdspace_1k`).  \n",
    "For the latter use `svddim=5`. **[5 marks]**\n",
    "\n",
    "Your task is to replace `...` with function calls. Functions are imported from `dist_erk.py` earlier, and they largely resemble functions shown during the lecture."
   ]
  },
  {
   "cell_type": "code",
   "execution_count": 11,
   "metadata": {},
   "outputs": [
    {
     "name": "stdout",
     "output_type": "stream",
     "text": [
      "reading file wikipedia.txt\n",
      "create count matrices\n",
      "reading file wikipedia.txt\n",
      "ppmi transform\n",
      "svd transform\n",
      "done.\n"
     ]
    }
   ],
   "source": [
    "numdims = 1000\n",
    "svddim = 5\n",
    "\n",
    "# which words to use as targets and context words?\n",
    "# we need to count the words and keep only the N most frequent ones\n",
    "# which function would you use here with which variable?\n",
    "ktw = do_word_count(corpus_dir, numdims) #keep these words\n",
    "\n",
    "wi = make_word_index(ktw) # word index\n",
    "words_in_order = sorted(wi.keys(), key=lambda w:wi[w]) # sorted words\n",
    "\n",
    "# create different spaces (the original matrix space, the ppmi space, the svd space)\n",
    "# which functions with which arguments would you use here?\n",
    "print('create count matrices')\n",
    "space_1k = make_space(corpus_dir, wi, numdims)\n",
    "print('ppmi transform')\n",
    "ppmispace_1k = ppmi_transform(space_1k, wi)\n",
    "print('svd transform')\n",
    "svdspace_1k = svd_transform(ppmispace_1k, numdims, svddim)\n",
    "print('done.')"
   ]
  },
  {
   "cell_type": "code",
   "execution_count": 15,
   "metadata": {},
   "outputs": [
    {
     "name": "stdout",
     "output_type": "stream",
     "text": [
      "house: [2554 3774 3105  567  962  631  443  185  311  189  131   28   93  169\n",
      "   81  125  151  408  194   90   79   29  217  184   62   15   31   70\n",
      "   10    1   41   21    1   31   37    1   30    5   25    7    3   20\n",
      "   11    1   32   36    2    5   66    4    0   46    8   18   28    0\n",
      "   20    7    8   16   10   40    0  175   10    2    7   19    1  174\n",
      "   11    3    1    6    0    0    0   10    9   11    7   24    4    4\n",
      "   14   23   58    7    0   10    2    3   10    6   18    6   13    3\n",
      "   22    0    3    5    3    7   14    3   40   20   19   15    6    8\n",
      "   24    4    5    1   19    0    3    1    0   14    0   14   53    7\n",
      "    7   11    6    5    5    4   12    6   53    1    1  433    4    0\n",
      "    5    7    7   12    1    1    3    4   17    8   16    1    2   31\n",
      "    1   12   14    1   44    6   14    9   38    7    2    6    8    1\n",
      "   10    6   10    1    9    7    9    4    3   10    0   11    3    2\n",
      "    0    2   11   37    2    0    2    1    5    9   10   16   88    6\n",
      "    0   21    1    1    0    2   47    3   27    7    0    2   13    1\n",
      "    2    0    5   31    0    1    0    3   10    0    1    0    3    3\n",
      "   17    1    1   16    3    7    4    7   15    4    0    0    2    5\n",
      "    0    2    0    5    0    9    0    0    8    0   10    0    0    0\n",
      "    2    0    1    3    1    3   15    1    9    0   19   14    0    0\n",
      "    3    2   18    3    1    3    2   19    5    2    4    1   10    6\n",
      "    0    3    3    6    4    2   25    4    6    3    1   25   10   15\n",
      "    3   10   15    1   10    1    8    1   13    1    2    9    9    1\n",
      "    4    1   25    0    4    6    5    5   36    0    2    2    2    0\n",
      "    0    2    3    3    0    1    4    6    5    0   50    2    5    2\n",
      "   14    6    2    2    4    1    9    4    5    3    1    0   12    3\n",
      "    3    2    2    0    0    1    4    7   12    5    0    2    1    2\n",
      "    3    4    7    3    5    0   29    7    1    1    0    3    3    3\n",
      "   10    0   14    2    0    2    4    6    0    5    0    0    1    1\n",
      "    4    1    1    0    0    0    0    3   20    0    0    2    1    5\n",
      "    3    8    3    5    1    2   66    1    2   19    2    1    3    3\n",
      "   21    5    4    2    2    0    4    3    5    0    7    1    6    1\n",
      "    3    3    1    0    3    0    2    0   89    2    3    1    1   14\n",
      "    0    2    1    9    2    3    2    4    2    0   25    0    0   23\n",
      "    0    6    2    1    3    0    2    5    0    4    4    3    0    4\n",
      "   58    3    1    6    2    4    3    3   11    1    1    1   10    0\n",
      "    7    3    1    6    1   18    1    0    4    2    0    8    5    2\n",
      "    0    0    0    0    5    1    2    1    1    3    1    2    1    1\n",
      "    0    6    1    4    1    3   20    1    0    5    2    5    2    1\n",
      "    0    0    0    2    6    1    1    0    1    1    1    0    0    3\n",
      "    3    0    0    6    6   74    3    0   13    5    2    2    1    5\n",
      "    3    3    1    7    4    0    0    2    3    0    4    0    4    1\n",
      "    0    2    5    2    1   14    2    0    0   19    0    1    2    1\n",
      "    0    3    2    0    0    3    1    3    3    2    7   18    7    6\n",
      "    6    0    1    9    1   10    2    0    2    0    2    4    0    0\n",
      "    1    2    0    1    0    2    0    0    0    2    1    2    2    0\n",
      "    3    2    2    0    0    1    2    3    1    1    1    2    0    0\n",
      "    3    0    7    2   39    0   14    0    1    1    0    1    5    3\n",
      "   11    0    3    0    1    1    0    0    1    9    2    1    0   11\n",
      "    1    3    7    0    0    0   32    1    0    0    0    1    1    3\n",
      "    0    9    0    2    0    1    3    2    6    0    3    0    0    2\n",
      "    3    0    1    0    1    4    0    0    1    1    0    0    5   21\n",
      "    2    1    1    3    0    1    7    1    3    4    0    5    3    0\n",
      "    7    2    0    4    2    0    2    1    4    4    0    0    0    5\n",
      "    3    2    2    0    4    0   23    2    2    2    4    0    1    0\n",
      "    4    0    3    5    3    0    8    0    1   16    1    2    2    7\n",
      "    0    0    1   11    1    0    4    0    1    0    1    2    1    5\n",
      "    0   97    0    2    0    3    0    8    1   14    4    9    2    3\n",
      "    1    1    0    3    4    0    5    1    5    2    0    0    0    2\n",
      "    1    2    1    1    1    1   12    0    2    5    1    0    0   13\n",
      "    2    0    0    0    2    2    0    0    3    1    1    1    1    0\n",
      "    1    2    1    0    0    0   10    0    1    0    1    1    1    1\n",
      "    0    1    0    0    3    2    5    0    0    2    1    0   23    0\n",
      "    0    4    0    1    0    0    0    1    1    2    1    0    1    0\n",
      "    0    4    1    0    1    1    5    1    1    0    1    0    0    0\n",
      "    1    0    0    2    2    3    0    1    0    4    3    3    1    4\n",
      "    0    0    0    6    1    2    1    0    5    3    0    0    1    2\n",
      "    0    5    0    0    2    1    1    4   15    0    0    1    1    3\n",
      "    1    0    1    4    1    1    2    8    1    3    0    0    0    0\n",
      "    1    3    2    1    0    1    0    2    0    0    0    0    1    1\n",
      "    0    1    3    7    0    0   42    4    0    1    2    3    1    0\n",
      "    1    3    2    0    0    4    0    0    0    4    2    0    0    8\n",
      "    2    0    1   15    0    0]\n"
     ]
    }
   ],
   "source": [
    "# now, to test the space, you can print vector representation for some words\n",
    "print('house:', space_1k['house'])"
   ]
  },
  {
   "cell_type": "markdown",
   "metadata": {},
   "source": [
    "Oxford Advanced Dictionary has 185,000 words, hence 1,000 words is not representative. We trained a model with 10,000 words, and 50 dimensions on truncated SVD. It took 40 minutes on a laptop. We saved all three matrices [here](https://linux.dobnik.net/cloud/index.php/s/isMBj49jt5renYt?path=%2Fresources%2Fa2-distributional-representations) (pretrained.zip). Download them and unpack them to a `pretrained` folder which should be a subfolder of the folder with this notebook:"
   ]
  },
  {
   "cell_type": "code",
   "execution_count": 14,
   "metadata": {},
   "outputs": [
    {
     "name": "stdout",
     "output_type": "stream",
     "text": [
      "Please wait...\n",
      "Done.\n"
     ]
    }
   ],
   "source": [
    "import numpy as np\n",
    "\n",
    "numdims = 10000\n",
    "svddim = 50\n",
    "\n",
    "print('Please wait...')\n",
    "ktw_10k       = np.load('./pretrained/ktw_wikipediaktw.npy', allow_pickle=True)\n",
    "space_10k     = np.load('./pretrained/raw_wikipediaktw.npy', allow_pickle=True).all()\n",
    "ppmispace_10k = np.load('./pretrained/ppmi_wikipediaktw.npy', allow_pickle=True).all()\n",
    "svdspace_10k  = np.load('./pretrained/svd50_wikipedia10k.npy', allow_pickle=True).all()\n",
    "print('Done.')\n"
   ]
  },
  {
   "cell_type": "code",
   "execution_count": 43,
   "metadata": {},
   "outputs": [
    {
     "name": "stdout",
     "output_type": "stream",
     "text": [
      "house: 10000\n"
     ]
    }
   ],
   "source": [
    "# testing semantic space\n",
    "print('house:', space_10k['house'])"
   ]
  },
  {
   "cell_type": "markdown",
   "metadata": {},
   "source": [
    "## 3. Testing semantic similarity\n",
    "\n",
    "The file `similarity_judgements.txt` (a copy is included with this notebook) contains 7,576 pairs of words and their lexical and visual similarities (based on the pictures) collected through crowd-sourcing using Mechanical Turk as described in [1]. The score range from 1 (highly dissimilar) to 5 (highly similar). Note: this is a different dataset from the phrase similarity dataset we discussed during the lecture (the one from [2]). For more information, please read the papers.\n",
    "\n",
    "The following code will transform similarity scores into a Python-friendly format:"
   ]
  },
  {
   "cell_type": "code",
   "execution_count": 17,
   "metadata": {},
   "outputs": [
    {
     "name": "stdout",
     "output_type": "stream",
     "text": [
      "number of available words to test: 12\n",
      "number of available word pairs to test: 774\n"
     ]
    }
   ],
   "source": [
    "word_pairs = [] # test suit word pairs\n",
    "semantic_similarity = [] \n",
    "visual_similarity = []\n",
    "test_vocab = set()\n",
    "\n",
    "for index, line in enumerate(open('similarity_judgements.txt')):\n",
    "    data = line.strip().split('\\t')\n",
    "    if index > 0 and len(data) == 3:\n",
    "        w1, w2 = tuple(data[0].split('#'))\n",
    "        # it will check if both words from each pair exist in the word matrix.\n",
    "        if w1 in ktw_10k and w2 in ktw_10k:\n",
    "            word_pairs.append((w1, w2))\n",
    "            test_vocab.update([w1, w2])\n",
    "            semantic_similarity.append(float(data[1]))\n",
    "            visual_similarity.append(float(data[2]))\n",
    "        \n",
    "print('number of available words to test:', len(test_vocab-(test_vocab-set(ktw))))\n",
    "print('number of available word pairs to test:', len(word_pairs))\n",
    "#list(zip(word_pairs, visual_similarity, semantic_similarity))"
   ]
  },
  {
   "cell_type": "markdown",
   "metadata": {},
   "source": [
    "Now we are going to test how the cosine similarity between vectors of each of the three spaces (normal space, ppmi, svd) compares with the human similarity judgements for the words in the similarity dataset. Which of the three spaces best approximates human judgements?\n",
    "\n",
    "For comparison of several scores, we can use [Spearman correlation coefficient](https://en.wikipedia.org/wiki/Spearman's_rank_correlation_coefficient) which is implemented in `scipy.stats.spearmanr` [here](https://docs.scipy.org/doc/scipy-0.19.0/reference/generated/scipy.stats.spearmanr.html). The values of the Sperman correlation coefficient range from -1, 0 to 1, where 0 indicates no correlation, 1 perfect correaltion and -1 negative correlation. Hence, the greater the number the better the similarity scores align. The p values tells us if the coefficient is statistically significant. For this to be the case, it must be less than or equal to $< 0.05$.\n",
    "\n",
    "Here is how you can calculate Pearson's correlation coefficient betweeen the scores of visual similarity and semantic similarity of the available words in the test suite:"
   ]
  },
  {
   "cell_type": "code",
   "execution_count": 19,
   "metadata": {},
   "outputs": [
    {
     "name": "stdout",
     "output_type": "stream",
     "text": [
      "Visual Similarity vs. Semantic Similarity:\n",
      "rho     = 0.7122\n",
      "p-value = 0.0000\n"
     ]
    }
   ],
   "source": [
    "from scipy import stats\n",
    "\n",
    "rho, pval = stats.spearmanr(semantic_similarity, visual_similarity)\n",
    "print(\"\"\"Visual Similarity vs. Semantic Similarity:\n",
    "rho     = {:.4f}\n",
    "p-value = {:.4f}\"\"\".format(rho, pval))\n"
   ]
  },
  {
   "cell_type": "markdown",
   "metadata": {},
   "source": [
    "Let's now calculate the cosine similarity scores of all word pairs in an ordered list using all three matrices. **[6 marks]**"
   ]
  },
  {
   "cell_type": "code",
   "execution_count": 20,
   "metadata": {},
   "outputs": [],
   "source": [
    "from scipy.spatial.distance import cosine\n",
    "\n",
    "raw_similarities  = [1-cosine(space_10k[w1],space_10k[w2]) for w1, w2 in word_pairs]\n",
    "ppmi_similarities = [1-cosine(ppmispace_10k[w1],ppmispace_10k[w2]) for w1, w2 in word_pairs]\n",
    "svd_similarities  = [1-cosine(svdspace_10k[w1],svdspace_10k[w2]) for w1, w2 in word_pairs]"
   ]
  },
  {
   "cell_type": "markdown",
   "metadata": {},
   "source": [
    "Now, calculate correlation coefficients between lists of similarity scores and the real semantic similarity scores from the experiment. The scores of what model best correlates them? Is this expected? **[6 marks]**"
   ]
  },
  {
   "cell_type": "code",
   "execution_count": 21,
   "metadata": {},
   "outputs": [
    {
     "name": "stdout",
     "output_type": "stream",
     "text": [
      "Semantic Similarity vs. Raw Similarity:\n",
      "rho     = 0.1522\n",
      "p-value = 0.0000\n",
      "Semantic Similarity vs. PPMI Similarity:\n",
      "rho     = 0.4547\n",
      "p-value = 0.0000\n",
      "Semantic Similarity vs. SVD Similarity:\n",
      "rho     = 0.4232\n",
      "p-value = 0.0000\n"
     ]
    }
   ],
   "source": [
    "rho, pval = stats.spearmanr(semantic_similarity, raw_similarities)\n",
    "print(\"\"\"Semantic Similarity vs. Raw Similarity:\n",
    "rho     = {:.4f}\n",
    "p-value = {:.4f}\"\"\".format(rho, pval))\n",
    "\n",
    "rho, pval = stats.spearmanr(semantic_similarity, ppmi_similarities)\n",
    "print(\"\"\"Semantic Similarity vs. PPMI Similarity:\n",
    "rho     = {:.4f}\n",
    "p-value = {:.4f}\"\"\".format(rho, pval))\n",
    "\n",
    "rho, pval = stats.spearmanr(semantic_similarity, svd_similarities)\n",
    "print(\"\"\"Semantic Similarity vs. SVD Similarity:\n",
    "rho     = {:.4f}\n",
    "p-value = {:.4f}\"\"\".format(rho, pval))"
   ]
  },
  {
   "cell_type": "markdown",
   "metadata": {},
   "source": [
    "**Your answer should go here:**"
   ]
  },
  {
   "cell_type": "markdown",
   "metadata": {},
   "source": [
    "The strongest correlations against semantic similarity were PPMI and SVD similarities (PPMI the highest at ~0.45). These correlations were positive, indicating that a stronger visual similarity indicates a higher semantic similarity, which is what we would expect, as it is exactly that which we are predicting. "
   ]
  },
  {
   "cell_type": "markdown",
   "metadata": {},
   "source": [
    "We can also calculate correlation coefficients between lists of cosine similarity scores and the real visual similarity scores from the experiment. Which similarity model best correlates with them? How do the correlation coefficients compare with those from the previous comparison - and can you speculate why do we get such results? **[7 marks]**"
   ]
  },
  {
   "cell_type": "code",
   "execution_count": 22,
   "metadata": {},
   "outputs": [
    {
     "name": "stdout",
     "output_type": "stream",
     "text": [
      "Visual Similarity vs. Raw Similarity:\n",
      "rho     = 0.1212\n",
      "p-value = 0.0007\n",
      "Visual Similarity vs. PPMI Similarity:\n",
      "rho     = 0.3838\n",
      "p-value = 0.0000\n",
      "Visual Similarity vs. SVD Similarity:\n",
      "rho     = 0.3097\n",
      "p-value = 0.0000\n"
     ]
    }
   ],
   "source": [
    "rho, pval = stats.spearmanr(visual_similarity, raw_similarities)\n",
    "print(\"\"\"Visual Similarity vs. Raw Similarity:\n",
    "rho     = {:.4f}\n",
    "p-value = {:.4f}\"\"\".format(rho, pval))\n",
    "\n",
    "rho, pval = stats.spearmanr(visual_similarity, ppmi_similarities)\n",
    "print(\"\"\"Visual Similarity vs. PPMI Similarity:\n",
    "rho     = {:.4f}\n",
    "p-value = {:.4f}\"\"\".format(rho, pval))\n",
    "\n",
    "rho, pval = stats.spearmanr(visual_similarity, svd_similarities)\n",
    "print(\"\"\"Visual Similarity vs. SVD Similarity:\n",
    "rho     = {:.4f}\n",
    "p-value = {:.4f}\"\"\".format(rho, pval))\n",
    "\n"
   ]
  },
  {
   "cell_type": "markdown",
   "metadata": {},
   "source": [
    "**Your answer should go here:**"
   ]
  },
  {
   "cell_type": "markdown",
   "metadata": {},
   "source": [
    "The PPMI similarity correlates the most with visual similarity. The measures are all positive, so this is evidence that a higher visual similarity correlates more strongly with a semantic similarity. "
   ]
  },
  {
   "cell_type": "markdown",
   "metadata": {},
   "source": [
    "## 4. Operations on similarities"
   ]
  },
  {
   "cell_type": "markdown",
   "metadata": {},
   "source": [
    "We can perform mathematical operations on vectors to derive meaning predictions. For example, we can subtract the normalised vectors for `king` minus `queen` and add the resulting vector to `man` and we hope to get the vector for `woman`. Why? **[3 marks]**"
   ]
  },
  {
   "cell_type": "markdown",
   "metadata": {},
   "source": [
    "We know in advance that the primary difference between a king and a queen (in terms of real entities) is gender. We can attempt to capture this semantic information in the vector space literally by taking the difference between the vectors of the two entities. \n",
    "\n",
    "Thus we hope that (king-queen) gives us the mapping from king to queen in the vector space, where our key assumption is that the mapping IS the gender difference. \n",
    "\n",
    "If we have a vector as the semantic representation of gender, which can map between similar types of entities/nouns which only differ in gender, then ((king-queen)+man) should approximate (woman), if the respective differences between king and queen, and men and women are their gender. "
   ]
  },
  {
   "cell_type": "markdown",
   "metadata": {},
   "source": [
    "**Your answer should go here:**"
   ]
  },
  {
   "cell_type": "markdown",
   "metadata": {},
   "source": [
    "Here is some helpful code that allows us to calculate such comparisons."
   ]
  },
  {
   "cell_type": "code",
   "execution_count": 23,
   "metadata": {},
   "outputs": [],
   "source": [
    "from scipy.spatial import distance\n",
    "\n",
    "def normalize(vec):\n",
    "    return vec / veclen(vec)\n",
    "\n",
    "def find_similar_to(vec1, space):\n",
    "    # vector similarity funciton\n",
    "    #sim_fn = lambda a, b: 1-distance.euclidean(normalize(a), normalize(b))\n",
    "    #sim_fn = lambda a, b: 1-distance.correlation(a, b)\n",
    "    #sim_fn = lambda a, b: 1-distance.cityblock(normalize(a), normalize(b))\n",
    "    #sim_fn = lambda a, b: 1-distance.chebyshev(normalize(a), normalize(b))\n",
    "    #sim_fn = lambda a, b: np.dot(normalize(a), normalize(b))\n",
    "    sim_fn = lambda a, b: 1-distance.cosine(a, b)\n",
    "\n",
    "    sims = [\n",
    "        (word2, sim_fn(vec1, space[word2]))\n",
    "        for word2 in space.keys()\n",
    "    ]\n",
    "    return sorted(sims, key = lambda p:p[1], reverse=True)"
   ]
  },
  {
   "cell_type": "markdown",
   "metadata": {},
   "source": [
    "Here is how you apply this code. Comment on the results you get. **[3 marks]**"
   ]
  },
  {
   "cell_type": "code",
   "execution_count": 40,
   "metadata": {},
   "outputs": [
    {
     "data": {
      "text/plain": [
       "[('suit', 0.9416501644222036),\n",
       " ('suits', 0.8511995979510889),\n",
       " ('trademark', 0.7799054556696589),\n",
       " ('costume', 0.7650391997980102),\n",
       " ('holder', 0.7605134204463706),\n",
       " ('owners', 0.7565212650600517),\n",
       " ('stamp', 0.749830644173649),\n",
       " ('contract', 0.7466969582149255),\n",
       " ('ballot', 0.7447614655933226),\n",
       " ('dress', 0.7425159418166167)]"
      ]
     },
     "execution_count": 40,
     "metadata": {},
     "output_type": "execute_result"
    }
   ],
   "source": [
    "short = normalize(svdspace_10k['short'])\n",
    "light = normalize(svdspace_10k['light'])\n",
    "long = normalize(svdspace_10k['long'])\n",
    "man = normalize(svdspace_10k['man'])\n",
    "woman = normalize(svdspace_10k['woman'])\n",
    "suit = normalize(svdspace_10k['suit'])\n",
    "dress = normalize(svdspace_10k['dress'])\n",
    "\n",
    "find_similar_to(woman-man + suit, svdspace_10k)[:10]"
   ]
  },
  {
   "cell_type": "markdown",
   "metadata": {},
   "source": [
    "**Your answer should go here:**"
   ]
  },
  {
   "cell_type": "markdown",
   "metadata": {},
   "source": [
    "The results we get are a bit surprising here; they seem a bit random. In this example, we're effectively adding the difference between 'light' and 'heavy' to 'long'. At best we could say that we are adding the difference between something 'light' or 'heavy' to the concept of something that is 'long'. In other words, we're adding the concept of a difference in scale to the concept 'long'. "
   ]
  },
  {
   "cell_type": "markdown",
   "metadata": {},
   "source": [
    "Find 5 similar pairs of pairs of words and test them. Hint: Google for `word analogies examples`. You can also construct analogies that are less lexical but more grammatical, e.g. `see, saw, leave, ?` or analogies that are based on world knowledge as in the [Google analogy dataset](http://download.tensorflow.org/data/questions-words.txt) from [3]. Does the resulting vector similarity confirm your expectations? But remember you can only do this if the words are contained in our vector space with 10,000 dimensions. **[10 marks]**"
   ]
  },
  {
   "cell_type": "code",
   "execution_count": null,
   "metadata": {},
   "outputs": [],
   "source": [
    "# Your code should go here..."
   ]
  },
  {
   "cell_type": "markdown",
   "metadata": {},
   "source": [
    "## 5. Semantic composition and phrase similarity **[20 marks]**\n",
    "\n",
    "In this task, we are going to look at how different semantic composition models, introduced in [2] correlate with human judgements. The file with the dataset is `mitchell_lapata_acl08.txt` included with this notebook. Your task is to do the following:  \n",
    "\n",
    "(i) process the dataset, extract pairs of `reference - landmark high` and `reference - landmark low`; you can use the code from the lecture as something to start with. Note that there are 2 landmarks for each reference: one landmark exhibits high similarity with the reference, while another one has low similarity with the reference. A single human participant could have evaluated both of these pairs. For more details, we refer you to the paper.  \n",
    "\n",
    "(ii) build models of semantic phrase composition: in the lecture we introduced simple additive, simple multiplicative and combined models (details are in [2]). Your task is to take a single pair (a reference or a high similarity landmark or a low similarity landmark) and compute the composition of its vectors using each of these functions. Thus, you will have three compositional models that take a `noun - verb` pair and output a single vector, representing the meaning of this pair. As your semantic space, you can use pretrained spaces (standard space, ppmi or svd) introduced above. It is up to you which space you use, but for someone who runs your code, it should be pretty straightforward to switch between them.\n",
    "\n",
    "(iii) calculate Spearman correlation between each model's predictions and human judgements; you should have something similar to the scores that are shown in the paper [2]:  "
   ]
  },
  {
   "cell_type": "markdown",
   "metadata": {},
   "source": [
    "![title](./res.png)"
   ]
  },
  {
   "cell_type": "markdown",
   "metadata": {},
   "source": [
    "The paper states that they calculated correlations between each individual participant's judgeements and each model's predictions.  \n",
    "\n",
    "Let's say we have 3 models: simple additive (A), simple multiplicative (M), combined (C).  \n",
    "From our task dataset, we also know that we have 20 participants.  \n",
    "Now, for each participant in 20 participants we get all `verb - noun` pairs that these participated evaluated.  \n",
    "For example:"
   ]
  },
  {
   "cell_type": "code",
   "execution_count": 25,
   "metadata": {},
   "outputs": [],
   "source": [
    "participant_judgemenets_example = [\n",
    " 'participant50 chatter child gabble 6 high',\n",
    " 'participant50 chatter tooth click 2 high',\n",
    " 'participant50 reel head whirl 5 high',\n",
    " 'participant50 reel mind stagger 4 low',\n",
    " 'participant50 reel industry stagger 5 high',\n",
    " 'participant50 reel man whirl 3 low',\n",
    " 'participant50 glow fire beam 7 low',\n",
    " 'participant50 glow face burn 3 low',\n",
    " 'participant50 glow cigar burn 5 high',\n",
    " 'participant50 glow skin beam 7 high'\n",
    "    \n",
    "]"
   ]
  },
  {
   "cell_type": "code",
   "execution_count": 26,
   "metadata": {},
   "outputs": [
    {
     "data": {
      "text/plain": [
       "['participant50 chatter child gabble 6 high',\n",
       " 'participant50 chatter tooth click 2 high',\n",
       " 'participant50 reel head whirl 5 high',\n",
       " 'participant50 reel mind stagger 4 low',\n",
       " 'participant50 reel industry stagger 5 high',\n",
       " 'participant50 reel man whirl 3 low',\n",
       " 'participant50 glow fire beam 7 low',\n",
       " 'participant50 glow face burn 3 low',\n",
       " 'participant50 glow cigar burn 5 high',\n",
       " 'participant50 glow skin beam 7 high']"
      ]
     },
     "execution_count": 26,
     "metadata": {},
     "output_type": "execute_result"
    }
   ],
   "source": [
    "participant_judgemenets_example"
   ]
  },
  {
   "cell_type": "markdown",
   "metadata": {},
   "source": [
    "Let's look at the first pair that participant50 evaluated: reference `child chatter` and high-level similarity landmark (as the last word in the row indicates) `child gabble`. The human gave the similarity score of 6 (very similar). Thus, human similarity judgment = [6].  \n",
    "\n",
    "Our A model's output:  \n",
    "cosine(p1, p2) = 0.88, where p1 is the result of addition of word vectors in the reference phrase `child gabble`, and p2 is the result of addition of word vectors in the high-level similarity phrase `child chatter`.  \n",
    "\n",
    "Therefore, we have human rating vector [6] and model A output [0.88]. Next is to compute correlation between these two vectors.\n",
    "\n",
    "To get an overall score, simply average your correlation scores over all participants, since you are calculating correlation scores per participant.\n",
    "\n",
    "Of course, your human rating vectors will be longer (e.g., [6, 7, 3, 4, 5]) where each element is a participant's judgement of a specific pair. Each of your models (A, B, C) will produce a single vector of cosine similarity between these same pairs (e.g., [0.89, 0.98, 0.23, 0.65, 0.55]). The goal is to compare each model's cosine similarity vectors with human rating vectors and identify the model which outputs the best result in terms of being the closest to the way human rate similarity between the phrases.\n",
    "\n",
    "The minimum to do in this task: compute correlations for 3 models mentioned above and human rating for AT LEAST one participant. Elaborate on how different the resulting correlation scores are depending on the model's composition function (additive, multiplicative, combined). For examples on how to interpret the results, look at Section 5 Results of the original paper."
   ]
  },
  {
   "cell_type": "code",
   "execution_count": 46,
   "metadata": {},
   "outputs": [
    {
     "name": "stdout",
     "output_type": "stream",
     "text": [
      "[[array([0., 0., 0., ..., 0., 0., 0.]), array([0., 0., 0., ..., 0., 0., 0.])], [array([0., 0., 0., ..., 0., 0., 0.]), array([0., 0., 0., ..., 0., 0., 0.])], [array([0., 0., 0., ..., 0., 0., 0.]), array([0., 0., 0., ..., 0., 0., 0.])], [array([0., 0., 0., ..., 0., 0., 0.]), array([0., 0., 0., ..., 0., 0., 0.])], [array([0., 0., 0., ..., 0., 0., 0.]), array([0., 0., 0., ..., 0., 0., 0.])], [array([0., 0., 0., ..., 0., 0., 0.]), array([0., 0., 0., ..., 0., 0., 0.])], [array([0., 0., 0., ..., 0., 0., 0.]), array([0., 0., 0., ..., 0., 0., 0.])], [array([0., 0., 0., ..., 0., 0., 0.]), array([0., 0., 0., ..., 0., 0., 0.])], [array([0., 0., 0., ..., 0., 0., 0.]), array([ 1.34381769e+02,  6.59760728e+00, -3.50515637e-01,  2.27070551e+01,\n",
      "        1.19961337e+00,  3.97988372e-01, -2.87620688e+00,  2.82588423e+00,\n",
      "        3.79499596e+00,  5.63772392e+00, -1.01477417e+01, -7.00441479e+00,\n",
      "        1.58388362e+01,  2.67080090e+00,  1.47403435e+00,  7.99374633e-02,\n",
      "        1.14722997e+00, -5.28576016e-02, -5.40060288e-01, -1.04157200e-01,\n",
      "       -1.13038588e+00, -8.95427945e+00,  6.29200005e-01,  1.07203554e+00,\n",
      "       -1.49266334e-01, -3.77612264e-01, -2.49147055e-01, -1.38081731e+00,\n",
      "        4.96035016e-03, -1.71630415e-01, -2.43744152e-01,  2.29994274e-01,\n",
      "        1.62194620e-01,  3.10959323e-01, -4.79084033e+00,  1.12951490e+00,\n",
      "        5.11484067e-01, -1.99867806e+00, -1.75715356e+00, -1.51781551e+00,\n",
      "        3.74934512e-01, -2.86565549e-01,  1.49134728e-01, -9.15164438e-01,\n",
      "       -7.44582212e-01, -9.29584861e-02, -3.95232241e-01,  2.48871100e+00,\n",
      "        1.16884554e+00,  5.61008410e-01])], [array([0., 0., 0., ..., 0., 0., 0.]), array([0., 0., 0., ..., 0., 0., 0.])], [array([0., 0., 0., ..., 0., 0., 0.]), array([ 1.15544220e+02, -1.05756462e+00,  2.51239750e+00, -4.60435421e-01,\n",
      "       -2.66659583e+00, -3.85069835e-01, -4.62070833e+00, -8.17858860e-03,\n",
      "       -7.67615522e-01,  2.81197155e+00,  4.72870398e+00, -6.33564335e+00,\n",
      "       -5.72717947e+00, -4.76588115e-01,  2.47147556e-01,  1.40530496e-02,\n",
      "        1.13893384e+00, -2.67442730e-01,  1.96360299e+00,  9.96462972e-02,\n",
      "       -1.58225260e+00,  1.62037130e+00, -1.24243018e+00, -1.72641697e-02,\n",
      "        5.21091479e+00, -6.34187413e-03,  6.30456667e-01, -1.97971652e+00,\n",
      "        1.25220082e-01, -7.96024898e-01, -1.67508367e+00, -2.13651684e+00,\n",
      "        1.00211768e-01, -3.67121095e-01,  1.47961478e-01, -8.72470676e-01,\n",
      "       -9.69126710e-01, -1.46506832e+00, -4.18198230e-01, -4.84671070e-01,\n",
      "        5.16112082e-01, -1.93330893e-01,  3.54689453e-01,  3.74326528e-01,\n",
      "        1.55263864e+00, -3.86884589e-01, -1.99640878e-01,  4.58618425e+00,\n",
      "        3.70946641e+00,  9.04530157e-01])], [array([0., 0., 0., ..., 0., 0., 0.]), array([0., 0., 0., ..., 0., 0., 0.])], [array([0., 0., 0., ..., 0., 0., 0.]), array([0., 0., 0., ..., 0., 0., 0.])], [array([0., 0., 0., ..., 0., 0., 0.]), array([ 1.57767517e+02, -4.20277995e+00,  1.11015147e+00, -1.81285164e+01,\n",
      "        1.13087784e+01,  5.74390429e+00, -2.07978195e+00,  2.68033611e+00,\n",
      "       -6.89425123e-02,  2.66477261e+00, -1.67745194e-01, -6.44730582e-01,\n",
      "        5.61449590e+00,  2.37503444e+00, -7.26310296e-02,  2.94314226e-01,\n",
      "        1.40250128e+00,  1.60983295e+01, -1.26977775e-01, -2.21633373e+00,\n",
      "       -3.74056386e-01, -1.94605371e-02, -2.25359200e-01,  6.77054189e-01,\n",
      "       -3.80710699e-01,  5.51038391e+00, -1.76596140e+00, -4.95681886e-02,\n",
      "        2.07095881e-01, -4.63386234e-01,  7.65460453e+00,  1.38197870e+01,\n",
      "       -7.22246387e-01,  8.14408404e-01,  2.58620994e-01, -8.80138676e-01,\n",
      "       -1.63705513e+00, -4.01480013e+00,  1.15536838e+00, -7.24849937e-01,\n",
      "        5.05477505e+00, -1.02532114e+00,  4.02493469e+00, -1.52596679e+00,\n",
      "        5.92788599e-02, -9.36325306e-01,  9.94537758e-01,  5.70653464e-01,\n",
      "       -4.85213542e-01,  4.29631048e+00])], [array([0., 0., 0., ..., 0., 0., 0.]), array([0., 0., 0., ..., 0., 0., 0.])], [array([0., 0., 0., ..., 0., 0., 0.]), array([0., 0., 0., ..., 0., 0., 0.])], [array([0., 0., 0., ..., 0., 0., 0.]), array([0., 0., 0., ..., 0., 0., 0.])], [array([0., 0., 0., ..., 0., 0., 0.]), array([0., 0., 0., ..., 0., 0., 0.])], [array([0., 0., 0., ..., 0., 0., 0.]), array([0., 0., 0., ..., 0., 0., 0.])], [array([0., 0., 0., ..., 0., 0., 0.]), array([0., 0., 0., ..., 0., 0., 0.])], [array([0., 0., 0., ..., 0., 0., 0.]), array([0., 0., 0., ..., 0., 0., 0.])], [array([0., 0., 0., ..., 0., 0., 0.]), array([0., 0., 0., ..., 0., 0., 0.])], [array([0., 0., 0., ..., 0., 0., 0.]), array([0., 0., 0., ..., 0., 0., 0.])], [array([0., 0., 0., ..., 0., 0., 0.]), array([ 1.30017571e+02, -1.15918086e+01,  6.77216003e+00, -2.26384346e+00,\n",
      "       -4.27403698e+00,  2.48447145e+01, -1.79486892e+01, -3.40916462e+00,\n",
      "        7.07128957e+00,  1.13976273e+00, -2.96460734e+00, -1.76464393e+01,\n",
      "        7.22605556e-01,  1.88331980e+00, -7.70228884e-01,  1.48845362e+00,\n",
      "        1.51978845e+00, -2.90503409e+00, -4.28892025e-02,  1.70775288e+00,\n",
      "        3.43006274e+00,  6.21071359e-01,  5.34585272e-01, -1.38466839e+00,\n",
      "       -1.13560135e-02,  1.04270670e+00,  4.76403458e-01, -5.22192009e+00,\n",
      "        3.71249940e-01, -4.97409326e-02, -9.56575604e-02,  2.78760021e-01,\n",
      "       -2.11580841e+00, -5.31460896e-02, -9.15767975e-01,  2.33719871e-01,\n",
      "        1.14884020e+00, -2.49105137e-02,  9.73787492e-01,  2.25638733e+00,\n",
      "       -7.76478625e-01,  1.61338529e+00, -6.89876104e-01, -1.13947550e-01,\n",
      "        3.67302564e+00,  5.17444562e+00,  1.54569642e+00, -8.56535579e-02,\n",
      "       -6.57611172e-01,  9.24158046e-01])], [array([0., 0., 0., ..., 0., 0., 0.]), array([0., 0., 0., ..., 0., 0., 0.])], [array([0., 0., 0., ..., 0., 0., 0.]), array([0., 0., 0., ..., 0., 0., 0.])], [array([0., 0., 0., ..., 0., 0., 0.]), array([ 1.80274151e+02,  2.99847557e+01, -3.45519114e-01, -1.03875479e+01,\n",
      "       -1.28608742e+00,  7.98219553e+00,  1.95386086e+00,  1.63714838e+00,\n",
      "       -4.70499242e-01, -9.05355675e-01,  7.47696670e+00,  3.29698971e+00,\n",
      "        1.08416153e+01,  1.74938291e+00,  1.08520422e+00,  9.92337199e+00,\n",
      "        7.68143365e+00, -1.04504025e+01,  5.29390990e+00,  5.51856168e+00,\n",
      "        2.89558504e+00, -1.67582980e+00, -8.06806808e-01, -7.25985750e-01,\n",
      "        2.10210059e+00, -2.58773802e+00,  1.71469682e+00, -3.51266680e-01,\n",
      "        9.63613604e+00, -1.67842140e-02, -9.42656520e-01, -6.15400854e+00,\n",
      "       -4.07315349e-01, -9.96868229e-02, -1.39593972e+00,  5.08711753e+00,\n",
      "       -2.28474540e+00, -1.11754508e-01, -3.74064656e+00,  5.97966684e+00,\n",
      "        7.98257493e-01,  1.36053299e+00, -1.50016578e+00,  2.98218044e+00,\n",
      "       -1.20282370e+00, -9.73101020e-01,  1.73691958e+00,  4.91692466e-02,\n",
      "       -6.70621011e-01,  1.86073874e+00])], [array([0., 0., 0., ..., 0., 0., 0.]), array([ 2.05445183e+02, -7.21466350e+00, -4.62746188e+00, -7.14920074e+00,\n",
      "        1.08970070e+01, -1.88537312e+00, -1.20500158e+01, -2.79394420e+00,\n",
      "        5.57039943e-01,  1.12567495e-01,  4.54902467e+00,  5.01799843e+00,\n",
      "        7.69302286e+00,  1.34672952e+00,  1.98261063e+00,  2.26515547e+00,\n",
      "       -1.19646219e+01,  2.95557992e+00,  4.48659256e+00,  7.78574673e+00,\n",
      "       -1.25935107e+01,  3.98706755e+00, -1.09387705e+00, -1.83697043e+00,\n",
      "       -2.29815770e-01, -4.58096740e-01, -2.75087791e+00, -1.27278213e+01,\n",
      "       -3.06774281e+00,  2.83864624e-01,  5.63515513e-02, -2.25734307e+00,\n",
      "       -2.63969602e-01, -1.03131652e-02, -2.21498059e+00, -3.11971456e-01,\n",
      "        5.21383948e-02, -1.80348409e-01,  1.69313965e+00, -5.25995733e+00,\n",
      "        2.46653492e+00, -7.90320665e-02, -1.16365275e+00, -2.33109180e+00,\n",
      "       -2.43248914e+00,  1.69800491e-01, -2.51561004e-01,  4.71865967e+00,\n",
      "       -7.40116341e-03, -3.66051378e+00])], [array([ 9.35055078e+01, -9.18936302e+00, -7.25891576e+00,  1.19910208e+00,\n",
      "       -5.79828913e+00,  1.50667018e+01,  5.16365231e+00,  2.89986846e+00,\n",
      "       -9.36536868e+00,  3.88257193e+00, -1.29493420e-01,  1.24956837e-01,\n",
      "        1.09078570e+00, -1.94254745e+00,  3.68788156e+00,  1.74228278e+00,\n",
      "       -1.10987279e+00,  7.93351295e-01,  2.37764274e-01,  3.95380401e-01,\n",
      "       -4.88175393e-01, -5.28141626e-01,  5.20659832e+00, -2.28567486e-01,\n",
      "        5.83967075e-01,  5.60320106e-01, -4.20089871e+00, -1.72433181e-01,\n",
      "        7.44122555e-01,  6.44604800e-01, -3.14561524e-02, -4.62113842e+00,\n",
      "       -4.04064668e-01, -3.21463639e+00, -1.92829960e+00, -3.07510877e-01,\n",
      "        2.39064214e-01,  1.02580622e-01, -7.33171857e-01, -6.33473209e-01,\n",
      "       -3.20329107e-01, -4.56003100e-03,  1.91853986e-01, -2.36730733e-01,\n",
      "       -9.42597230e-01, -1.78689252e-01, -4.10265588e+00,  1.00448009e+00,\n",
      "        2.09130244e+00, -2.14776455e-02]), array([ 8.28647460e+01, -2.74080806e+01,  1.29715489e+01, -1.31701475e+00,\n",
      "       -3.97382003e+00, -8.55969591e+00,  3.08827311e+00,  2.27785657e+00,\n",
      "        4.08429029e+00, -1.54035551e+01,  6.99495694e+00, -2.28401642e+00,\n",
      "        7.24166271e+00,  1.69250549e+00, -2.06371918e-01,  3.63772238e+00,\n",
      "        4.80359525e-01,  4.15109931e-02, -4.09204338e-01,  1.35892849e+00,\n",
      "        2.16303261e-01,  3.20799407e+00,  2.60054567e+00,  5.05484037e-01,\n",
      "        3.55580701e-01,  4.66824054e-01,  3.37125769e+00, -6.15412987e-01,\n",
      "        1.22110366e+00, -5.94235114e-01, -1.25635146e+00,  1.02290212e+00,\n",
      "       -1.77444299e-01, -1.80187234e+00, -6.52166236e-01,  2.33851436e-01,\n",
      "        1.05935094e-01,  1.03930845e-01, -3.41726883e-01,  5.75280128e-01,\n",
      "        3.27997215e-02,  2.09922032e-01, -1.53869235e-01, -4.39669034e-01,\n",
      "       -1.98415897e+00,  1.16340621e-01, -1.17310473e+00, -3.10639001e-01,\n",
      "        1.77227607e+00, -3.08513107e-02])], [array([ 2.30040486e+02, -2.21429994e+00,  4.08137620e+00, -1.08445266e+00,\n",
      "       -4.17242853e+01,  3.64524787e+01, -1.51148660e+01,  1.17299403e+01,\n",
      "       -3.20006446e-01, -5.67963276e+00,  4.89638387e-02,  1.79111504e+00,\n",
      "        1.32537177e+00, -7.48927286e+00, -5.81729965e+00, -1.60213809e+00,\n",
      "       -1.44469224e+00, -8.81507966e+00, -8.81042586e-01,  2.70194825e+00,\n",
      "        1.54533782e+01,  2.56868400e+00,  1.94969828e+00,  1.23023218e+00,\n",
      "       -2.42795181e+00, -3.99396787e+00, -7.38080662e-01,  1.35738548e+00,\n",
      "       -4.98820966e+00, -1.65004262e-01,  7.79317399e-02, -1.17613748e+01,\n",
      "       -6.53980261e-01,  1.62130129e+00, -4.16205769e-01,  7.86397363e+00,\n",
      "       -2.85120994e+00,  8.51814556e+00,  9.06605618e-01, -1.25320120e+00,\n",
      "        3.92375178e+00,  2.84815614e-03, -3.49931003e-01, -9.89265271e-02,\n",
      "        8.20332623e-01, -4.53477857e-01,  1.06810064e+00, -4.98143423e+00,\n",
      "        1.47624473e+00,  1.09528997e+00]), array([ 2.03862285e+02, -6.60434363e+00, -7.29334417e+00,  1.19109138e+00,\n",
      "       -2.85954696e+01, -2.07093854e+01, -9.03988719e+00,  9.21390809e+00,\n",
      "        1.39556622e-01,  2.25331399e+01, -2.64492159e+00, -3.27387940e+01,\n",
      "        8.79906595e+00,  6.52526427e+00,  3.25533037e-01, -3.34511347e+00,\n",
      "        6.25271370e-01, -4.61236672e-01,  1.51631884e+00,  9.28663749e+00,\n",
      "       -6.84716221e+00, -1.56024874e+01,  9.73818050e-01, -2.72069637e+00,\n",
      "       -1.47839295e+00, -3.32752699e+00,  5.92316140e-01,  4.84450062e+00,\n",
      "       -8.18564233e+00,  1.52110760e-01,  3.11257568e+00,  2.60341372e+00,\n",
      "       -2.87194298e-01,  9.08773992e-01, -1.40764096e-01, -5.98028123e+00,\n",
      "       -1.26343959e+00,  8.63026615e+00,  4.22563290e-01,  1.13807773e+00,\n",
      "       -4.01767940e-01, -1.31115496e-01,  2.80648929e-01, -1.83731660e-01,\n",
      "        1.72679303e+00,  2.95249406e-01,  3.05410433e-01,  1.54052606e+00,\n",
      "        1.25104488e+00,  1.57331637e+00])], [array([ 1.45994502e+02, -2.37574972e+00, -2.29162016e+00,  2.29915090e+00,\n",
      "        2.00457842e+01,  2.16204634e+01, -9.34417147e+00,  3.01980783e+00,\n",
      "        6.14680099e-01,  1.31504042e+00,  7.08539834e-02,  7.59403926e-01,\n",
      "       -1.10550605e+00,  1.93376096e+00, -1.17289859e+00, -1.83222745e+00,\n",
      "        1.32454799e+00,  4.93302812e+00, -3.12204325e-01,  8.85049902e-01,\n",
      "        1.75145313e+01,  1.96007930e-01,  5.90239178e-01,  3.66245391e-01,\n",
      "        1.64739022e+00,  1.46591709e+00,  2.49603870e+00, -2.34550890e+00,\n",
      "        2.58802362e+00,  3.56036447e-02, -4.97585246e-02,  4.14037811e+00,\n",
      "        2.38511904e+00, -1.16318998e-01,  1.01526029e+00,  2.39742957e+00,\n",
      "       -1.06230621e+00,  6.19689176e+00, -5.05954809e-01, -3.65008166e-01,\n",
      "        6.00271770e+00, -5.72460708e-04,  5.60668584e-01,  8.84184701e-02,\n",
      "        7.11398703e-01, -1.12400025e+00,  1.09153278e+00, -1.59238586e+00,\n",
      "       -4.11619926e-01,  1.35579411e+00]), array([0., 0., 0., ..., 0., 0., 0.])], [array([ 1.99494139e+02,  1.69862900e-02,  2.63638408e+00, -3.46630150e+01,\n",
      "       -1.71648433e+01, -2.57448944e+00, -1.48762881e+01,  4.93870505e+00,\n",
      "       -2.60189465e+01, -1.75290545e+00,  2.54262897e-02,  2.00662435e+00,\n",
      "        8.83022432e-01,  1.28919108e-01, -1.36920805e+01, -8.58267533e-01,\n",
      "       -8.35979365e+00,  6.76003171e+00,  6.31544025e-01,  6.89771248e+00,\n",
      "        1.96273305e+01, -1.51913701e+00,  1.08511837e+01,  5.64596107e-01,\n",
      "        1.63887664e+00, -1.15907812e+00,  2.13485818e+00,  2.37530140e+00,\n",
      "        1.32148248e+00,  6.35517573e-01,  9.22971758e-02, -6.22959721e+00,\n",
      "       -2.95849938e+00, -1.73795186e+00,  1.87370510e+00, -1.81779410e+00,\n",
      "       -2.04572804e+00, -1.49250002e+00, -1.98385330e+00, -5.79774171e-01,\n",
      "        6.34393547e+00,  8.64921864e-03,  1.11276069e+00,  5.64637935e-02,\n",
      "        4.08067610e-01, -5.97256379e-01,  4.48596896e+00,  3.19092945e+00,\n",
      "        3.11060047e+00,  3.44088888e-02]), array([0., 0., 0., ..., 0., 0., 0.])], [array([0., 0., 0., ..., 0., 0., 0.]), array([0., 0., 0., ..., 0., 0., 0.])], [array([0., 0., 0., ..., 0., 0., 0.]), array([0., 0., 0., ..., 0., 0., 0.])], [array([0., 0., 0., ..., 0., 0., 0.]), array([0., 0., 0., ..., 0., 0., 0.])], [array([0., 0., 0., ..., 0., 0., 0.]), array([0., 0., 0., ..., 0., 0., 0.])], [array([0., 0., 0., ..., 0., 0., 0.]), array([0., 0., 0., ..., 0., 0., 0.])], [array([0., 0., 0., ..., 0., 0., 0.]), array([ 7.05643803e+01,  1.37212922e+00, -1.33539622e+00,  1.73562942e+00,\n",
      "        8.91046378e+00,  4.18705677e+00,  9.74530534e+00,  3.91002497e+00,\n",
      "       -4.98285563e-01,  4.21137491e+00, -8.31855450e+00,  3.11995426e-02,\n",
      "       -1.37857690e-01,  7.92508644e-01, -3.41327028e+00,  9.50934285e-02,\n",
      "        1.18021534e+01,  2.29804661e+00, -1.02531465e+00,  1.72510160e+00,\n",
      "       -4.28498473e-01,  2.03774113e-01, -1.39702996e-02, -4.91192268e-01,\n",
      "       -7.30257643e-02, -5.04927197e+00,  9.06068851e-01, -8.20618643e-01,\n",
      "       -8.66923433e-03,  4.53422807e-02,  3.44048694e-01,  3.85612538e+00,\n",
      "       -1.22647546e-01,  2.76233044e-01,  7.63262899e-01, -2.04970475e+00,\n",
      "        1.13565186e+00,  3.27162884e+00,  1.42940846e-01,  5.19693878e-01,\n",
      "       -4.05953242e-02,  4.04439989e-02,  1.07640790e+00,  8.73306111e-02,\n",
      "       -3.30321486e+00,  5.25825071e-01,  1.61432266e+00,  1.54541931e+00,\n",
      "       -4.44499457e-02, -2.77550646e-02])], [array([0., 0., 0., ..., 0., 0., 0.]), array([0., 0., 0., ..., 0., 0., 0.])], [array([0., 0., 0., ..., 0., 0., 0.]), array([ 1.03417060e+02,  3.92466009e+00,  6.22188211e-01,  2.83691363e+00,\n",
      "        4.01066487e+01,  2.18237585e+00, -5.35183513e+00,  3.01785462e+00,\n",
      "        2.01518673e+00,  3.04852343e-01, -6.62775348e-01, -6.64167128e+00,\n",
      "        5.39089037e-01,  3.79518660e+00, -6.25984973e-01, -1.85367784e-02,\n",
      "        4.85989839e+00,  3.60220799e+00,  1.93255941e-01,  6.27740925e+00,\n",
      "       -1.29037022e+00, -5.53818870e-01,  2.98560190e+00, -2.21635025e-01,\n",
      "       -8.67093957e-02,  3.32578888e+00, -3.84185144e-01, -6.09542243e-02,\n",
      "        4.52704867e-02,  1.28109046e-01, -1.83017871e-01,  7.60828396e+00,\n",
      "       -3.05593224e-02, -7.35301364e-02,  5.17722667e-02,  4.22623466e+00,\n",
      "        7.10816712e-01,  2.53082706e+00, -2.18946840e-01,  1.70147613e-01,\n",
      "        8.29673342e-01, -8.51484796e-03,  8.58991242e-01,  2.73345783e-01,\n",
      "        2.72560833e-01,  3.69818994e-01,  1.09368767e+00, -6.71594192e-01,\n",
      "       -1.40721650e-02, -6.75872599e-02])], [array([ 1.45765300e+02, -1.31218872e+00, -1.26248464e+00,  1.34504097e+01,\n",
      "        8.08572610e-02, -1.27078281e+00,  6.76255595e+00,  3.93694501e+00,\n",
      "        2.71080375e-01, -1.96253266e+00,  1.72754836e-01, -5.29143471e-02,\n",
      "        3.24747873e+01, -1.78332182e-02,  8.41709421e+00,  4.66205534e-01,\n",
      "       -8.79525760e-01, -2.23379637e+00,  5.81484558e-01, -1.41901235e+00,\n",
      "        2.53503620e+00,  5.72798225e+00,  4.03956116e+00, -4.41887974e-02,\n",
      "       -3.24476275e+00,  1.89249751e-01, -5.76557367e-01,  7.64067206e+00,\n",
      "       -5.28046195e+00, -3.33751555e-01, -7.99292525e-02,  3.76492705e+00,\n",
      "        2.85302349e+00,  2.80669700e-01,  2.18046864e+00, -2.14742811e+00,\n",
      "       -1.09657107e-01, -1.97820835e-03, -1.14856319e+00, -2.05060281e+00,\n",
      "        7.59400653e-01,  5.77611684e-01,  3.29587718e+00,  1.72307165e+00,\n",
      "       -6.61095539e+00, -8.17207842e-01,  1.25726572e+00,  6.38350680e+00,\n",
      "        1.01265722e+00, -1.76135948e+00]), array([0., 0., 0., ..., 0., 0., 0.])], [array([ 1.10243971e+02, -1.04241554e+00,  3.05514995e+00, -3.56273017e+00,\n",
      "        3.13971242e-01,  3.97080949e+00,  6.65692044e+00,  4.14059050e+00,\n",
      "       -1.09693542e+00,  5.22962226e+00, -5.40001590e-02, -1.38157928e+00,\n",
      "        1.45683421e+01,  2.89804605e-01,  1.93731524e+01, -5.88864312e-02,\n",
      "        3.36565619e+00,  6.80117834e+00,  3.93673277e+00,  2.66021573e+00,\n",
      "       -8.79529397e-01,  2.04402299e+00, -6.01070129e-01,  3.02160517e-01,\n",
      "        7.16678838e+00, -1.04042567e+00,  2.44281017e+00,  3.42038069e+00,\n",
      "        6.58089281e+00,  4.90590768e-01,  5.60351301e-02, -2.96769170e-01,\n",
      "        2.59811881e+00, -2.75543046e-01,  2.65551364e+00,  5.83495799e+00,\n",
      "        2.57277290e-02,  2.33308114e-03, -1.32529466e+00,  1.53073323e+00,\n",
      "        6.22196978e-01, -1.04159461e+00,  5.45181970e-01, -4.97713553e-01,\n",
      "        1.51975617e+00, -1.04440728e-01,  8.65004383e-01,  1.95891045e+00,\n",
      "        1.42735048e-01,  1.05831994e+00]), array([0., 0., 0., ..., 0., 0., 0.])], [array([ 1.17357657e+02, -3.82644725e-01,  2.23304025e+00, -1.90905846e+00,\n",
      "        8.36303235e-02,  7.89691608e-01,  4.59708467e+00,  3.46074678e+00,\n",
      "        5.72425394e-02,  1.02921547e+01, -6.44508827e-02,  2.04029762e+00,\n",
      "       -3.12538233e+00,  1.31847280e-01,  4.20652360e+00,  3.41653549e-02,\n",
      "        4.26448902e+00,  3.87269681e+00,  9.30804763e-01,  5.72834672e-01,\n",
      "       -1.57142640e+00,  5.23896363e-02, -7.17254498e-01,  3.58077142e-02,\n",
      "        3.36562559e+00, -8.26766363e-02, -2.78684389e-01,  1.00244821e+00,\n",
      "        5.26100163e+00,  1.03762088e+00, -4.04947964e-02, -4.44578463e-01,\n",
      "        3.07687753e+00, -3.59608330e-02, -3.00470054e-01,  3.02287679e+00,\n",
      "       -1.04151649e-02,  2.97360289e-04, -2.45242472e+00,  2.89358568e-01,\n",
      "       -1.50889149e+00,  5.17618294e-01,  9.29758518e-01, -5.94887918e-03,\n",
      "        2.35573254e-01, -9.17293609e-01,  7.54702183e-01, -6.03711785e+00,\n",
      "       -7.29388584e-01,  2.21945233e+00]), array([ 9.39290137e+01, -4.16907144e+00, -9.76451078e-01, -2.18186148e+00,\n",
      "       -1.73125626e+00,  9.14471121e-01,  3.35272636e+00, -5.43467791e+00,\n",
      "        4.04763323e-01, -9.23893526e-01,  6.63438405e-01, -1.75159668e+00,\n",
      "       -1.38443202e+00, -8.68747697e+00,  1.45894478e+00,  5.61718445e-02,\n",
      "       -6.53366952e+00,  8.14540701e-01,  3.38355347e-03,  7.64051074e-02,\n",
      "        3.61732660e+00, -1.26452972e-02,  1.98808875e-02, -5.04367999e-02,\n",
      "       -5.58542954e-01, -1.28141337e-01,  6.43502030e-03, -7.10016263e-01,\n",
      "        5.27841163e+00,  3.31782330e-01,  1.56892200e+00, -5.15104268e-01,\n",
      "        6.76972703e-01, -1.26758042e-02,  9.30265374e-03, -1.67906664e+00,\n",
      "       -1.16559504e-01,  1.66172136e-01,  4.51842672e-01,  5.78830660e-02,\n",
      "       -2.33582279e+00, -5.37252971e-01,  2.40347991e+00, -1.21682145e-02,\n",
      "       -7.60716202e-02, -5.71775363e-01,  7.72285124e-01, -5.67386681e+00,\n",
      "       -1.68584999e+00,  1.89903519e+00])], [array([ 1.68777913e+02, -3.00565129e-01,  5.35973356e+00,  7.81706824e+00,\n",
      "       -4.22699261e-01,  1.27793031e+01, -1.46301259e+00,  4.77733820e+00,\n",
      "       -8.60565569e-01,  5.75603253e+00,  9.75168692e-01,  2.58156648e+00,\n",
      "        6.20001327e+00, -8.27668445e-02, -1.18600384e+01,  4.36565426e-01,\n",
      "       -6.23238158e+00,  4.03814329e+00, -1.90113495e+00, -9.34722031e-01,\n",
      "       -2.92045579e+00, -2.57119251e+00,  4.76813041e+00, -3.35207436e-01,\n",
      "       -2.85583586e+00, -4.58437581e-01, -9.70861511e-02, -2.36830856e+00,\n",
      "        4.95739076e+00, -9.33076992e-01,  9.38876325e-03, -1.09080287e+00,\n",
      "       -2.60125165e+00, -2.85880108e-01, -2.55592743e+00, -2.42696316e+00,\n",
      "       -1.08974534e-01, -2.90357263e-03, -2.87012070e+00, -4.44504550e+00,\n",
      "        2.54410454e+00,  2.96689291e-01,  1.11193706e-01, -2.85697599e-01,\n",
      "       -4.70205622e+00, -2.90104291e+00,  5.28719600e-01,  6.38400879e+00,\n",
      "       -3.01086302e+00, -2.51027765e+00]), array([ 1.35084010e+02, -3.27478054e+00, -2.34367366e+00,  8.93412143e+00,\n",
      "        8.75042345e+00,  1.47985663e+01, -1.06699816e+00, -7.50222309e+00,\n",
      "       -6.08507908e+00, -5.16700471e-01, -1.00380993e+01, -2.21627631e+00,\n",
      "        2.74638301e+00,  5.45354485e+00, -4.11340640e+00,  7.17764685e-01,\n",
      "        9.54869888e+00,  8.49338905e-01, -6.91078517e-03, -1.24673908e-01,\n",
      "        6.72270900e+00,  6.20609261e-01, -1.32163220e-01,  4.72154973e-01,\n",
      "        4.73940715e-01, -7.10536943e-01,  2.24178812e-03,  1.67743089e+00,\n",
      "        4.97379603e+00, -2.98354113e-01, -3.63756297e-01, -1.26384263e+00,\n",
      "       -5.72325790e-01, -1.00769642e-01,  7.91323710e-02,  1.34806450e+00,\n",
      "       -1.21956952e+00, -1.62258675e+00,  5.28800333e-01, -8.89183492e-01,\n",
      "        3.93837291e+00, -3.07943528e-01,  2.87442205e-01, -5.84383976e-01,\n",
      "        1.51839408e+00, -1.80830309e+00,  5.41037632e-01,  5.99988546e+00,\n",
      "       -6.95906614e+00, -2.14787473e+00])], [array([0., 0., 0., ..., 0., 0., 0.]), array([0., 0., 0., ..., 0., 0., 0.])], [array([0., 0., 0., ..., 0., 0., 0.]), array([0., 0., 0., ..., 0., 0., 0.])], [array([0., 0., 0., ..., 0., 0., 0.]), array([0., 0., 0., ..., 0., 0., 0.])], [array([0., 0., 0., ..., 0., 0., 0.]), array([0., 0., 0., ..., 0., 0., 0.])], [array([0., 0., 0., ..., 0., 0., 0.]), array([0., 0., 0., ..., 0., 0., 0.])], [array([0., 0., 0., ..., 0., 0., 0.]), array([ 1.16841683e+02,  4.35937736e+00,  5.20551857e-01,  1.11010402e+01,\n",
      "        1.16600824e+01,  1.69389617e+00,  5.11267651e-01,  1.03028088e-01,\n",
      "        1.21070092e+01,  2.78881163e+00, -3.08535127e-01,  1.67512080e+00,\n",
      "        1.10432194e+01,  1.09768050e+00,  8.20827444e-01,  1.67165800e-01,\n",
      "        3.95546681e+00,  1.41957834e-01,  2.05491802e-01, -7.05671915e-02,\n",
      "        6.80663939e+00,  8.09481756e-01, -2.61548414e-01,  2.53924759e+00,\n",
      "        4.92229463e+00,  1.32615393e+00,  3.24209738e-01, -2.64564844e+00,\n",
      "       -3.64920095e-01, -3.24040333e-02,  1.21802726e+00,  6.74758086e-02,\n",
      "        1.93252070e+00, -6.20040488e-01,  8.41254365e-02,  8.76738785e-01,\n",
      "       -1.52495081e-01,  4.03337192e+00,  6.90060205e-01,  9.49639526e-01,\n",
      "        6.25079908e-01,  3.18434395e-02,  1.18531424e+00,  3.54668968e-01,\n",
      "       -3.28976098e-01, -4.30789403e-01,  2.79541879e+00,  7.26717737e-01,\n",
      "        5.29693088e-02,  2.48631349e+00])], [array([0., 0., 0., ..., 0., 0., 0.]), array([0., 0., 0., ..., 0., 0., 0.])], [array([0., 0., 0., ..., 0., 0., 0.]), array([ 7.12713765e+01, -1.98622449e+00, -6.64949251e-01,  7.44736656e+00,\n",
      "        2.76066468e+00,  3.89134694e+00,  8.42271592e+00, -1.04431027e-02,\n",
      "        5.18552433e+00, -7.30568633e-01, -3.31974544e-02,  3.26309612e-01,\n",
      "        1.81516425e+00,  5.42233383e-01, -1.65415214e+00,  2.65557930e-01,\n",
      "       -2.99216722e+00, -7.75853149e-01, -3.68546064e-02,  1.07012709e-01,\n",
      "        1.25757910e+00,  1.17989557e-01,  5.20342465e-01, -4.18539773e-01,\n",
      "        2.58105167e-01,  1.16956956e+00,  1.47725290e-01,  4.68811746e-01,\n",
      "        6.73912773e-02,  1.55648811e-01, -6.91447699e-02, -1.02883926e-01,\n",
      "       -1.06971738e-01,  5.83796296e-01,  1.83713101e-01, -2.68071827e+00,\n",
      "       -7.63295753e-02, -6.30708187e-01,  1.37436704e+00, -3.14479762e-01,\n",
      "        4.56961164e-01, -7.64246424e-02,  3.34886336e-02,  1.52020740e-01,\n",
      "       -2.11792915e-01, -1.44616510e-01,  1.60811731e+00,  1.74503725e-01,\n",
      "       -1.53695713e-01,  2.27064551e-01])], [array([0., 0., 0., ..., 0., 0., 0.]), array([0., 0., 0., ..., 0., 0., 0.])], [array([0., 0., 0., ..., 0., 0., 0.]), array([0., 0., 0., ..., 0., 0., 0.])], [array([0., 0., 0., ..., 0., 0., 0.]), array([0., 0., 0., ..., 0., 0., 0.])], [array([0., 0., 0., ..., 0., 0., 0.]), array([0., 0., 0., ..., 0., 0., 0.])], [array([0., 0., 0., ..., 0., 0., 0.]), array([ 2.46308070e+02,  3.80041140e+00,  3.18690302e+00,  5.62037910e-01,\n",
      "        5.27461493e+01,  8.45637015e+00, -1.46884205e+01,  1.53316531e+01,\n",
      "        1.18332690e+01,  1.45271567e+00, -6.68157695e+00, -1.31733351e+01,\n",
      "       -1.02681021e+00, -4.82800807e+00, -6.50607780e+00,  4.50719708e-02,\n",
      "        2.27902266e+01,  3.82948364e+00,  1.23074215e+00,  1.42648314e+01,\n",
      "       -5.86469936e+00,  3.59308359e+00,  2.21361866e+00,  3.67507202e+00,\n",
      "        1.51433188e+00,  6.70391562e+00, -1.20179823e-02,  1.93656423e+00,\n",
      "        1.86555534e-01,  4.91371483e-01,  5.00483214e-01, -1.79206246e-01,\n",
      "       -4.44028840e-02,  5.23858851e-01, -2.05429947e+00,  1.39132313e+00,\n",
      "        1.12104691e+00, -6.22229342e-02,  2.41234869e+00, -8.98939961e-02,\n",
      "       -3.21474378e+00, -9.37327578e-01,  2.71434877e+00, -1.09835222e+00,\n",
      "       -1.81270798e+00,  1.74417587e+00,  1.31537630e+00, -1.61505808e-01,\n",
      "       -8.68663356e-01, -3.62480625e-02])], [array([0., 0., 0., ..., 0., 0., 0.]), array([ 1.72684715e+02,  7.89149488e+00, -1.49249968e+01,  8.45823214e+00,\n",
      "        1.61843886e+01,  1.94757782e+00, -1.41128930e+00,  1.55935016e+00,\n",
      "       -7.22929743e+00,  3.15388657e+00, -6.52932307e+00,  2.35648778e-01,\n",
      "        4.57859591e+00,  9.43058025e+00,  1.30953355e-01, -2.75076698e-01,\n",
      "        2.34274699e+00,  1.60091477e+00, -2.38914008e-01,  2.10909365e+00,\n",
      "        5.70991377e-01, -2.01738157e-01,  7.24205054e+00,  9.95027585e-01,\n",
      "        5.78660372e+00,  2.96537241e+00,  5.38003262e+00, -5.79351447e+00,\n",
      "        2.64436963e+00,  2.99624528e-01,  1.87498042e+00, -4.67445811e+00,\n",
      "        6.71439199e+00, -1.11070194e+00, -1.66325034e-01, -3.71669063e+00,\n",
      "       -3.44018071e-01,  1.13428379e+01,  9.83233749e-01, -1.99788689e-02,\n",
      "       -3.13175243e+00,  3.33038034e-01,  1.04446043e-01, -2.30747340e+00,\n",
      "        9.95279333e-01, -3.20977454e-01,  2.67638908e-01, -3.62827184e-01,\n",
      "       -1.81178441e-03, -7.07021563e-01])], [array([0., 0., 0., ..., 0., 0., 0.]), array([0., 0., 0., ..., 0., 0., 0.])], [array([0., 0., 0., ..., 0., 0., 0.]), array([ 1.60147594e+02,  1.87842184e+01,  3.07814718e-01,  6.54633860e+00,\n",
      "        4.86578253e+01,  2.34953240e+00,  2.61380479e+00,  2.09572550e+00,\n",
      "        1.85481010e+01, -8.46603208e+00,  1.07957901e+00, -1.09407039e+01,\n",
      "       -2.04686806e+00,  3.49392964e+00,  5.18765741e+00,  1.33328062e-02,\n",
      "        3.79579419e+00,  1.06782554e+00,  1.11865916e+00, -9.47554575e-01,\n",
      "       -9.13440295e+00,  5.14121401e+00, -2.61236891e+00,  5.79548595e+00,\n",
      "        5.64439198e+00,  8.77757508e+00, -5.00720055e-01, -5.01596087e+00,\n",
      "       -4.29159086e-01,  5.20766631e-01,  5.25009610e-01,  6.50293158e-01,\n",
      "       -3.81482410e-02,  8.66308114e-01, -6.58445807e-01,  1.06952372e+00,\n",
      "       -6.39225232e-01, -2.42999563e+00,  1.11391027e+00,  6.31740731e-01,\n",
      "        1.12590702e+01, -4.22730494e-01,  5.70198080e+00, -1.20795908e+00,\n",
      "        1.34651806e+00, -2.09882355e+00,  3.97777260e+00,  4.02126923e-01,\n",
      "        2.44984425e-01,  1.14223796e-01])]]\n"
     ]
    }
   ],
   "source": [
    "import numpy as np\n",
    "\n",
    "file = '/Users/jacobcoles/Desktop/LT2213/computational-semantics-vt21/group_1/assignment-02/jacob_coles/assignment/mitchell_lapata_acl08.txt'\n",
    "\n",
    "def compare(verb, noun, a, b, c):\n",
    "    try:\n",
    "        noun_vec = svdspace_10k[noun]\n",
    "        verb_vec = svdspace_10k[verb]\n",
    "    except:\n",
    "        noun_vec = np.zeros(10000)\n",
    "        verb_vec = np.zeros(10000)\n",
    "    \n",
    "    return a*noun_vec + b*verb_vec + c*np.multiply(verb_vec,noun_vec)\n",
    "\n",
    "all_items = list()\n",
    "with open(file, 'r') as f:\n",
    "    for line in list(f)[1:]:\n",
    "        item = line.split(\" \")\n",
    "        if item[0] == \"participant20\":\n",
    "            all_items.append(item[1:])\n",
    "        \n",
    "\n",
    "output = list()\n",
    "\n",
    "#verb noun landmark\n",
    "for item in all_items:\n",
    "    reference = compare(item[0], item[1], 0, 0, 1)\n",
    "    landmark = compare(item[2], item[1], 0, 0, 1)\n",
    "    output.append([reference, landmark])\n",
    "    \n",
    "print(output)\n",
    "#sorry idk what is happening"
   ]
  },
  {
   "cell_type": "markdown",
   "metadata": {},
   "source": [
    "**Any comments/thoughts should go here:**"
   ]
  },
  {
   "cell_type": "markdown",
   "metadata": {},
   "source": [
    "# Literature\n",
    "\n",
    "  - [1] C. Silberer and M. Lapata. Learning grounded meaning representations with autoencoders. In Proceedings of the 52nd Annual Meeting of the Association for Computational Linguistics, pages 721–732, Baltimore, Maryland, USA, June 23–25 2014 2014. Association for Computational Linguistics.  \n",
    "\n",
    "  - [2] Mitchell, J., & Lapata, M. (2008). Vector-based Models of Semantic Composition. In Proceedings of ACL-08: HLT (pp. 236–244). Association for Computational Linguistics.\n",
    "  \n",
    "  - [3] T. Mikolov, I. Sutskever, K. Chen, G. S. Corrado, and J. Dean. Distributed representations of words and phrases and their compositionality. In Advances in neural information processing systems, pages 3111–3119, 2013."
   ]
  },
  {
   "cell_type": "markdown",
   "metadata": {},
   "source": [
    "## Marks\n",
    "\n",
    "This assignment has a total of 60 marks."
   ]
  }
 ],
 "metadata": {
  "kernelspec": {
   "display_name": "Python 3",
   "language": "python",
   "name": "python3"
  },
  "language_info": {
   "codemirror_mode": {
    "name": "ipython",
    "version": 3
   },
   "file_extension": ".py",
   "mimetype": "text/x-python",
   "name": "python",
   "nbconvert_exporter": "python",
   "pygments_lexer": "ipython3",
   "version": "3.9.4"
  }
 },
 "nbformat": 4,
 "nbformat_minor": 4
}
