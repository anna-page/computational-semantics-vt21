{
 "cells": [
  {
   "cell_type": "markdown",
   "metadata": {},
   "source": [
    "# Natural Language Inference using Neural Networks\n",
    "Adam Ek\n",
    "\n",
    "----------------------------------\n",
    "\n",
    "The lab is an exploration and learning exercise to be done in a group and also in discussion with the teachers and other students.\n",
    "\n",
    "Before starting, please read the instructions on [how to work on group assignments](https://github.com/sdobnik/computational-semantics/blob/master/README.md).\n",
    "\n",
    "Write all your answers and the code in the appropriate boxes below.\n",
    "\n",
    "----------------------------------"
   ]
  },
  {
   "cell_type": "markdown",
   "metadata": {},
   "source": [
    "In this lab we'll work with neural networks for natural language inference. Our task is: given a premise sentence P and hypothesis H, what entailment relationship holds between them? Is H entailed by P, contradicted by P or neutral towards P?\n",
    "\n",
    "Given a sentence P, if H definitely describe something true given P then it is an **entailment**. If H describe something that's *maybe* true given P, it's **neutral**, and if H describe something that's definitely *false* given P it's a **contradiction**. "
   ]
  },
  {
   "cell_type": "markdown",
   "metadata": {},
   "source": [
    "# 1. Data"
   ]
  },
  {
   "cell_type": "markdown",
   "metadata": {},
   "source": [
    "We will explore natural language inference using neural networks on the SNLI dataset, described in [1]. The dataset can be downloaded [here](https://nlp.stanford.edu/projects/snli/). We prepared a \"simplified\" version, with only the relevant columns [here](https://gubox.box.com/s/idd9b9cfbks4dnhznps0gjgbnrzsvfs4).\n",
    "\n",
    "The (simplified) data is organized as follows (tab-separated values):\n",
    "* Column 1: Premise\n",
    "* Column 2: Hypothesis\n",
    "* Column 3: Relation\n",
    "\n",
    "Like in the previous lab, we'll use torchtext to build a dataloader. You can essentially do the same thing as you did in the last lab, but with our new dataset. **[1 mark]**"
   ]
  },
  {
   "cell_type": "code",
   "execution_count": 29,
   "metadata": {},
   "outputs": [],
   "source": [
    "import string\n",
    "import torch\n",
    "device = torch.device('cuda:0')\n",
    "import torch.nn as nn\n",
    "import torchtext\n",
    "import random\n",
    "import torch.nn.functional as F\n",
    "import torch.optim as optim\n",
    "from torchtext.data import Field, BucketIterator, Iterator, TabularDataset\n",
    "from IPython import embed\n",
    "import numpy as np\n",
    "import pandas as pd\n",
    "import random\n",
    "\n",
    "\n",
    "\n",
    "def dataloader(path_to_snli, batchsize):\n",
    "\n",
    "    whitespacer = lambda x: x.split(' ')\n",
    "\n",
    "    \n",
    "    PREMISE = Field(tokenize    = whitespacer,\n",
    "                   lower       = True,\n",
    "                   batch_first = True) # enforce the (batch, words) structure\n",
    "    HYPOTHESIS = Field(tokenize    = whitespacer,\n",
    "                   lower       = True,\n",
    "                   batch_first = True)\n",
    "    RELATION = Field(tokenize    = whitespacer,\n",
    "                   lower       = True,\n",
    "                   batch_first = True)\n",
    "\n",
    "    train,test = TabularDataset.splits(path   = path_to_snli,\n",
    "                                       train = 'train.csv',\n",
    "                                       test = 'test.csv',\n",
    "                            format = 'csv',\n",
    "                            fields = [('premise', PREMISE),\n",
    "                                    ('hypothesis', HYPOTHESIS),\n",
    "                                     ('relation', RELATION)],\n",
    "                            skip_header       = False,\n",
    "                            csv_reader_params = {'delimiter':'\\t',\n",
    "                                                             'quotechar':'½'})\n",
    "    # build vocabularies based on what our csv files contained and create word2id mapping\n",
    "    PREMISE.build_vocab(train, test)\n",
    "    HYPOTHESIS.vocab = PREMISE.vocab\n",
    "    \n",
    "    RELATION.build_vocab(train, test)\n",
    "\n",
    "    # create batches from our data, and shuffle them for each epoch\n",
    "    train_set, test_set = BucketIterator.splits((train,test),\n",
    "                                batch_size        = batchsize,\n",
    "                                sort_within_batch = True,\n",
    "                                sort_key          = lambda x: len(x.premise),\n",
    "                                shuffle           = True,\n",
    "                                device            = device)\n",
    "\n",
    "    return train_set, test_set, PREMISE, HYPOTHESIS, RELATION\n"
   ]
  },
  {
   "cell_type": "markdown",
   "metadata": {},
   "source": [
    "# 2. Model"
   ]
  },
  {
   "cell_type": "markdown",
   "metadata": {},
   "source": [
    "In this part, we'll build the model for predicting the relationship between H and P.\n",
    "\n",
    "We will process each sentence using an LSTM. Then, we will construct some representation of the sentence. When we have a representation for H and P, we will combine them into one vector which we can use to predict the relationship."
   ]
  },
  {
   "cell_type": "markdown",
   "metadata": {},
   "source": [
    "We will train a model described in [2], the BiLSTM with max-pooling model. The procedure for the model is roughly:\n",
    "\n",
    "    1) Encode the Hypothesis and the Premise using one shared bidirectional LSTM (or two different LSTMS)\n",
    "    2) Perform max over the tokens in the premise and the hypothesis\n",
    "    3) Combine the encoded premise and encoded hypothesis into one representation\n",
    "    4) Predict the relationship "
   ]
  },
  {
   "cell_type": "markdown",
   "metadata": {},
   "source": [
    "### Creating a representation of a sentence\n",
    "\n",
    "Let's first consider step 2 where we perform max/mean pooling. There is a function in pytorch for this, but we'll implement it from scratch. \n",
    "\n",
    "Let's consider the general case, what we want to do for these methods is apply some function $f$ along dimension $i$, and we want to do this for all $i$'s. As an example we consider the matrix S with size ``(N, D)`` where N is the number of words and D the number of dimensions:\n",
    "\n",
    "$S = \\begin{bmatrix}\n",
    "    s_{11} & s_{12} & s_{13} & \\dots  & s_{1d} \\\\\n",
    "    s_{21} & s_{22} & s_{23} & \\dots  & s_{2d} \\\\\n",
    "    \\vdots & \\vdots & \\vdots & \\ddots & \\vdots \\\\\n",
    "    s_{n1} & s_{n2} & s_{n3} & \\dots  & s_{nd}\n",
    "\\end{bmatrix}$\n",
    "\n",
    "What we want to do is apply our function $f$ on each dimension, taking the input $s_{1d}, s_{2d}, ..., s_{nd}$ and generating the output $x_d$. \n",
    "\n",
    "You will implement both the max pooling method. When performing max-pooling, $max$ will be the function which selects a _maximum_ value from a vector and $x$ is the output, thus for each dimension $d$ in our output $x$ we get:\n",
    "\n",
    "\\begin{equation}\n",
    "    x_d = max(s_{1d}, s_{2d}, ..., s_{nd})\n",
    "\\end{equation}\n",
    "\n",
    "\n",
    "This operation will reduce a batch of size ``(batch_size, num_words, dimensions)`` to ``(batch_size, dimensions)`` meaning that we now have created a sentence representation based on the content of the words representations in the sentence. \n",
    "\n",
    "Create a function that takes as input a tensor of size ``(batch_size, num_words, dimensions)`` then performs max pooling and returns the result (the output should be of size: ```(batch_size, dimensions)```). [**4 Marks**]"
   ]
  },
  {
   "cell_type": "code",
   "execution_count": 31,
   "metadata": {},
   "outputs": [],
   "source": [
    "def max_tensor(tense): #takes 2-dimensional vector and selects the max for each index of the embedding dim\n",
    "    new_tensor = torch.zeros(tense.size()[1])\n",
    "    for i in range(tense.shape[1]):\n",
    "        new_tensor[i] = max(tense[:,i])\n",
    "    return new_tensor\n",
    "     \n",
    "def pooling(input_tensor):\n",
    "    output_tensor = torch.zeros((input_tensor.size()[0],input_tensor.size()[2])) #size of output tensor will be batch_size by dimensions\n",
    "    for i in range(input_tensor.size()[0]): #for i in the range of the numer of sentences/representations, in this case probably the batch length i guess yeww\n",
    "        max_pool = max_tensor(input_tensor[i,:,:]) #for the item/sentence-thingy 'i' in our batch, get the max embedding value for each embedding (Out of all the words in the sentence)\n",
    "        output_tensor[i] = max_pool\n",
    "    return output_tensor"
   ]
  },
  {
   "cell_type": "markdown",
   "metadata": {},
   "source": [
    "### Combining sentence representations\n",
    "\n",
    "Next, we need to combine the premise and hypothesis into one representation. We will do this by concatenating four tensors (the final size of our tensor $X$ should be ``(batch_size, 4d)`` where ``d`` is the number of dimensions that you use): \n",
    "\n",
    "$$X = [P; H; |P-H|; P \\cdot H]$$\n",
    "\n",
    "Here, what we do is concatenating P, H, P times H, and the absolute value of P minus H, then return the result.\n",
    "\n",
    "Implement the function. **[2 marks]**"
   ]
  },
  {
   "cell_type": "code",
   "execution_count": 32,
   "metadata": {},
   "outputs": [],
   "source": [
    "def combine_premise_and_hypothesis(hypothesis, premise):\n",
    "    subtracted = torch.sub(premise, hypothesis)\n",
    "    multiplied = torch.mul(premise,hypothesis)\n",
    "    output = torch.cat((premise, hypothesis, subtracted, multiplied), 1)   \n",
    "    return output"
   ]
  },
  {
   "cell_type": "markdown",
   "metadata": {},
   "source": [
    "### Creating the model\n",
    "\n",
    "Finally, we can build the model according to the procedure given previously by using the functions we defined above. Additionaly, in the model you should use *dropout*. For efficiency purposes, it's acceptable to only train the model with either max or mean pooling. \n",
    "\n",
    "Implement the model [**6 marks**]"
   ]
  },
  {
   "cell_type": "code",
   "execution_count": 33,
   "metadata": {},
   "outputs": [],
   "source": [
    "class SNLIModel(nn.Module):\n",
    "    def __init__(self, num_words, emb_dim, num_labels):\n",
    "        super(SNLIModel, self).__init__()\n",
    "        self.embeddings = nn.Embedding(num_words, emb_dim)\n",
    "        self.LSTM = nn.LSTM(emb_dim, emb_dim, batch_first=True, bidirectional=True)\n",
    "        self.classifier = nn.Linear(emb_dim*8, num_labels)\n",
    "        self.dropout = nn.Dropout(0.2)\n",
    "        \n",
    "    def forward(self, premise, hypothesis):\n",
    "        p = self.embeddings(premise)\n",
    "        h = self.embeddings(hypothesis)\n",
    "        p_lstm, _ = self.LSTM(p)\n",
    "        h_lstm, _ = self.LSTM(h)\n",
    "\n",
    "        p_pooled = pooling(p_lstm)\n",
    "        h_pooled = pooling(h_lstm)\n",
    "        \n",
    "        ph_representation = combine_premise_and_hypothesis(h_pooled, p_pooled)\n",
    "        predictions = self.classifier(ph_representation)\n",
    "        \n",
    "        return predictions"
   ]
  },
  {
   "cell_type": "markdown",
   "metadata": {},
   "source": [
    "# 3. Training and testing"
   ]
  },
  {
   "cell_type": "markdown",
   "metadata": {},
   "source": [
    "As before, implement the training and testing of the model. SNLI can take a very long time to train, so I suggest you only run it for one or two epochs. **[2 marks]** \n",
    "\n",
    "**Tip for efficiency:** *when developing your model, try training and testing the model on one batch (for each epoch) of data to make sure everything works! It's very annoying if you train for N epochs to find out that something went wrong when testing the model, or to find that something goes wrong when moving from epoch 0 to epoch 1.*"
   ]
  },
  {
   "cell_type": "code",
   "execution_count": 34,
   "metadata": {},
   "outputs": [],
   "source": [
    "hype = {\n",
    "'batch_size' : 8,\n",
    "'learning_rate' : 0.001,\n",
    "'epochs' : 3,\n",
    "'emb_dim' : 32,\n",
    "'output_dim' : 32\n",
    "}\n",
    "\n",
    "train_set, test_set, PREMISE, HYPOTHESIS, RELATION = dataloader(\"./simple_snli_1/\", hype['batch_size'])"
   ]
  },
  {
   "cell_type": "code",
   "execution_count": null,
   "metadata": {},
   "outputs": [
    {
     "name": "stdout",
     "output_type": "stream",
     "text": [
      "1.1564687560444418\r"
     ]
    }
   ],
   "source": [
    "loss_function = nn.CrossEntropyLoss()\n",
    "\n",
    "model = SNLIModel(\n",
    "        num_words = len(PREMISE.vocab.itos),\n",
    "        emb_dim = hype['emb_dim'], \n",
    "        num_labels = len(RELATION.vocab.itos)\n",
    "        )\n",
    "\n",
    "model.to(device)\n",
    "\n",
    "optimizer = optim.Adam(\n",
    "            model.parameters(),\n",
    "            lr=hype['learning_rate'])\n",
    "\n",
    "model.train()\n",
    "total_loss = 0\n",
    "\n",
    "for epoch in range(hype['epochs']):\n",
    "    for i, batch in enumerate(train_set):\n",
    "\n",
    "        premise = batch.premise\n",
    "        hypothesis = batch.hypothesis\n",
    "        relation = batch.relation\n",
    "        output = model(premise, hypothesis)\n",
    "        loss = loss_function(output, relation.reshape(-1))\n",
    "        total_loss += loss.item()\n",
    "        \n",
    "        print(total_loss/(i+1), end='\\r')\n",
    "        \n",
    "        loss.backward()\n",
    "        \n",
    "        optimizer.step()\n",
    "        \n",
    "        optimizer.zero_grad()"
   ]
  },
  {
   "cell_type": "code",
   "execution_count": null,
   "metadata": {},
   "outputs": [],
   "source": [
    "torch.save(model.state_dict(), \"SNLIModel.model\")"
   ]
  },
  {
   "cell_type": "code",
   "execution_count": null,
   "metadata": {},
   "outputs": [],
   "source": [
    "model = SNLIModel(\n",
    "        num_words = len(PREMISE.vocab.itos),\n",
    "        emb_dim = hype['emb_dim'], \n",
    "        num_labels = len(RELATION.vocab.itos)\n",
    "        )\n",
    "model.load_state_dict(torch.load(\"SNLIModel.model\"))\n",
    "model = model.to(device)"
   ]
  },
  {
   "cell_type": "markdown",
   "metadata": {},
   "source": [
    "# Testing the model:"
   ]
  },
  {
   "cell_type": "code",
   "execution_count": null,
   "metadata": {},
   "outputs": [],
   "source": [
    "test_loss = 0   \n",
    "model.eval()\n",
    "\n",
    "total = 0\n",
    "correct = 0\n",
    "\n",
    "per_relation_total = dict.fromkeys(RELATION.vocab.itos, 0)\n",
    "per_relation_correct = dict.fromkeys(RELATION.vocab.itos, 0)\n",
    "\n",
    "for i, batch in enumerate(test_set):     \n",
    "    relations = batch.relation\n",
    "    premise = batch.premise\n",
    "    hypothesis = batch.hypothesis\n",
    "    \n",
    "    with torch.no_grad(): \n",
    "        output = model(premise, hypothesis)\n",
    "        loss = loss_function(output, relations.reshape(-1))       \n",
    "        test_loss += loss.item()\n",
    "        print('>', np.round(test_loss/(i+1), 4), end='\\r')\n",
    "        \n",
    "        # Calculate total accuracy\n",
    "        total += relations.size(0)\n",
    "        predicted = [RELATION.vocab.itos[x] for x in torch.max(output, 1)[1]]\n",
    "        true_relations = [RELATION.vocab.itos[x] for x in relations]\n",
    "        \n",
    "        for n in range(len(predicted)):\n",
    "            if predicted[n] == true_relations[n]:\n",
    "                correct += 1\n",
    "                \n",
    "        # Calculate per-word-form accuracy\n",
    "        for n,relation in enumerate(true_relations):\n",
    "            if predicted[n] == true_relations[n]:\n",
    "                per_relation_correct[relation] += 1\n",
    "            per_relation_total[relation] += 1"
   ]
  },
  {
   "cell_type": "code",
   "execution_count": null,
   "metadata": {},
   "outputs": [],
   "source": [
    "accuracy1 = correct / total\n",
    "accuracy2 = {true_relation : f'{np.round((per_relation_correct[true_relation] / per_relation_total[true_relation]) * 100,2)} %' for true_relation in true_relations if per_relation_total[true_relation] > 0}\n",
    "print(f'Total accuracy: {np.round(accuracy1 * 100, 2)} %')\n",
    "\n",
    "print('Per-relation accuracy:')\n",
    "for k,v in accuracy2.items():\n",
    "    print(f'{k} : {v}')"
   ]
  },
  {
   "cell_type": "markdown",
   "metadata": {},
   "source": [
    "Suggest a _baseline_ that we can compare our model against **[2 marks]**"
   ]
  },
  {
   "cell_type": "markdown",
   "metadata": {},
   "source": [
    "- We could choose the most probable inference from the set we are testing on. \n",
    "- If all the examples in the data are equally probable, we could just assume a 1/total_classes, so if there are 3 classes, that would be a 33.33% probability for any. "
   ]
  },
  {
   "cell_type": "markdown",
   "metadata": {},
   "source": [
    "Suggest some ways (other than using a baseline) in which we can analyse the models performance **[4 marks]**."
   ]
  },
  {
   "cell_type": "markdown",
   "metadata": {},
   "source": [
    "- Check how well it performs for each relation, in terms of recall, accuracy and F1 score as well as create a confusion matrix. \n",
    "- Testing how it performs on different datasets, and compare performance. If it performs comparably on other datasets, it would show that this can generalise. \n",
    "- Test different parameters for the model and see how the performance changes with the parameter changes. \n",
    "- Compare it to other machine learning models, such as Bert. "
   ]
  },
  {
   "cell_type": "markdown",
   "metadata": {},
   "source": [
    "Suggest some ways to improve the model **[3 marks]**."
   ]
  },
  {
   "cell_type": "markdown",
   "metadata": {},
   "source": [
    "- By improving consideration of context, word order, word class etc. Perhaps running this on Bert would be a good way of doing this. \n",
    "- Looking at examples that it gets wrong, and see if there are some observable generalisations or patterns that would help us to make design improvements to the model. \n",
    "- Run the model for more epochs, use more data. \n",
    "- Use a validation set to help us select the best parameters for our model; especially avoiding overfitting. "
   ]
  },
  {
   "cell_type": "markdown",
   "metadata": {},
   "source": [
    "### Readings\n",
    "\n",
    "[1] Samuel R. Bowman, Gabor Angeli, Christopher Potts, and Christopher D. Manning. 2015. A large annotated corpus for learning natural language inference. In Proceedings of the 2015 Conference on Empirical Methods in Natural Language Processing (EMNLP). \n",
    "\n",
    "[2] Conneau, A., Kiela, D., Schwenk, H., Barrault, L., & Bordes, A. (2017). Supervised learning of universal sentence representations from natural language inference data. arXiv preprint arXiv:1705.02364."
   ]
  }
 ],
 "metadata": {
  "kernelspec": {
   "display_name": "Python 3",
   "language": "python",
   "name": "python3"
  },
  "language_info": {
   "codemirror_mode": {
    "name": "ipython",
    "version": 3
   },
   "file_extension": ".py",
   "mimetype": "text/x-python",
   "name": "python",
   "nbconvert_exporter": "python",
   "pygments_lexer": "ipython3",
   "version": "3.7.4"
  }
 },
 "nbformat": 4,
 "nbformat_minor": 2
}
