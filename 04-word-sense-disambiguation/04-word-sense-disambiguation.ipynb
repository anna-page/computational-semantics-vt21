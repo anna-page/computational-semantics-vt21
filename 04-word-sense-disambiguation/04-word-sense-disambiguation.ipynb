{
 "cells": [
  {
   "cell_type": "markdown",
   "metadata": {},
   "source": [
    "# Word Sense Disambiguation using Neural Networks\n",
    "Adam Ek\n",
    "\n",
    "----------------------------------\n",
    "\n",
    "The lab is an exploration and learning exercise to be done in a group and also in discussion with the teachers and other students.\n",
    "\n",
    "Before starting, please read the instructions on [how to work on group assignments](https://github.com/sdobnik/computational-semantics/blob/master/README.md).\n",
    "\n",
    "Write all your answers and the code in the appropriate boxes below.\n",
    "\n",
    "----------------------------------"
   ]
  },
  {
   "cell_type": "markdown",
   "metadata": {},
   "source": [
    "A problem with static distributional vectors is the difficulty of distinguishing between different *word senses*. We will continue our exploration of word vectors by considering *trainable vectors* or *word embeddings* for Word Sense Disambiguation (WSD).\n",
    "\n",
    "The goal of word sense disambiguation is to train a model to find the sense of a word (homonyms of a word-form). For example, the word \"bank\" can mean \"sloping land\" or \"financial institution\". \n",
    "\n",
    "(a) \"I deposited my money in the **bank**\" (financial institution)\n",
    "\n",
    "(b) \"I swam from the river **bank**\" (sloping land)\n",
    "\n",
    "In case a) and b) we can determine that the meaning of \"bank\" based on the *context*. To utilize context in a semantic model we use *contextualized word representations*. Previously we worked with *static word representations*, i.e. the representation does not depend on the context. To illustrate we can consider sentences (a) and (b), the word **bank** would have the same static representation in both sentences, which means that it becomes difficult for us to predict its sense. What we want is to create representations that depend on the context, i.e. *contextualized embeddings*. \n",
    "\n",
    "We will create contextualized embeddings with Recurrent Neural Networks. You can read more about recurrent neural netoworks [here](https://colah.github.io/posts/2015-08-Understanding-LSTMs/). Your overall task in this lab is to create a neural network model that can disambiguate the word sense of 30 different words. "
   ]
  },
  {
   "cell_type": "code",
   "execution_count": 1,
   "metadata": {},
   "outputs": [],
   "source": [
    "# first we import some packages that we need\n",
    "import torch\n",
    "import torch.nn as nn\n",
    "import torchtext\n",
    "import random\n",
    "import torch.nn.functional as F\n",
    "import torch.optim as optim\n",
    "from torchtext.data import Field, BucketIterator, Iterator, TabularDataset\n",
    "from IPython import embed\n",
    "import numpy as np\n",
    "import pandas as pd\n",
    "\n",
    "# our hyperparameters (add more when/if you need them)\n",
    "device = torch.device('cpu')\n",
    "hyperparameters = {\n",
    "'batch_size' : 8,\n",
    "'learning_rate' : 0.001,\n",
    "'epochs' : 3,\n",
    "'embedding_dim' : 32,\n",
    "'output_dim' : 32\n",
    "}"
   ]
  },
  {
   "cell_type": "markdown",
   "metadata": {},
   "source": [
    "# 1. Working with data\n",
    "\n",
    "A central part of any machine learning system is the data we're working with. In this section we will split the data (the dataset is located here: ``wsd-data/wsd_data.txt``) into a training set and a test set. We will also create a baseline to compare our model against. Finally, we will use TorchText to transform our data (raw text) into a convenient format that our neural network can work with."
   ]
  },
  {
   "cell_type": "markdown",
   "metadata": {},
   "source": [
    "## Data\n",
    "\n",
    "The dataset we will use contain different word sense for 30 different words. The data is organized as follows (values separated by tabs): \n",
    "- Column 1: word-sense\n",
    "- Column 2: word-form\n",
    "- Column 3: index of word\n",
    "- Column 4: white-space tokenized context"
   ]
  },
  {
   "cell_type": "markdown",
   "metadata": {},
   "source": [
    "### Splitting the data\n",
    "\n",
    "Your first task is to seperate the data into a *training set* and a *test set*. The training set should contain 80% of the examples and the test set the remaining 20%. The examples for the test/training set should be selected **randomly**. Save each dataset into a .csv file for loading later. **[2 marks]**"
   ]
  },
  {
   "cell_type": "code",
   "execution_count": 2,
   "metadata": {},
   "outputs": [],
   "source": [
    "def data_split(path_to_dataset):\n",
    "        \n",
    "    with open(path_to_dataset) as f:\n",
    "        dataset = [line for line in f]\n",
    "        random.shuffle(dataset)\n",
    "    \n",
    "    train = dataset[:int(len(dataset)*0.8)] \n",
    "    test = dataset[-int(len(dataset)*0.2):] \n",
    "    \n",
    "    with open('train.csv', 'w') as f:\n",
    "        for line in train:\n",
    "            f.write(line)\n",
    "    \n",
    "    with open('test.csv', 'w') as f:\n",
    "        for line in test:\n",
    "            f.write(line)\n",
    "    \n",
    "    return\n",
    "\n",
    "data_split('wsd-data/wsd_data.txt')"
   ]
  },
  {
   "cell_type": "markdown",
   "metadata": {},
   "source": [
    "### Creating a baseline\n",
    "\n",
    "Your second task is to create a *baseline* for the task. A baseline is a \"reality check\" for a model, given a very simple heuristic/algorithmic/model solution to the problem, can our neural network perform better than this?\n",
    "The baseline you are to create is the \"most common sense\" (MCS) baseline. For each word form, find the most commonly assigned sense to the word, and label a words with that sense. **[2 marks]**\n",
    "\n",
    "E.g. In a fictional dataset, \"bank\" have two senses, \"financial institution\" which occur 5 times and \"side of river\" 3 times. Thus, all 8 occurences of bank is labeled \"financial institution\" and this yields an MCS accuracy of 5/8 = 62.5%. If a model obtain a higher score than this, we can conclude that the model *at least* is better than selecting the most frequent word sense."
   ]
  },
  {
   "cell_type": "code",
   "execution_count": 3,
   "metadata": {},
   "outputs": [
    {
     "name": "stdout",
     "output_type": "stream",
     "text": [
      "{'professional.a': '21.76 %', 'bad.a': '60.74 %', 'common.a': '25.06 %', 'bring.v': '21.17 %', 'active.a': '32.04 %', 'hold.v': '15.2 %', 'major.a': '30.33 %', 'time.n': '27.86 %', 'find.v': '23.18 %', 'keep.v': '39.2 %', 'build.v': '21.2 %', 'order.n': '21.96 %', 'extend.v': '18.03 %', 'case.n': '20.37 %', 'force.n': '16.27 %', 'life.n': '22.47 %', 'national.a': '20.46 %', 'follow.v': '14.59 %', 'security.n': '20.33 %', 'point.n': '35.55 %', 'lead.v': '17.97 %', 'physical.a': '23.64 %', 'see.v': '62.76 %', 'line.n': '85.12 %', 'critical.a': '27.44 %', 'position.n': '20.17 %', 'regular.a': '21.73 %', 'positive.a': '35.44 %', 'place.n': '24.29 %', 'serve.v': '15.51 %'}\n"
     ]
    }
   ],
   "source": [
    "def mcs_baseline(data):\n",
    "    \n",
    "    dataset = []\n",
    "    with open(data) as f:\n",
    "        for line in f:\n",
    "            token = line.strip('\\n')\n",
    "            row = token.split('\\t')\n",
    "            dataset.append(row)\n",
    "    \n",
    "    word_forms_unique = set([row[1] for row in dataset])\n",
    "    word_forms_dict = dict.fromkeys(word_forms_unique, 0)\n",
    "    \n",
    "    for word_form in word_forms_unique:\n",
    "        d = {}\n",
    "        for row in dataset:\n",
    "            if row[1] == word_form:\n",
    "                if row[0] not in d:\n",
    "                    d[row[0]] = 1\n",
    "                else:\n",
    "                    d[row[0]] += 1\n",
    "        word_forms_dict[word_form] = d\n",
    "    \n",
    "    word_sense_counts = dict.fromkeys(word_forms_unique, 0)\n",
    "    baseline_dict = dict.fromkeys(word_forms_unique, 0)\n",
    "    for word_form, word_sense_dict in word_forms_dict.items():\n",
    "        total = []\n",
    "        word_sense_counts[word_form] = len(word_sense_dict)\n",
    "        for word_sense, count in word_sense_dict.items():\n",
    "            total.append(count)\n",
    "        baseline_dict[word_form] = str(np.round((max(total)/sum(total)) * 100,2))+' %'\n",
    "    \n",
    "    return baseline_dict, word_sense_counts\n",
    "\n",
    "baseline_dict, word_sense_counts = mcs_baseline('wsd-data/wsd_data.txt')\n",
    "print(baseline_dict)"
   ]
  },
  {
   "cell_type": "markdown",
   "metadata": {},
   "source": [
    "### Creating data iterators\n",
    "\n",
    "To train a neural network, we first need to prepare the data. This involves converting words (and labels) to a number, and organizing the data into batches. We also want the ability to shuffle the examples such that they appear in a random order.  \n",
    "\n",
    "To do all of this we will use the torchtext library (https://torchtext.readthedocs.io/en/latest/index.html). In addition to converting our data into numerical form and creating batches, it will generate a word and label vocabulary, and data iterators than can sort and shuffle the examples. \n",
    "\n",
    "Your task is to create a dataloader for the training and test set you created previously. So, how do we go about doing this?\n",
    "\n",
    "1) First we create a ``Field`` for each of our columns. A field is a function which tokenize the input, keep a dictionary of word-to-numbers, and fix paddings. So, we need four fields, one for the word-sense, one for the position, one for the lemma and one for the context. \n",
    "\n",
    "2) After we have our fields, we need to process the data. For this we use the ``TabularDataset`` class. We pass the name and path of the training and test files we created previously, then we assign which field to use in each column. The result is that each column will be processed by the field indicated. So, the context column will be tokenized and processed by the context field and so on. \n",
    "\n",
    "3) After we have processed the dataset we need to build the vocabulary, for this we call the function ``build_vocab()`` on the different ``Fields`` with the output from ``TabularDataset`` as input. This looks at our dataset and creates the necessary vocabularies (word-to-number mappings). \n",
    "\n",
    "4) Finally, the last step. In the last step we load the data objects given by the ``TabularDataset`` and pass it to the ``BucketIterator`` class. This class will organize our examples into batches and shuffle them around (such that for each epoch the model observe the examples in a different order). When we are done with this we can let our function return the data iterators and vocabularies, then we are ready to train and test our model!\n",
    "\n",
    "Implement the dataloader. [**2 marks**]\n",
    "\n",
    "*hint: for TabularDataset and BucketIterator use the class function splits()* "
   ]
  },
  {
   "cell_type": "code",
   "execution_count": 4,
   "metadata": {},
   "outputs": [],
   "source": [
    "def dataloader(path,batchsize):\n",
    "\n",
    "    whitespacer = lambda x: x.split(' ')\n",
    "    \n",
    "    WORDSENSE = Field(tokenize    = whitespacer,\n",
    "                   lower       = True,\n",
    "                   batch_first = True) # enforce the (batch, words) structure\n",
    "    LEMMA = Field(tokenize    = whitespacer,\n",
    "                   lower       = True,\n",
    "                   batch_first = True)\n",
    "    POSITION = Field(tokenize    = whitespacer,\n",
    "                   lower       = True,\n",
    "                   batch_first = True)\n",
    "    CONTEXT = Field(tokenize    = whitespacer,\n",
    "                   lower       = True,\n",
    "                   batch_first = True) \n",
    "\n",
    "    train,test = TabularDataset.splits(path   = path,\n",
    "                                       train = 'train.csv',\n",
    "                                       test = 'test.csv',\n",
    "                            format = 'csv',\n",
    "                            fields = [('wordsense', WORDSENSE),\n",
    "                                    ('lemma', LEMMA),\n",
    "                                     ('position', POSITION),\n",
    "                                     ('context', CONTEXT)],\n",
    "                            skip_header       = True,\n",
    "                            csv_reader_params = {'delimiter':'\\t',\n",
    "                                                             'quotechar':'½'})\n",
    "    # build vocabularies based on what our csv files contained and create word2id mapping\n",
    "    WORDSENSE.build_vocab(train)\n",
    "    LEMMA.build_vocab(train)\n",
    "    POSITION.build_vocab(train)\n",
    "    CONTEXT.build_vocab(train)\n",
    "    \n",
    "    # create batches from our data, and shuffle them for each epoch\n",
    "    train_iter, test_iter = BucketIterator.splits((train,test),\n",
    "                                batch_size        = batchsize,\n",
    "                                sort_within_batch = True,\n",
    "                                sort_key          = lambda x: len(x.context),\n",
    "                                shuffle           = True,\n",
    "                                device            = device)\n",
    "    \n",
    "    return train_iter, test_iter, WORDSENSE, LEMMA, POSITION, CONTEXT"
   ]
  },
  {
   "cell_type": "markdown",
   "metadata": {},
   "source": [
    "# 2.1 Creating and running a Neural Network for WSD\n",
    "\n",
    "In this section we will create and run a neural network to predict word senses based on *contextualized representations*."
   ]
  },
  {
   "cell_type": "markdown",
   "metadata": {},
   "source": [
    "### Model\n",
    "\n",
    "We will use a bidirectional Long-Short-Term Memory (LSTM) network to create a representation for the sentences and a Linear classifier to predict the sense of each word.\n",
    "\n",
    "When we initialize the model, we need a few things:\n",
    "\n",
    "    1) An embedding layer: a dictionary from which we can obtain word embeddings\n",
    "    2) A LSTM-module to obtain contextual representations\n",
    "    3) A classifier that compute scores for each word-sense given *some* input\n",
    "\n",
    "\n",
    "The general procedure is the following:\n",
    "\n",
    "    1) For each word in the sentence, obtain word embeddings\n",
    "    2) Run the embedded sentences through the RNN\n",
    "    3) Select the appropriate hidden state\n",
    "    4) Predict the word-sense \n",
    "\n",
    "**Suggestion for efficiency:**  *Use a low dimensionality (32) for word embeddings and the LSTM when developing and testing the code, then scale up when running the full training/tests*\n",
    "    \n",
    "Your tasks will be to create two different models (both follow the two outlines described above), described below:"
   ]
  },
  {
   "cell_type": "markdown",
   "metadata": {},
   "source": [
    "In the first approach to WSD, you are to select the index of our target word (column 3 in the dataset) and predict the word sense. **[5 marks]**\n"
   ]
  },
  {
   "cell_type": "code",
   "execution_count": 5,
   "metadata": {},
   "outputs": [],
   "source": [
    "class WSDModel_approach1(nn.Module):\n",
    "    def __init__(self, num_words, num_labels, i_dim, o_dim):\n",
    "        super(WSDModel_approach1, self).__init__()\n",
    "        self.embeddings = nn.Embedding(num_words, i_dim)\n",
    "        self.LSTM = nn.LSTM(i_dim, o_dim, batch_first=True, bidirectional=True)          \n",
    "        self.classifier = nn.Linear(o_dim*2, num_labels)\n",
    "\n",
    "    def forward(self, context, word_index):                     \n",
    "\n",
    "        embedded_batch = self.embeddings(context)   \n",
    "        contextualized_embedding, (hn, cn) = self.LSTM(embedded_batch)   \n",
    "        output = contextualized_embedding[torch.arange(contextualized_embedding.size(0)), word_index]     \n",
    "        output = self.classifier(output)\n",
    "\n",
    "        return output"
   ]
  },
  {
   "cell_type": "markdown",
   "metadata": {},
   "source": [
    "In the second approach to WSD, you are to predict the word sense based on the final hidden state given by the RNN. **[5 marks]**"
   ]
  },
  {
   "cell_type": "code",
   "execution_count": 6,
   "metadata": {},
   "outputs": [],
   "source": [
    "class WSDModel_approach2(nn.Module):\n",
    "    def __init__(self, num_words, num_labels, i_dim, o_dim):\n",
    "        super(WSDModel_approach2, self).__init__()\n",
    "        self.embeddings = nn.Embedding(num_words, i_dim)\n",
    "        self.LSTM = nn.LSTM(i_dim, o_dim, batch_first=True, bidirectional=True)\n",
    "        self.classifier = nn.Linear(o_dim*2, num_labels)\n",
    "    \n",
    "    def forward(self, batch):\n",
    "        embedded_batch = self.embeddings(batch.context)\n",
    "        context_representation, (final_hidden,c_n) = self.LSTM(embedded_batch)\n",
    "        reshaped = torch.cat((final_hidden[0,:,:],final_hidden[1,:,:]),1)\n",
    "        predicted_sense = self.classifier(reshaped)\n",
    "        \n",
    "        return predicted_sense"
   ]
  },
  {
   "cell_type": "markdown",
   "metadata": {},
   "source": [
    "### Training and testing the model\n",
    "\n",
    "Now we are ready to train and test our model. What we need now is a loss function, an optimizer, and our data. \n",
    "\n",
    "- First, create the loss function and the optimizer.\n",
    "- Next, we iterate over the number of epochs (i.e. how many times we let the model see our data). \n",
    "- For each epoch, iterate over the dataset (``train_iter``) to obtain batches. Use the batch as input to the model, and let the model output scores for the different word senses.\n",
    "- For each model output, calculate the loss (and print the loss) on the output and update the model parameters.\n",
    "- Reset the gradients and repeat.\n",
    "- After all epochs are done, test your trained model on the test set (``test_iter``) and calculate the total and per-word-form accuracy of your model.\n",
    "\n",
    "Implement the training and testing of the model **[4 marks]**\n",
    "\n",
    "**Suggestion for efficiency:** *when developing your model, try training and testing the model on one or two batches (for each epoch) of data to make sure everything works! It's very annoying if you train for N epochs to find out that something went wrong when testing the model, or to find that something goes wrong when moving from epoch 0 to epoch 1.*"
   ]
  },
  {
   "cell_type": "code",
   "execution_count": 7,
   "metadata": {},
   "outputs": [],
   "source": [
    "loss_function = nn.CrossEntropyLoss()\n",
    "train_iter, test_iter, WORDSENSE, LEMMA, POSITION, CONTEXT = dataloader('.', hyperparameters['batch_size'])"
   ]
  },
  {
   "cell_type": "code",
   "execution_count": 9,
   "metadata": {},
   "outputs": [
    {
     "name": "stdout",
     "output_type": "stream",
     "text": [
      "3.4278949165911484\r"
     ]
    }
   ],
   "source": [
    "### TRAIN MODEL 1\n",
    "\n",
    "train_iter, test_iter, WORDSENSE, LEMMA, POSITION, CONTEXT = dataloader('.', hyperparameters['batch_size'])\n",
    "\n",
    "loss_function = nn.CrossEntropyLoss()\n",
    "\n",
    "num_words = len(CONTEXT.vocab)\n",
    "num_labels = len(WORDSENSE.vocab)\n",
    "\n",
    "model1 = WSDModel_approach1(\n",
    "        num_words=len(CONTEXT.vocab),\n",
    "        num_labels=len(WORDSENSE.vocab),\n",
    "        i_dim=hyperparameters['embedding_dim'],\n",
    "        o_dim=hyperparameters['output_dim'])\n",
    "\n",
    "model1.to(device)\n",
    "\n",
    "optimizer = optim.Adam(\n",
    "            model1.parameters(),\n",
    "            lr=hyperparameters['learning_rate'])\n",
    "\n",
    "model1.train()\n",
    "total_loss = 0\n",
    "for epoch in range(hyperparameters['epochs']):\n",
    "    for i, batch in enumerate(train_iter):\n",
    "\n",
    "        context = batch.context\n",
    "        word_sense = batch.wordsense\n",
    "        position = torch.tensor([int(POSITION.vocab.itos[x]) for x in batch.position])\n",
    "        \n",
    "        output = model1(context,position)\n",
    "        \n",
    "        loss = loss_function(output, word_sense.reshape(-1))\n",
    "        total_loss += loss.item()\n",
    "        \n",
    "        print(total_loss/(i+1), end='\\r')\n",
    "        \n",
    "        loss.backward()\n",
    "        \n",
    "        optimizer.step()\n",
    "        \n",
    "        optimizer.zero_grad()\n",
    "        \n",
    "torch.save(model1,'model1')"
   ]
  },
  {
   "cell_type": "code",
   "execution_count": 10,
   "metadata": {},
   "outputs": [
    {
     "name": "stdout",
     "output_type": "stream",
     "text": [
      "Total accuracy model 1: 67.29 %\n",
      "Per-word-form accuracy model 2:\n",
      "professional.a : 79.86 %\n",
      "bad.a : 76.34 %\n",
      "common.a : 56.79 %\n",
      "bring.v : 50.0 %\n",
      "active.a : 72.94 %\n",
      "hold.v : 50.25 %\n",
      "major.a : 56.58 %\n",
      "time.n : 71.03 %\n",
      "find.v : 65.9 %\n",
      "keep.v : 72.19 %\n",
      "build.v : 41.92 %\n",
      "order.n : 71.67 %\n",
      "extend.v : 54.47 %\n",
      "case.n : 49.56 %\n",
      "force.n : 80.07 %\n",
      "life.n : 74.63 %\n",
      "national.a : 70.53 %\n",
      "follow.v : 60.57 %\n",
      "security.n : 80.78 %\n",
      "point.n : 73.58 %\n",
      "lead.v : 50.37 %\n",
      "physical.a : 60.82 %\n",
      "see.v : 77.72 %\n",
      "line.n : 94.9 %\n",
      "critical.a : 61.45 %\n",
      "position.n : 58.04 %\n",
      "regular.a : 59.03 %\n",
      "positive.a : 60.94 %\n",
      "place.n : 70.26 %\n",
      "serve.v : 60.63 %\n"
     ]
    }
   ],
   "source": [
    "### TEST MODEL 1\n",
    "model1 = torch.load('model1')\n",
    "\n",
    "test_loss = 0   \n",
    "model1.eval()\n",
    "\n",
    "total = 0\n",
    "correct = 0\n",
    "\n",
    "per_word_form_total = dict.fromkeys(LEMMA.vocab.itos, 0)\n",
    "per_word_form_correct = dict.fromkeys(LEMMA.vocab.itos, 0)\n",
    "\n",
    "for i, batch in enumerate(test_iter):\n",
    "    \n",
    "    try:\n",
    "        context = batch.context\n",
    "        word_sense = batch.wordsense\n",
    "        lemma = batch.lemma\n",
    "        position = torch.tensor([int(POSITION.vocab.itos[x]) for x in batch.position])\n",
    "\n",
    "        with torch.no_grad(): \n",
    "            output = model1(context,position)\n",
    "            loss = loss_function(output, word_sense.reshape(-1))       \n",
    "            test_loss += loss.item()    \n",
    "            print('>', np.round(test_loss/(i+1), 4), end='\\r')\n",
    "            \n",
    "            # Calculate total accuracy\n",
    "            total += word_sense.size(0)\n",
    "            predicted = [WORDSENSE.vocab.itos[x] for x in torch.max(output, 1)[1]]\n",
    "            labels = [WORDSENSE.vocab.itos[x] for x in word_sense]\n",
    "            word_forms = [LEMMA.vocab.itos[x] for x in lemma]\n",
    "            \n",
    "            for n in range(len(predicted)):\n",
    "                if predicted[n] == labels[n]:\n",
    "                    correct += 1\n",
    "                    \n",
    "            # Calculate per_word_accuracy\n",
    "            for n,word_form in enumerate(word_forms):\n",
    "                if predicted[n] == labels[n]:\n",
    "                    per_word_form_correct[word_form] += 1\n",
    "                per_word_form_total[word_form] += 1\n",
    "\n",
    "    except ValueError:\n",
    "        pass\n",
    "\n",
    "accuracy1_model1 = correct / total\n",
    "accuracy2_model1 = {word_form : f'{np.round((per_word_form_correct[word_form] / per_word_form_total[word_form]) * 100,2)} %' for word_form in baseline_dict.keys() if per_word_form_total[word_form] > 0}\n",
    "\n",
    "print(f'Total accuracy model 1: {np.round(accuracy1_model1 * 100, 2)} %')\n",
    "\n",
    "print('Per-word-form accuracy model 2:')\n",
    "for k,v in accuracy2_model1.items():\n",
    "    print(f'{k} : {v}')"
   ]
  },
  {
   "cell_type": "code",
   "execution_count": null,
   "metadata": {},
   "outputs": [
    {
     "name": "stdout",
     "output_type": "stream",
     "text": [
      "26.187434102976133\r"
     ]
    }
   ],
   "source": [
    "### TRAIN MODEL 2\n",
    "\n",
    "train_iter, test_iter, WORDSENSE, LEMMA, POSITION, CONTEXT = dataloader('.', hyperparameters['batch_size'])\n",
    "\n",
    "loss_function = nn.CrossEntropyLoss()\n",
    "\n",
    "model2 = WSDModel_approach2(\n",
    "        num_words=len(CONTEXT.vocab),\n",
    "        num_labels=len(WORDSENSE.vocab),\n",
    "        i_dim=hyperparameters['embedding_dim'],\n",
    "        o_dim=hyperparameters['output_dim'])\n",
    "\n",
    "model2.to(device)\n",
    "\n",
    "optimizer = optim.Adam(\n",
    "            model2.parameters(),\n",
    "            lr=hyperparameters['learning_rate'])\n",
    "\n",
    "model2.train()\n",
    "total_loss = 0\n",
    "for epoch in range(hyperparameters['epochs']):\n",
    "    for i, batch in enumerate(train_iter):\n",
    "\n",
    "        word_sense = batch.wordsense\n",
    "        \n",
    "        output = model2(batch)\n",
    "        \n",
    "        loss = loss_function(output, word_sense.reshape(-1))\n",
    "        total_loss += loss.item()\n",
    "        \n",
    "        print(total_loss/(i+1), end='\\r')\n",
    "        \n",
    "        loss.backward()\n",
    "        \n",
    "        optimizer.step()\n",
    "        \n",
    "        optimizer.zero_grad()\n",
    "        \n",
    "torch.save(model2,'model2')"
   ]
  },
  {
   "cell_type": "code",
   "execution_count": null,
   "metadata": {},
   "outputs": [],
   "source": [
    "### TEST MODEL 2\n",
    "\n",
    "model2 = torch.load('model2')\n",
    "\n",
    "test_loss = 0   \n",
    "model2.eval()\n",
    "\n",
    "total = 0\n",
    "correct = 0\n",
    "\n",
    "per_word_form_total = dict.fromkeys(LEMMA.vocab.itos, 0)\n",
    "per_word_form_correct = dict.fromkeys(LEMMA.vocab.itos, 0)\n",
    "\n",
    "for i, batch in enumerate(test_iter):     \n",
    "    word_sense = batch.wordsense\n",
    "    lemma = batch.lemma\n",
    "    \n",
    "    with torch.no_grad(): \n",
    "        output = model2(batch)\n",
    "        loss = loss_function(output, word_sense.reshape(-1))       \n",
    "        test_loss += loss.item()\n",
    "        print('>', np.round(test_loss/(i+1), 4), end='\\r')\n",
    "        \n",
    "        # Calculate total accuracy\n",
    "        total += word_sense.size(0)\n",
    "        predicted = [WORDSENSE.vocab.itos[x] for x in torch.max(output, 1)[1]]\n",
    "        labels = [WORDSENSE.vocab.itos[x] for x in word_sense]\n",
    "        word_forms = [LEMMA.vocab.itos[x] for x in lemma]\n",
    "        \n",
    "        for n in range(len(predicted)):\n",
    "            if predicted[n] == labels[n]:\n",
    "                correct += 1\n",
    "                \n",
    "        # Calculate per-word-form accuracy\n",
    "        for n,word_form in enumerate(word_forms):\n",
    "            if predicted[n] == labels[n]:\n",
    "                per_word_form_correct[word_form] += 1\n",
    "            per_word_form_total[word_form] += 1\n",
    "\n",
    "accuracy1_model2 = correct / total\n",
    "accuracy2_model2 = {word_form : f'{np.round((per_word_form_correct[word_form] / per_word_form_total[word_form]) * 100,2)} %' for word_form in baseline_dict.keys() if per_word_form_total[word_form] > 0}\n",
    "print(f'Total accuracy model 2: {np.round(accuracy1_model2 * 100, 2)} %')\n",
    "\n",
    "print('Per-word-form accuracy model 2:')\n",
    "for k,v in accuracy2_model2.items():\n",
    "    print(f'{k} : {v}')"
   ]
  },
  {
   "cell_type": "markdown",
   "metadata": {},
   "source": [
    "# 2.2 Running a transformer for WSD"
   ]
  },
  {
   "cell_type": "markdown",
   "metadata": {},
   "source": [
    "In this section of the lab you'll try out the transformer, specifically the BERT model. For this we'll use the huggingface library (https://huggingface.co/).\n",
    "\n",
    "You can find the documentation for the BERT model here (https://huggingface.co/transformers/model_doc/bert.html) and a general usage guide here (https://huggingface.co/transformers/quickstart.html).\n",
    "\n",
    "What we're going to do is *fine-tune* the BERT model, i.e. update the weights of a pre-trained model. That is, we have a model that is trained on language modeling, but now we apply it to word sense disambiguation with the word representations it learnt from language modeling.\n",
    "\n",
    "We'll use the same data splits for training and testing as before, but this time you'll not use a torchtext dataloader. Rather now you create an iterator that collects N sentences (where N is the batch size) then use the BertTokenizer to transform the sentence into integers. For your dataloader, remember to:\n",
    "* Shuffle the data in each batch\n",
    "* Make sure you get a new iterator for each *epoch*\n",
    "* Create a vocabulary of *sense-labels* so you can calculate accuracy \n",
    "\n",
    "We then pass this batch into the BERT model and train as before. The BERT model will encode the sentence, then we send this encoded sentence into a prediction layer (you can either the the sentence-representation from bert, or the ambiguous word) like before and collect sense predictions.\n",
    "\n",
    "About the hyperparameters and training:\n",
    "* For BERT, usually a lower learning rate works best, between 0.0001-0.000001.\n",
    "* BERT takes alot of resources, running it on CPU will take ages, utilize the GPUs :)\n",
    "* Since BERT takes alot of resources, use a small batch size (4-8)\n",
    "* Computing the BERT representation, make sure you pass the mask\n",
    "\n",
    "**[10 marks]**"
   ]
  },
  {
   "cell_type": "code",
   "execution_count": null,
   "metadata": {},
   "outputs": [],
   "source": [
    "def dataloader_for_bert(path_to_file, batch_size):\n",
    "    ..."
   ]
  },
  {
   "cell_type": "code",
   "execution_count": null,
   "metadata": {},
   "outputs": [],
   "source": [
    "class BERT_WSD(nn.Module):\n",
    "    def __init__(self, ...):\n",
    "        # your code goes here\n",
    "        self.bert = ...\n",
    "        self.classifier = ...\n",
    "    \n",
    "    def forward(self, batch):\n",
    "        # your code goes here\n",
    "        \n",
    "        return predictions"
   ]
  },
  {
   "cell_type": "code",
   "execution_count": null,
   "metadata": {},
   "outputs": [],
   "source": [
    "loss_function = ...\n",
    "optimizer = ...\n",
    "model = ...\n",
    "\n",
    "for _ in range(epochs):\n",
    "    # train model\n",
    "    ...\n",
    "    \n",
    "# test model after all epochs are completed"
   ]
  },
  {
   "cell_type": "markdown",
   "metadata": {},
   "source": [
    "# 3. Evaluation"
   ]
  },
  {
   "cell_type": "markdown",
   "metadata": {},
   "source": [
    "Explain the difference between the first and second approach. What kind of representations are the different approaches using to predict word-senses? **[4 marks]**"
   ]
  },
  {
   "cell_type": "markdown",
   "metadata": {},
   "source": [
    "Model 1 uses a representation of the target word based on its context when it predicts the word sense. This means that the model only considers the representation of the target word when it disambiguates.\n",
    "\n",
    "Model 2 uses a representation of the whole context when it predicts the word sense, by looking at the final hidden state. In other words, we never specify to the model which word we want it to disambiguate."
   ]
  },
  {
   "cell_type": "markdown",
   "metadata": {},
   "source": [
    "Evaluate your model with per-word-form *accuracy* and comment on the results you get, how does the model perform in comparison to the baseline, and how do the models compare to each other? \n",
    "\n",
    "Expand on the evaluation by sorting the word-forms by the number of senses they have. Are word-forms with fewer senses easier to predict? Give a short explanation of the results you get based on the number of senses per word.\n",
    "\n",
    "**[6 marks]**"
   ]
  },
  {
   "cell_type": "code",
   "execution_count": null,
   "metadata": {},
   "outputs": [],
   "source": [
    "df = pd.DataFrame([accuracy2_model1,accuracy2_model2,baseline_dict,word_sense_counts])\n",
    "results = pd.DataFrame.transpose(df)\n",
    "results.columns = ['Model 1', 'Model 2', 'MSC score', 'Number of senses']\n",
    "results = results.sort_values('Number of senses',ascending=False)\n",
    "results"
   ]
  },
  {
   "cell_type": "markdown",
   "metadata": {},
   "source": [
    "When we compare the per-word-form accuracy of the two models with the MSC score, we can see a clear pattern. In all cases, model 1 performs better than just guessing the most common word sense for each lemma. Similarly, model 2 performs worse than the MSC score except in three cases.\n",
    "\n",
    "Regarding the number of word senses, there seems to be a weak correlation between the number of word senses and the performance of the models. The models perform worse than their average accuracy when a high number of word senses is combined with low MSC score (hold, follow, build, lead)."
   ]
  },
  {
   "cell_type": "markdown",
   "metadata": {},
   "source": [
    "How does the LSTMs perform in comparison to BERT? What's the difference between representations obtained by the LSTMs and BERT? **[2 marks]**"
   ]
  },
  {
   "cell_type": "code",
   "execution_count": null,
   "metadata": {},
   "outputs": [],
   "source": []
  },
  {
   "cell_type": "markdown",
   "metadata": {},
   "source": [
    "What could we do to improve our LSTM word sense disambiguation models and our BERT model? **[4 marks]**"
   ]
  },
  {
   "cell_type": "code",
   "execution_count": null,
   "metadata": {},
   "outputs": [],
   "source": []
  },
  {
   "cell_type": "markdown",
   "metadata": {},
   "source": [
    "# Readings:\n",
    "\n",
    "[1] Kågebäck, M., & Salomonsson, H. (2016). Word Sense Disambiguation using a Bidirectional LSTM. arXiv preprint arXiv:1606.03568.\n",
    "\n",
    "[2] https://cl.lingfil.uu.se/~nivre/master/NLP-LexSem.pdf"
   ]
  }
 ],
 "metadata": {
  "kernelspec": {
   "display_name": "Python 3",
   "language": "python",
   "name": "python3"
  },
  "language_info": {
   "codemirror_mode": {
    "name": "ipython",
    "version": 3
   },
   "file_extension": ".py",
   "mimetype": "text/x-python",
   "name": "python",
   "nbconvert_exporter": "python",
   "pygments_lexer": "ipython3",
   "version": "3.8.5"
  }
 },
 "nbformat": 4,
 "nbformat_minor": 2
}
